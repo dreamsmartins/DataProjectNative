{
  "cells": [
    {
      "cell_type": "markdown",
      "id": "obEUwnGcH3sp",
      "metadata": {
        "id": "obEUwnGcH3sp"
      },
      "source": [
        "# Day 3: Introduction to Data Analysis with pandas"
      ]
    },
    {
      "cell_type": "markdown",
      "id": "J2EU0ECUH3sr",
      "metadata": {
        "id": "J2EU0ECUH3sr"
      },
      "source": [
        "## Overview\n",
        "\n",
        "Welcome to Day 3! Today, we'll dive into the `pandas` library, a cornerstone of data manipulation and analysis in Python. We'll learn how to work with fundamental pandas structures like Series and DataFrames, load data from a CSV file (which you will upload), and perform essential tasks like exploring, cleaning, transforming, analyzing, and visualizing data.\n",
        "\n",
        "**Objectives:**\n",
        "\n",
        "1.  **Understand pandas Series and DataFrames:** Learn about these core data structures and how to create them.\n",
        "2.  **Load & Explore Data:** Import data from a CSV file (uploaded by you) and perform initial inspection.\n",
        "3.  **Data Cleaning:** Handle missing values, duplicates, incorrect data types, and formatting issues using the new dataset.\n",
        "4.  **Data Transformation:** Modify and reshape data by creating new columns, grouping, sorting, filtering, and selecting subsets using the new dataset.\n",
        "5.  **Basic Statistics:** Calculate summary statistics to understand data distributions and relationships in the new dataset.\n",
        "6.  **Basic Visualizations:** Create simple plots directly from pandas DataFrames to visualize patterns in the new dataset.\n",
        "7.  **Best Practices:** Reinforce the importance of clean, commented, and readable code."
      ]
    },
    {
      "cell_type": "markdown",
      "id": "N5Uq3Y5jH3ss",
      "metadata": {
        "id": "N5Uq3Y5jH3ss"
      },
      "source": [
        "## Setup: Importing Libraries\n",
        "\n",
        "First, we need to import the necessary libraries. Libraries extend Python's capabilities, providing specialized functions."
      ]
    },
    {
      "cell_type": "code",
      "execution_count": 6,
      "id": "JBlYednPH3st",
      "metadata": {
        "id": "JBlYednPH3st"
      },
      "outputs": [
        {
          "name": "stderr",
          "output_type": "stream",
          "text": [
            "Matplotlib is building the font cache; this may take a moment.\n"
          ]
        },
        {
          "name": "stdout",
          "output_type": "stream",
          "text": [
            "Libraries imported successfully!\n"
          ]
        }
      ],
      "source": [
        "# Import pandas for data manipulation and analysis\n",
        "import pandas as pd\n",
        "\n",
        "# Import numpy for numerical operations (often used with pandas)\n",
        "import numpy as np\n",
        "\n",
        "# Import matplotlib.pyplot for plotting\n",
        "import matplotlib.pyplot as plt\n",
        "\n",
        "# Import seaborn for enhanced visualizations (optional but good to know)\n",
        "import seaborn as sns\n",
        "\n",
        "print(\"Libraries imported successfully!\")"
      ]
    },
    {
      "cell_type": "markdown",
      "id": "JclY7uKaH3st",
      "metadata": {
        "id": "JclY7uKaH3st"
      },
      "source": [
        "**Library Explanations:**\n",
        "\n",
        "* **pandas (as pd):** The primary library for data analysis. It provides data structures like DataFrame and Series and functions for reading, writing, cleaning, transforming, and analyzing data. We use `as pd` as a standard convention to refer to pandas with a shorter alias.\n",
        "* **numpy (as np):** Fundamental package for numerical computation in Python. Pandas is built on top of NumPy. It's particularly useful for array operations and mathematical functions. `np` is the conventional alias.\n",
        "* **matplotlib.pyplot (as plt):** The most widely used library for creating static, animated, and interactive visualizations in Python. `plt` is the standard alias for its plotting interface.\n",
        "* **seaborn (as sns):** Built on top of Matplotlib, Seaborn provides a high-level interface for drawing attractive and informative statistical graphics. It often simplifies complex visualizations."
      ]
    },
    {
      "cell_type": "markdown",
      "id": "-auqjfXeH3su",
      "metadata": {
        "id": "-auqjfXeH3su"
      },
      "source": [
        "## Introduction to Core Pandas Structures: Series and DataFrame\n",
        "\n",
        "Before we load our main dataset, let's understand the two fundamental data structures provided by pandas."
      ]
    },
    {
      "cell_type": "markdown",
      "id": "1DUVbsWEH3su",
      "metadata": {
        "id": "1DUVbsWEH3su"
      },
      "source": [
        "### Pandas Series\n",
        "\n",
        "A **Series** is like a one-dimensional array or list, but with an associated **index**. The index allows us to label and access the data points efficiently. Think of it as a single column in a spreadsheet or table.\n",
        "\n",
        "Key characteristics:\n",
        "* One-dimensional.\n",
        "* Holds data of a single type (integers, floats, strings, etc.).\n",
        "* Has an index (by default, numerical starting from 0, but can be customized)."
      ]
    },
    {
      "cell_type": "code",
      "execution_count": 7,
      "id": "YinE5sVPH3su",
      "metadata": {
        "id": "YinE5sVPH3su"
      },
      "outputs": [
        {
          "name": "stdout",
          "output_type": "stream",
          "text": [
            "Simple Pandas Series (Student Marks):\n",
            "0    75\n",
            "1    85\n",
            "2    55\n",
            "3    60\n",
            "4    60\n",
            "dtype: int64\n",
            "\n",
            "Series with custom index (IDs):\n",
            "1    75\n",
            "2    85\n",
            "3    55\n",
            "4    60\n",
            "5    60\n",
            "dtype: int64\n"
          ]
        }
      ],
      "source": [
        "# Example: Creating a pandas Series from a Python list\n",
        "student_marks = [75, 85, 55, 60, 60]\n",
        "marks_series = pd.Series(student_marks)\n",
        "\n",
        "print(\"Simple Pandas Series (Student Marks):\")\n",
        "print(marks_series)\n",
        "\n",
        "# You can also specify a custom index (e.g., student IDs)\n",
        "ids = [1, 2, 3, 4, 5]\n",
        "marks_with_ids = pd.Series(student_marks, index=ids)\n",
        "print(\"\\nSeries with custom index (IDs):\")\n",
        "print(marks_with_ids)"
      ]
    },
    {
      "cell_type": "markdown",
      "id": "ZBkOCzFIH3su",
      "metadata": {
        "id": "ZBkOCzFIH3su"
      },
      "source": [
        "### Pandas DataFrame\n",
        "\n",
        "A **DataFrame** is a two-dimensional, size-mutable, and potentially heterogeneous tabular data structure with labeled axes (rows and columns). You can think of it as a spreadsheet, an SQL table, or a dictionary of Series objects (where each Series is a column).\n",
        "\n",
        "Key characteristics:\n",
        "* Two-dimensional (rows and columns).\n",
        "* Columns can have different data types.\n",
        "* Has both a row index and a column index.\n",
        "* Can be created from various inputs like dictionaries, lists of lists, NumPy arrays, etc."
      ]
    },
    {
      "cell_type": "code",
      "execution_count": 8,
      "id": "vSn5HQnsH3sv",
      "metadata": {
        "id": "vSn5HQnsH3sv"
      },
      "outputs": [
        {
          "name": "stdout",
          "output_type": "stream",
          "text": [
            "Simple Pandas DataFrame:\n"
          ]
        },
        {
          "data": {
            "application/vnd.microsoft.datawrangler.viewer.v0+json": {
              "columns": [
                {
                  "name": "index",
                  "rawType": "int64",
                  "type": "integer"
                },
                {
                  "name": "StudentID",
                  "rawType": "int64",
                  "type": "integer"
                },
                {
                  "name": "Subject",
                  "rawType": "object",
                  "type": "string"
                },
                {
                  "name": "Credits",
                  "rawType": "int64",
                  "type": "integer"
                }
              ],
              "conversionMethod": "pd.DataFrame",
              "ref": "b5b12b0b-7bf0-4911-906b-78c319042c21",
              "rows": [
                [
                  "0",
                  "101",
                  "Math",
                  "4"
                ],
                [
                  "1",
                  "102",
                  "Physics",
                  "3"
                ],
                [
                  "2",
                  "103",
                  "Chemistry",
                  "4"
                ]
              ],
              "shape": {
                "columns": 3,
                "rows": 3
              }
            },
            "text/html": [
              "<div>\n",
              "<style scoped>\n",
              "    .dataframe tbody tr th:only-of-type {\n",
              "        vertical-align: middle;\n",
              "    }\n",
              "\n",
              "    .dataframe tbody tr th {\n",
              "        vertical-align: top;\n",
              "    }\n",
              "\n",
              "    .dataframe thead th {\n",
              "        text-align: right;\n",
              "    }\n",
              "</style>\n",
              "<table border=\"1\" class=\"dataframe\">\n",
              "  <thead>\n",
              "    <tr style=\"text-align: right;\">\n",
              "      <th></th>\n",
              "      <th>StudentID</th>\n",
              "      <th>Subject</th>\n",
              "      <th>Credits</th>\n",
              "    </tr>\n",
              "  </thead>\n",
              "  <tbody>\n",
              "    <tr>\n",
              "      <th>0</th>\n",
              "      <td>101</td>\n",
              "      <td>Math</td>\n",
              "      <td>4</td>\n",
              "    </tr>\n",
              "    <tr>\n",
              "      <th>1</th>\n",
              "      <td>102</td>\n",
              "      <td>Physics</td>\n",
              "      <td>3</td>\n",
              "    </tr>\n",
              "    <tr>\n",
              "      <th>2</th>\n",
              "      <td>103</td>\n",
              "      <td>Chemistry</td>\n",
              "      <td>4</td>\n",
              "    </tr>\n",
              "  </tbody>\n",
              "</table>\n",
              "</div>"
            ],
            "text/plain": [
              "   StudentID    Subject  Credits\n",
              "0        101       Math        4\n",
              "1        102    Physics        3\n",
              "2        103  Chemistry        4"
            ]
          },
          "metadata": {},
          "output_type": "display_data"
        }
      ],
      "source": [
        "# Example: Creating a pandas DataFrame from a Python dictionary\n",
        "# Keys become column names, values (as lists or arrays) become column data.\n",
        "class_data = {\n",
        "    'StudentID': [101, 102, 103],\n",
        "    'Subject': ['Math', 'Physics', 'Chemistry'],\n",
        "    'Credits': [4, 3, 4]\n",
        "}\n",
        "\n",
        "simple_df = pd.DataFrame(class_data)\n",
        "\n",
        "print(\"Simple Pandas DataFrame:\")\n",
        "# display() gives better formatting in Jupyter/Colab notebooks\n",
        "display(simple_df)"
      ]
    },
    {
      "cell_type": "markdown",
      "id": "UETwEbC4H3sv",
      "metadata": {
        "id": "UETwEbC4H3sv"
      },
      "source": [
        "Now that we understand the basic building blocks (Series and DataFrame), let's load the main dataset (`student.csv`) for this session."
      ]
    },
    {
      "cell_type": "markdown",
      "id": "QKXPuZxCH3sv",
      "metadata": {
        "id": "QKXPuZxCH3sv"
      },
      "source": [
        "## Loading Data (student.csv)\n",
        "\n",
        "We will now load the `student.csv` dataset.\n",
        "\n",
        "**Action Required:** You need to upload this file to your Google Colab environment.\n",
        "\n",
        "**Steps to Upload in Google Colab:**\n",
        "1.  Look at the left-hand sidebar in Colab.\n",
        "2.  Click on the **Folder** icon.\n",
        "3.  Click on the **Upload to session storage** icon (looks like a page with an upward arrow).\n",
        "4.  Select the `student.csv` file from your computer.\n",
        "5.  Wait for the upload to complete. You should see `student.csv` listed in the file pane.\n",
        "\n",
        "**`student.csv` File Content:**\n",
        "Make sure your `student.csv` file contains exactly the following text:\n",
        "```csv\n",
        "id,name,class,mark,gender\n",
        "1,John Deo,Four,75,female\n",
        "2,Max Ruin,Three,85,male\n",
        "3,Arnold,Three,55,male\n",
        "4,Krish Star,Four,60,female\n",
        "5,John Mike,Four,60,female\n",
        "6,Alex John,Four,55,male\n",
        "7,My John Rob,Fifth,78,male\n",
        "8,Asruid,Five,85,male\n",
        "9,Tes Qry,Six,78,\n",
        "10,Big John,Four,55,female\n",
        "11,Ronald,Six,89,female\n",
        "12,Recky,Six,94,female\n",
        "13,Kty,Seven,88,female\n",
        "14,Bigy,Seven,88,female\n",
        "15,Tade Row,,88,male\n",
        "16,Gimmy,Four,88,male\n",
        "17,Tumyu,Six,54,male\n",
        "18,Honny,Five,75,male\n",
        "19,Tinny,Nine,18,male\n",
        "20,Jackly,Nine,65,female\n",
        "21,Babby John,Four,69,female\n",
        "22,Reggid,Seven,55,female\n",
        "23,Herod,Eight,79,male\n",
        "24,Tiddy Now,Seven,78,male\n",
        "25,Giff Tow,Seven,88,male\n",
        "26,Crelea,Seven,79,male\n",
        "27,,Three,81,\n",
        "28,Rojj Base,Seven,86,female\n",
        "29,Tess Played,Seven,55,male\n",
        "30,Reppy Red,Six,79,female\n",
        "31,Marry Toeey,Four,88,male\n",
        "32,Binn Rott,Seven,90,female\n",
        "33,Kenn Rein,Six,96,female\n",
        "34,Gain Toe,Seven,69,male\n",
        "35,Rows Noump,Six,88,female\n",
        "```"
      ]
    },
    {
      "cell_type": "code",
      "execution_count": 10,
      "id": "0LtXsY8GH3sv",
      "metadata": {
        "id": "0LtXsY8GH3sv"
      },
      "outputs": [
        {
          "name": "stdout",
          "output_type": "stream",
          "text": [
            "Successfully loaded 'student.csv' into a DataFrame. Now let's explore it.\n"
          ]
        }
      ],
      "source": [
        "# Define the filename\n",
        "csv_filename = 'student.csv'\n",
        "\n",
        "# --- Load the data from the CSV file using pd.read_csv() ---\n",
        "# This command assumes 'student.csv' is in the main directory of your Colab session storage.\n",
        "try:\n",
        "    df = pd.read_csv(csv_filename)\n",
        "    print(f\"Successfully loaded '{csv_filename}' into a DataFrame. Now let's explore it.\")\n",
        "except FileNotFoundError:\n",
        "    print(f\"ERROR: '{csv_filename}' not found.\")\n",
        "    print(\"Please make sure you have uploaded the file correctly to your Colab session.\")\n",
        "    # Optionally, stop execution or create an empty DataFrame\n",
        "    # import sys\n",
        "    # sys.exit()\n",
        "    df = pd.DataFrame() # Create empty DataFrame to avoid errors later, though examples won't work\n",
        "\n",
        "# We will display the first few rows in the next section if loading was successful"
      ]
    },
    {
      "cell_type": "markdown",
      "id": "94b0d6a4",
      "metadata": {},
      "source": [
        "**Workbook Week 6 Segun**"
      ]
    },
    {
      "cell_type": "code",
      "execution_count": 12,
      "id": "505826cc",
      "metadata": {},
      "outputs": [
        {
          "data": {
            "application/vnd.microsoft.datawrangler.viewer.v0+json": {
              "columns": [
                {
                  "name": "index",
                  "rawType": "int64",
                  "type": "integer"
                },
                {
                  "name": "id",
                  "rawType": "int64",
                  "type": "integer"
                },
                {
                  "name": "name",
                  "rawType": "object",
                  "type": "string"
                },
                {
                  "name": "class",
                  "rawType": "object",
                  "type": "string"
                },
                {
                  "name": "mark",
                  "rawType": "int64",
                  "type": "integer"
                },
                {
                  "name": "gender",
                  "rawType": "object",
                  "type": "string"
                }
              ],
              "conversionMethod": "pd.DataFrame",
              "ref": "ba339267-04cf-42c5-8333-ebbd268f3823",
              "rows": [
                [
                  "0",
                  "1",
                  "John Deo",
                  "Four",
                  "75",
                  "female"
                ],
                [
                  "1",
                  "2",
                  "Max Ruin",
                  "Three",
                  "85",
                  "male"
                ],
                [
                  "2",
                  "3",
                  "Arnold",
                  "Three",
                  "55",
                  "male"
                ],
                [
                  "3",
                  "4",
                  "Krish Star",
                  "Four",
                  "60",
                  "female"
                ],
                [
                  "4",
                  "5",
                  "John Mike",
                  "Four",
                  "60",
                  "female"
                ]
              ],
              "shape": {
                "columns": 5,
                "rows": 5
              }
            },
            "text/html": [
              "<div>\n",
              "<style scoped>\n",
              "    .dataframe tbody tr th:only-of-type {\n",
              "        vertical-align: middle;\n",
              "    }\n",
              "\n",
              "    .dataframe tbody tr th {\n",
              "        vertical-align: top;\n",
              "    }\n",
              "\n",
              "    .dataframe thead th {\n",
              "        text-align: right;\n",
              "    }\n",
              "</style>\n",
              "<table border=\"1\" class=\"dataframe\">\n",
              "  <thead>\n",
              "    <tr style=\"text-align: right;\">\n",
              "      <th></th>\n",
              "      <th>id</th>\n",
              "      <th>name</th>\n",
              "      <th>class</th>\n",
              "      <th>mark</th>\n",
              "      <th>gender</th>\n",
              "    </tr>\n",
              "  </thead>\n",
              "  <tbody>\n",
              "    <tr>\n",
              "      <th>0</th>\n",
              "      <td>1</td>\n",
              "      <td>John Deo</td>\n",
              "      <td>Four</td>\n",
              "      <td>75</td>\n",
              "      <td>female</td>\n",
              "    </tr>\n",
              "    <tr>\n",
              "      <th>1</th>\n",
              "      <td>2</td>\n",
              "      <td>Max Ruin</td>\n",
              "      <td>Three</td>\n",
              "      <td>85</td>\n",
              "      <td>male</td>\n",
              "    </tr>\n",
              "    <tr>\n",
              "      <th>2</th>\n",
              "      <td>3</td>\n",
              "      <td>Arnold</td>\n",
              "      <td>Three</td>\n",
              "      <td>55</td>\n",
              "      <td>male</td>\n",
              "    </tr>\n",
              "    <tr>\n",
              "      <th>3</th>\n",
              "      <td>4</td>\n",
              "      <td>Krish Star</td>\n",
              "      <td>Four</td>\n",
              "      <td>60</td>\n",
              "      <td>female</td>\n",
              "    </tr>\n",
              "    <tr>\n",
              "      <th>4</th>\n",
              "      <td>5</td>\n",
              "      <td>John Mike</td>\n",
              "      <td>Four</td>\n",
              "      <td>60</td>\n",
              "      <td>female</td>\n",
              "    </tr>\n",
              "  </tbody>\n",
              "</table>\n",
              "</div>"
            ],
            "text/plain": [
              "   id        name  class  mark  gender\n",
              "0   1    John Deo   Four    75  female\n",
              "1   2    Max Ruin  Three    85    male\n",
              "2   3      Arnold  Three    55    male\n",
              "3   4  Krish Star   Four    60  female\n",
              "4   5   John Mike   Four    60  female"
            ]
          },
          "metadata": {},
          "output_type": "display_data"
        }
      ],
      "source": [
        "# Define the filename\n",
        "csv_filename = 'student.csv'\n",
        "\n",
        "# Code to read the csv file\n",
        "df = pd.read_csv(csv_filename)\n",
        "\n",
        "# Code to display the first 5 rows of the Data frame\n",
        "display(df.head())\n",
        "#display(df.head(5))\n",
        "\n"
      ]
    },
    {
      "cell_type": "markdown",
      "id": "f89f4d97",
      "metadata": {},
      "source": [
        "### Getting Info and statistics"
      ]
    },
    {
      "cell_type": "code",
      "execution_count": 20,
      "id": "092970e9",
      "metadata": {},
      "outputs": [
        {
          "name": "stdout",
          "output_type": "stream",
          "text": [
            "<class 'pandas.core.frame.DataFrame'>\n",
            "RangeIndex: 35 entries, 0 to 34\n",
            "Data columns (total 5 columns):\n",
            " #   Column  Non-Null Count  Dtype \n",
            "---  ------  --------------  ----- \n",
            " 0   id      35 non-null     int64 \n",
            " 1   name    34 non-null     object\n",
            " 2   class   34 non-null     object\n",
            " 3   mark    35 non-null     int64 \n",
            " 4   gender  33 non-null     object\n",
            "dtypes: int64(2), object(3)\n",
            "memory usage: 1.5+ KB\n",
            "\n",
            "Information about the Dataframe Student\n",
            " None\n",
            "\n",
            "Statisics of Student DB\n",
            "               id       mark\n",
            "count  35.000000  35.000000\n",
            "mean   18.000000  74.657143\n",
            "std    10.246951  16.401117\n",
            "min     1.000000  18.000000\n",
            "25%     9.500000  62.500000\n",
            "50%    18.000000  79.000000\n",
            "75%    26.500000  88.000000\n",
            "max    35.000000  96.000000\n"
          ]
        }
      ],
      "source": [
        "#Information about the dataframe\n",
        "student_marks_info = df.info()\n",
        "print(\"\\nInformation about the Dataframe Student\\n\", student_marks_info)\n",
        "\n",
        "\n",
        "student_marks_stats = df.describe()\n",
        "#Statistics about the dataframe\n",
        "print(\"\\nStatisics of Student DB\\n\", student_marks_stats)\n"
      ]
    },
    {
      "cell_type": "markdown",
      "id": "6K8Yp__4H3sv",
      "metadata": {
        "id": "6K8Yp__4H3sv"
      },
      "source": [
        "## Initial Data Exploration\n",
        "\n",
        "Assuming the data loaded correctly, let's get our first look at this new dataset."
      ]
    },
    {
      "cell_type": "markdown",
      "id": "hBNrprebH3sv",
      "metadata": {
        "id": "hBNrprebH3sv"
      },
      "source": [
        "### Check Top/Bottom Rows (`df.head()` / `df.tail()`)"
      ]
    },
    {
      "cell_type": "code",
      "execution_count": 21,
      "id": "wm8OJQkpH3sv",
      "metadata": {
        "id": "wm8OJQkpH3sv"
      },
      "outputs": [
        {
          "name": "stdout",
          "output_type": "stream",
          "text": [
            "First 5 rows (df.head()):\n"
          ]
        },
        {
          "data": {
            "application/vnd.microsoft.datawrangler.viewer.v0+json": {
              "columns": [
                {
                  "name": "index",
                  "rawType": "int64",
                  "type": "integer"
                },
                {
                  "name": "id",
                  "rawType": "int64",
                  "type": "integer"
                },
                {
                  "name": "name",
                  "rawType": "object",
                  "type": "string"
                },
                {
                  "name": "class",
                  "rawType": "object",
                  "type": "string"
                },
                {
                  "name": "mark",
                  "rawType": "int64",
                  "type": "integer"
                },
                {
                  "name": "gender",
                  "rawType": "object",
                  "type": "string"
                }
              ],
              "conversionMethod": "pd.DataFrame",
              "ref": "31ead8e2-a895-40e7-8652-00385d7a66ee",
              "rows": [
                [
                  "0",
                  "1",
                  "John Deo",
                  "Four",
                  "75",
                  "female"
                ],
                [
                  "1",
                  "2",
                  "Max Ruin",
                  "Three",
                  "85",
                  "male"
                ],
                [
                  "2",
                  "3",
                  "Arnold",
                  "Three",
                  "55",
                  "male"
                ],
                [
                  "3",
                  "4",
                  "Krish Star",
                  "Four",
                  "60",
                  "female"
                ],
                [
                  "4",
                  "5",
                  "John Mike",
                  "Four",
                  "60",
                  "female"
                ]
              ],
              "shape": {
                "columns": 5,
                "rows": 5
              }
            },
            "text/html": [
              "<div>\n",
              "<style scoped>\n",
              "    .dataframe tbody tr th:only-of-type {\n",
              "        vertical-align: middle;\n",
              "    }\n",
              "\n",
              "    .dataframe tbody tr th {\n",
              "        vertical-align: top;\n",
              "    }\n",
              "\n",
              "    .dataframe thead th {\n",
              "        text-align: right;\n",
              "    }\n",
              "</style>\n",
              "<table border=\"1\" class=\"dataframe\">\n",
              "  <thead>\n",
              "    <tr style=\"text-align: right;\">\n",
              "      <th></th>\n",
              "      <th>id</th>\n",
              "      <th>name</th>\n",
              "      <th>class</th>\n",
              "      <th>mark</th>\n",
              "      <th>gender</th>\n",
              "    </tr>\n",
              "  </thead>\n",
              "  <tbody>\n",
              "    <tr>\n",
              "      <th>0</th>\n",
              "      <td>1</td>\n",
              "      <td>John Deo</td>\n",
              "      <td>Four</td>\n",
              "      <td>75</td>\n",
              "      <td>female</td>\n",
              "    </tr>\n",
              "    <tr>\n",
              "      <th>1</th>\n",
              "      <td>2</td>\n",
              "      <td>Max Ruin</td>\n",
              "      <td>Three</td>\n",
              "      <td>85</td>\n",
              "      <td>male</td>\n",
              "    </tr>\n",
              "    <tr>\n",
              "      <th>2</th>\n",
              "      <td>3</td>\n",
              "      <td>Arnold</td>\n",
              "      <td>Three</td>\n",
              "      <td>55</td>\n",
              "      <td>male</td>\n",
              "    </tr>\n",
              "    <tr>\n",
              "      <th>3</th>\n",
              "      <td>4</td>\n",
              "      <td>Krish Star</td>\n",
              "      <td>Four</td>\n",
              "      <td>60</td>\n",
              "      <td>female</td>\n",
              "    </tr>\n",
              "    <tr>\n",
              "      <th>4</th>\n",
              "      <td>5</td>\n",
              "      <td>John Mike</td>\n",
              "      <td>Four</td>\n",
              "      <td>60</td>\n",
              "      <td>female</td>\n",
              "    </tr>\n",
              "  </tbody>\n",
              "</table>\n",
              "</div>"
            ],
            "text/plain": [
              "   id        name  class  mark  gender\n",
              "0   1    John Deo   Four    75  female\n",
              "1   2    Max Ruin  Three    85    male\n",
              "2   3      Arnold  Three    55    male\n",
              "3   4  Krish Star   Four    60  female\n",
              "4   5   John Mike   Four    60  female"
            ]
          },
          "metadata": {},
          "output_type": "display_data"
        },
        {
          "name": "stdout",
          "output_type": "stream",
          "text": [
            "\n",
            "Last 3 rows (df.tail(3)):\n"
          ]
        },
        {
          "data": {
            "application/vnd.microsoft.datawrangler.viewer.v0+json": {
              "columns": [
                {
                  "name": "index",
                  "rawType": "int64",
                  "type": "integer"
                },
                {
                  "name": "id",
                  "rawType": "int64",
                  "type": "integer"
                },
                {
                  "name": "name",
                  "rawType": "object",
                  "type": "string"
                },
                {
                  "name": "class",
                  "rawType": "object",
                  "type": "string"
                },
                {
                  "name": "mark",
                  "rawType": "int64",
                  "type": "integer"
                },
                {
                  "name": "gender",
                  "rawType": "object",
                  "type": "string"
                }
              ],
              "conversionMethod": "pd.DataFrame",
              "ref": "8604803b-6f4e-4cbe-9baf-e51b570858a2",
              "rows": [
                [
                  "32",
                  "33",
                  "Kenn Rein",
                  "Six",
                  "96",
                  "female"
                ],
                [
                  "33",
                  "34",
                  "Gain Toe",
                  "Seven",
                  "69",
                  "male"
                ],
                [
                  "34",
                  "35",
                  "Rows Noump",
                  "Six",
                  "88",
                  "female"
                ]
              ],
              "shape": {
                "columns": 5,
                "rows": 3
              }
            },
            "text/html": [
              "<div>\n",
              "<style scoped>\n",
              "    .dataframe tbody tr th:only-of-type {\n",
              "        vertical-align: middle;\n",
              "    }\n",
              "\n",
              "    .dataframe tbody tr th {\n",
              "        vertical-align: top;\n",
              "    }\n",
              "\n",
              "    .dataframe thead th {\n",
              "        text-align: right;\n",
              "    }\n",
              "</style>\n",
              "<table border=\"1\" class=\"dataframe\">\n",
              "  <thead>\n",
              "    <tr style=\"text-align: right;\">\n",
              "      <th></th>\n",
              "      <th>id</th>\n",
              "      <th>name</th>\n",
              "      <th>class</th>\n",
              "      <th>mark</th>\n",
              "      <th>gender</th>\n",
              "    </tr>\n",
              "  </thead>\n",
              "  <tbody>\n",
              "    <tr>\n",
              "      <th>32</th>\n",
              "      <td>33</td>\n",
              "      <td>Kenn Rein</td>\n",
              "      <td>Six</td>\n",
              "      <td>96</td>\n",
              "      <td>female</td>\n",
              "    </tr>\n",
              "    <tr>\n",
              "      <th>33</th>\n",
              "      <td>34</td>\n",
              "      <td>Gain Toe</td>\n",
              "      <td>Seven</td>\n",
              "      <td>69</td>\n",
              "      <td>male</td>\n",
              "    </tr>\n",
              "    <tr>\n",
              "      <th>34</th>\n",
              "      <td>35</td>\n",
              "      <td>Rows Noump</td>\n",
              "      <td>Six</td>\n",
              "      <td>88</td>\n",
              "      <td>female</td>\n",
              "    </tr>\n",
              "  </tbody>\n",
              "</table>\n",
              "</div>"
            ],
            "text/plain": [
              "    id        name  class  mark  gender\n",
              "32  33   Kenn Rein    Six    96  female\n",
              "33  34    Gain Toe  Seven    69    male\n",
              "34  35  Rows Noump    Six    88  female"
            ]
          },
          "metadata": {},
          "output_type": "display_data"
        }
      ],
      "source": [
        "# Display the first 5 rows if the DataFrame exists\n",
        "if not df.empty:\n",
        "    print(\"First 5 rows (df.head()):\")\n",
        "    display(df.head())\n",
        "\n",
        "    # Display the last 3 rows\n",
        "    print(\"\\nLast 3 rows (df.tail(3)):\")\n",
        "    display(df.tail(3))\n",
        "else:\n",
        "    print(\"DataFrame is empty. Cannot display head/tail.\")"
      ]
    },
    {
      "cell_type": "markdown",
      "id": "-9UQ-dZCH3sw",
      "metadata": {
        "id": "-9UQ-dZCH3sw"
      },
      "source": [
        "### DataFrame Dimension Check (`df.shape`)"
      ]
    },
    {
      "cell_type": "code",
      "execution_count": 22,
      "id": "_nhJMsY2H3sw",
      "metadata": {
        "id": "_nhJMsY2H3sw"
      },
      "outputs": [
        {
          "name": "stdout",
          "output_type": "stream",
          "text": [
            "DataFrame Dimensions (df.shape): (35, 5)\n",
            "Number of rows: 35\n",
            "Number of columns: 5\n"
          ]
        }
      ],
      "source": [
        "if not df.empty:\n",
        "    # Get the dimensions (rows, columns)\n",
        "    rows, columns = df.shape\n",
        "    print(f\"DataFrame Dimensions (df.shape): {df.shape}\")\n",
        "    print(f\"Number of rows: {rows}\")\n",
        "    print(f\"Number of columns: {columns}\")\n",
        "else:\n",
        "     print(\"DataFrame is empty.\")"
      ]
    },
    {
      "cell_type": "markdown",
      "id": "crC26MxwH3sw",
      "metadata": {
        "id": "crC26MxwH3sw"
      },
      "source": [
        "### DataFrame Information Check (`df.info()`)\n",
        "\n",
        "`.info()` provides a summary including column names, non-null counts, and data types."
      ]
    },
    {
      "cell_type": "code",
      "execution_count": 23,
      "id": "7xMui5KHH3sw",
      "metadata": {
        "id": "7xMui5KHH3sw"
      },
      "outputs": [
        {
          "name": "stdout",
          "output_type": "stream",
          "text": [
            "DataFrame Information (df.info()):\n",
            "<class 'pandas.core.frame.DataFrame'>\n",
            "RangeIndex: 35 entries, 0 to 34\n",
            "Data columns (total 5 columns):\n",
            " #   Column  Non-Null Count  Dtype \n",
            "---  ------  --------------  ----- \n",
            " 0   id      35 non-null     int64 \n",
            " 1   name    34 non-null     object\n",
            " 2   class   34 non-null     object\n",
            " 3   mark    35 non-null     int64 \n",
            " 4   gender  33 non-null     object\n",
            "dtypes: int64(2), object(3)\n",
            "memory usage: 1.5+ KB\n"
          ]
        }
      ],
      "source": [
        "if not df.empty:\n",
        "    # Get a summary of the DataFrame\n",
        "    print(\"DataFrame Information (df.info()):\")\n",
        "    df.info()\n",
        "else:\n",
        "     print(\"DataFrame is empty.\")"
      ]
    },
    {
      "cell_type": "markdown",
      "id": "0wMBPyFzH3sw",
      "metadata": {
        "id": "0wMBPyFzH3sw"
      },
      "source": [
        "### Check Data Types (`df.dtypes`)"
      ]
    },
    {
      "cell_type": "code",
      "execution_count": 24,
      "id": "GIyY8jnmH3sw",
      "metadata": {
        "id": "GIyY8jnmH3sw"
      },
      "outputs": [
        {
          "name": "stdout",
          "output_type": "stream",
          "text": [
            "Data Types of Each Column (df.dtypes):\n",
            "id         int64\n",
            "name      object\n",
            "class     object\n",
            "mark       int64\n",
            "gender    object\n",
            "dtype: object\n"
          ]
        }
      ],
      "source": [
        "if not df.empty:\n",
        "    # Get the data types of each column\n",
        "    print(\"Data Types of Each Column (df.dtypes):\")\n",
        "    print(df.dtypes)\n",
        "else:\n",
        "     print(\"DataFrame is empty.\")"
      ]
    },
    {
      "cell_type": "markdown",
      "id": "tITJCgaVH3sw",
      "metadata": {
        "id": "tITJCgaVH3sw"
      },
      "source": [
        "### Get Column Names (`df.columns`)"
      ]
    },
    {
      "cell_type": "code",
      "execution_count": 25,
      "id": "q9g1zLvoH3sw",
      "metadata": {
        "id": "q9g1zLvoH3sw"
      },
      "outputs": [
        {
          "name": "stdout",
          "output_type": "stream",
          "text": [
            "DataFrame Column Names (df.columns):\n",
            "Index(['id', 'name', 'class', 'mark', 'gender'], dtype='object')\n"
          ]
        }
      ],
      "source": [
        "if not df.empty:\n",
        "    # Get the list of column names\n",
        "    print(\"DataFrame Column Names (df.columns):\")\n",
        "    print(df.columns)\n",
        "    # Convert to a list\n",
        "    # print(list(df.columns))\n",
        "else:\n",
        "     print(\"DataFrame is empty.\")"
      ]
    },
    {
      "cell_type": "markdown",
      "id": "1ztfCkB2H3sw",
      "metadata": {
        "id": "1ztfCkB2H3sw"
      },
      "source": [
        "### Missing Value Check (`df.isnull().sum()` and `df.isnull().sum().sum()`)\n",
        "\n",
        "Let's quantify the missing values revealed by `.info()`."
      ]
    },
    {
      "cell_type": "code",
      "execution_count": 27,
      "id": "FSfAy84-H3sx",
      "metadata": {
        "id": "FSfAy84-H3sx"
      },
      "outputs": [
        {
          "name": "stdout",
          "output_type": "stream",
          "text": [
            "Missing values per column (df.isnull().sum()):\n",
            "id        0\n",
            "name      1\n",
            "class     1\n",
            "mark      0\n",
            "gender    2\n",
            "dtype: int64\n",
            "\n",
            "Total missing values in the DataFrame: 4\n"
          ]
        }
      ],
      "source": [
        "if not df.empty:\n",
        "    # Count missing values per column\n",
        "    print(\"Missing values per column (df.isnull().sum()):\")\n",
        "    missing_per_column = df.isnull().sum()\n",
        "    print(missing_per_column)\n",
        "\n",
        "    # Count total missing values in the DataFrame\n",
        "    total_missing = missing_per_column.sum()\n",
        "    # Alternative: df.isnull().sum().sum()\n",
        "    print(f\"\\nTotal missing values in the DataFrame: {total_missing}\")\n",
        "else:\n",
        "     print(\"DataFrame is empty.\")"
      ]
    },
    {
      "cell_type": "markdown",
      "id": "4eC77-NEH3sx",
      "metadata": {
        "id": "4eC77-NEH3sx"
      },
      "source": [
        "**Observations from Exploration:**\n",
        "* The dataset has 35 rows and 5 columns: `id`, `name`, `class`, `mark`, `gender`.\n",
        "* `id` and `mark` are likely intended as numerical (check dtypes).\n",
        "* `name`, `class`, and `gender` are likely strings (object dtype).\n",
        "* There are missing values (`NaN` or empty strings interpreted as NaN) in the `name`, `class`, and `gender` columns."
      ]
    },
    {
      "cell_type": "markdown",
      "id": "KeLP6HmeH3sx",
      "metadata": {
        "id": "KeLP6HmeH3sx"
      },
      "source": [
        "## Section 1: Data Cleaning\n",
        "\n",
        "Let's address the issues identified during exploration, such as missing values and potential type inconsistencies."
      ]
    },
    {
      "cell_type": "markdown",
      "id": "A3N0iI_eH3sx",
      "metadata": {
        "id": "A3N0iI_eH3sx"
      },
      "source": [
        "### 1.1 Detecting Missing Values (`.isna()` / `.isnull()`)\n",
        "\n",
        "We've already used `isnull().sum()`. The base method returns a boolean DataFrame."
      ]
    },
    {
      "cell_type": "code",
      "execution_count": 29,
      "id": "MrOX2NYkH3sx",
      "metadata": {
        "id": "MrOX2NYkH3sx"
      },
      "outputs": [
        {
          "name": "stdout",
          "output_type": "stream",
          "text": [
            "Boolean DataFrame indicating missing values (first 10 rows):\n"
          ]
        },
        {
          "data": {
            "application/vnd.microsoft.datawrangler.viewer.v0+json": {
              "columns": [
                {
                  "name": "index",
                  "rawType": "int64",
                  "type": "integer"
                },
                {
                  "name": "id",
                  "rawType": "bool",
                  "type": "boolean"
                },
                {
                  "name": "name",
                  "rawType": "bool",
                  "type": "boolean"
                },
                {
                  "name": "class",
                  "rawType": "bool",
                  "type": "boolean"
                },
                {
                  "name": "mark",
                  "rawType": "bool",
                  "type": "boolean"
                },
                {
                  "name": "gender",
                  "rawType": "bool",
                  "type": "boolean"
                }
              ],
              "conversionMethod": "pd.DataFrame",
              "ref": "ddc031ff-d4a5-4b4d-b072-63b37298a478",
              "rows": [
                [
                  "0",
                  "False",
                  "False",
                  "False",
                  "False",
                  "False"
                ],
                [
                  "1",
                  "False",
                  "False",
                  "False",
                  "False",
                  "False"
                ],
                [
                  "2",
                  "False",
                  "False",
                  "False",
                  "False",
                  "False"
                ],
                [
                  "3",
                  "False",
                  "False",
                  "False",
                  "False",
                  "False"
                ],
                [
                  "4",
                  "False",
                  "False",
                  "False",
                  "False",
                  "False"
                ],
                [
                  "5",
                  "False",
                  "False",
                  "False",
                  "False",
                  "False"
                ],
                [
                  "6",
                  "False",
                  "False",
                  "False",
                  "False",
                  "False"
                ],
                [
                  "7",
                  "False",
                  "False",
                  "False",
                  "False",
                  "False"
                ],
                [
                  "8",
                  "False",
                  "False",
                  "False",
                  "False",
                  "True"
                ],
                [
                  "9",
                  "False",
                  "False",
                  "False",
                  "False",
                  "False"
                ]
              ],
              "shape": {
                "columns": 5,
                "rows": 10
              }
            },
            "text/html": [
              "<div>\n",
              "<style scoped>\n",
              "    .dataframe tbody tr th:only-of-type {\n",
              "        vertical-align: middle;\n",
              "    }\n",
              "\n",
              "    .dataframe tbody tr th {\n",
              "        vertical-align: top;\n",
              "    }\n",
              "\n",
              "    .dataframe thead th {\n",
              "        text-align: right;\n",
              "    }\n",
              "</style>\n",
              "<table border=\"1\" class=\"dataframe\">\n",
              "  <thead>\n",
              "    <tr style=\"text-align: right;\">\n",
              "      <th></th>\n",
              "      <th>id</th>\n",
              "      <th>name</th>\n",
              "      <th>class</th>\n",
              "      <th>mark</th>\n",
              "      <th>gender</th>\n",
              "    </tr>\n",
              "  </thead>\n",
              "  <tbody>\n",
              "    <tr>\n",
              "      <th>0</th>\n",
              "      <td>False</td>\n",
              "      <td>False</td>\n",
              "      <td>False</td>\n",
              "      <td>False</td>\n",
              "      <td>False</td>\n",
              "    </tr>\n",
              "    <tr>\n",
              "      <th>1</th>\n",
              "      <td>False</td>\n",
              "      <td>False</td>\n",
              "      <td>False</td>\n",
              "      <td>False</td>\n",
              "      <td>False</td>\n",
              "    </tr>\n",
              "    <tr>\n",
              "      <th>2</th>\n",
              "      <td>False</td>\n",
              "      <td>False</td>\n",
              "      <td>False</td>\n",
              "      <td>False</td>\n",
              "      <td>False</td>\n",
              "    </tr>\n",
              "    <tr>\n",
              "      <th>3</th>\n",
              "      <td>False</td>\n",
              "      <td>False</td>\n",
              "      <td>False</td>\n",
              "      <td>False</td>\n",
              "      <td>False</td>\n",
              "    </tr>\n",
              "    <tr>\n",
              "      <th>4</th>\n",
              "      <td>False</td>\n",
              "      <td>False</td>\n",
              "      <td>False</td>\n",
              "      <td>False</td>\n",
              "      <td>False</td>\n",
              "    </tr>\n",
              "    <tr>\n",
              "      <th>5</th>\n",
              "      <td>False</td>\n",
              "      <td>False</td>\n",
              "      <td>False</td>\n",
              "      <td>False</td>\n",
              "      <td>False</td>\n",
              "    </tr>\n",
              "    <tr>\n",
              "      <th>6</th>\n",
              "      <td>False</td>\n",
              "      <td>False</td>\n",
              "      <td>False</td>\n",
              "      <td>False</td>\n",
              "      <td>False</td>\n",
              "    </tr>\n",
              "    <tr>\n",
              "      <th>7</th>\n",
              "      <td>False</td>\n",
              "      <td>False</td>\n",
              "      <td>False</td>\n",
              "      <td>False</td>\n",
              "      <td>False</td>\n",
              "    </tr>\n",
              "    <tr>\n",
              "      <th>8</th>\n",
              "      <td>False</td>\n",
              "      <td>False</td>\n",
              "      <td>False</td>\n",
              "      <td>False</td>\n",
              "      <td>True</td>\n",
              "    </tr>\n",
              "    <tr>\n",
              "      <th>9</th>\n",
              "      <td>False</td>\n",
              "      <td>False</td>\n",
              "      <td>False</td>\n",
              "      <td>False</td>\n",
              "      <td>False</td>\n",
              "    </tr>\n",
              "  </tbody>\n",
              "</table>\n",
              "</div>"
            ],
            "text/plain": [
              "      id   name  class   mark  gender\n",
              "0  False  False  False  False   False\n",
              "1  False  False  False  False   False\n",
              "2  False  False  False  False   False\n",
              "3  False  False  False  False   False\n",
              "4  False  False  False  False   False\n",
              "5  False  False  False  False   False\n",
              "6  False  False  False  False   False\n",
              "7  False  False  False  False   False\n",
              "8  False  False  False  False    True\n",
              "9  False  False  False  False   False"
            ]
          },
          "metadata": {},
          "output_type": "display_data"
        }
      ],
      "source": [
        "if not df.empty:\n",
        "    # Show where values are missing (True if missing)\n",
        "    print(\"Boolean DataFrame indicating missing values (first 10 rows):\")\n",
        "    display(df.isnull().head(10))\n",
        "else:\n",
        "    print(\"DataFrame is empty.\")"
      ]
    },
    {
      "cell_type": "markdown",
      "id": "3PmzEtebH3sy",
      "metadata": {
        "id": "3PmzEtebH3sy"
      },
      "source": [
        "### 1.2 Removing Missing Values (`.dropna()`)\n",
        "\n",
        "This removes rows or columns with `NaN` values. Let's see what happens if we drop rows with *any* missing values in our dataset."
      ]
    },
    {
      "cell_type": "code",
      "execution_count": 30,
      "id": "f0pZ-VacH3sy",
      "metadata": {
        "id": "f0pZ-VacH3sy"
      },
      "outputs": [
        {
          "name": "stdout",
          "output_type": "stream",
          "text": [
            "Original DataFrame shape: (35, 5)\n",
            "DataFrame shape after dropping rows with any NaN: (32, 5)\n",
            "\n",
            "DataFrame shape after dropping rows with missing 'class': (34, 5)\n"
          ]
        }
      ],
      "source": [
        "if not df.empty:\n",
        "    # Create a copy to demonstrate dropping rows\n",
        "    df_dropped = df.copy()\n",
        "    original_shape = df_dropped.shape\n",
        "\n",
        "    # Drop rows with *any* missing values\n",
        "    df_dropped.dropna(inplace=True)\n",
        "\n",
        "    print(f\"Original DataFrame shape: {original_shape}\")\n",
        "    print(f\"DataFrame shape after dropping rows with any NaN: {df_dropped.shape}\")\n",
        "    # Note: Many rows were likely dropped due to missing name, class, or gender.\n",
        "\n",
        "    # Example: Drop rows ONLY if 'class' is missing\n",
        "    df_dropped_class_nan = df.copy()\n",
        "    df_dropped_class_nan.dropna(subset=['class'], inplace=True)\n",
        "    print(f\"\\nDataFrame shape after dropping rows with missing 'class': {df_dropped_class_nan.shape}\")\n",
        "\n",
        "else:\n",
        "    print(\"DataFrame is empty.\")"
      ]
    },
    {
      "cell_type": "markdown",
      "id": "Q15uv_XNH3sy",
      "metadata": {
        "id": "Q15uv_XNH3sy"
      },
      "source": [
        "### 1.3 Filling Missing Values (`.fillna()`)\n",
        "\n",
        "Dropping rows can remove too much data. Let's try filling (`imputing`) missing values instead. We'll fill missing `class` and `gender` with 'Unknown' and missing `name` with 'Unnamed'."
      ]
    },
    {
      "cell_type": "code",
      "execution_count": 31,
      "id": "4cjt4FhHH3sy",
      "metadata": {
        "id": "4cjt4FhHH3sy"
      },
      "outputs": [
        {
          "name": "stdout",
          "output_type": "stream",
          "text": [
            "Filled 'class' NaN with 'Unknown'.\n",
            "Replaced empty gender strings with NaN, then filled NaN with 'Unknown'.\n",
            "Filled 'name' NaN with 'Unnamed'.\n",
            "\n",
            "Missing values per column after filling:\n",
            "id        0\n",
            "name      0\n",
            "class     0\n",
            "mark      0\n",
            "gender    0\n",
            "dtype: int64\n",
            "\n",
            "DataFrame after filling missing values (first 10 rows):\n"
          ]
        },
        {
          "name": "stderr",
          "output_type": "stream",
          "text": [
            "/var/folders/c9/7_72dlr944l61btxxt5tkfd40000gp/T/ipykernel_12944/2652468620.py:6: FutureWarning: A value is trying to be set on a copy of a DataFrame or Series through chained assignment using an inplace method.\n",
            "The behavior will change in pandas 3.0. This inplace method will never work because the intermediate object on which we are setting values always behaves as a copy.\n",
            "\n",
            "For example, when doing 'df[col].method(value, inplace=True)', try using 'df.method({col: value}, inplace=True)' or df[col] = df[col].method(value) instead, to perform the operation inplace on the original object.\n",
            "\n",
            "\n",
            "  df_filled['class'].fillna('Unknown', inplace=True)\n",
            "/var/folders/c9/7_72dlr944l61btxxt5tkfd40000gp/T/ipykernel_12944/2652468620.py:12: FutureWarning: A value is trying to be set on a copy of a DataFrame or Series through chained assignment using an inplace method.\n",
            "The behavior will change in pandas 3.0. This inplace method will never work because the intermediate object on which we are setting values always behaves as a copy.\n",
            "\n",
            "For example, when doing 'df[col].method(value, inplace=True)', try using 'df.method({col: value}, inplace=True)' or df[col] = df[col].method(value) instead, to perform the operation inplace on the original object.\n",
            "\n",
            "\n",
            "  df_filled['gender'].replace('', np.nan, inplace=True) # Replace empty string with NaN first\n",
            "/var/folders/c9/7_72dlr944l61btxxt5tkfd40000gp/T/ipykernel_12944/2652468620.py:13: FutureWarning: A value is trying to be set on a copy of a DataFrame or Series through chained assignment using an inplace method.\n",
            "The behavior will change in pandas 3.0. This inplace method will never work because the intermediate object on which we are setting values always behaves as a copy.\n",
            "\n",
            "For example, when doing 'df[col].method(value, inplace=True)', try using 'df.method({col: value}, inplace=True)' or df[col] = df[col].method(value) instead, to perform the operation inplace on the original object.\n",
            "\n",
            "\n",
            "  df_filled['gender'].fillna('Unknown', inplace=True)\n",
            "/var/folders/c9/7_72dlr944l61btxxt5tkfd40000gp/T/ipykernel_12944/2652468620.py:17: FutureWarning: A value is trying to be set on a copy of a DataFrame or Series through chained assignment using an inplace method.\n",
            "The behavior will change in pandas 3.0. This inplace method will never work because the intermediate object on which we are setting values always behaves as a copy.\n",
            "\n",
            "For example, when doing 'df[col].method(value, inplace=True)', try using 'df.method({col: value}, inplace=True)' or df[col] = df[col].method(value) instead, to perform the operation inplace on the original object.\n",
            "\n",
            "\n",
            "  df_filled['name'].fillna('Unnamed', inplace=True)\n"
          ]
        },
        {
          "data": {
            "application/vnd.microsoft.datawrangler.viewer.v0+json": {
              "columns": [
                {
                  "name": "index",
                  "rawType": "int64",
                  "type": "integer"
                },
                {
                  "name": "id",
                  "rawType": "int64",
                  "type": "integer"
                },
                {
                  "name": "name",
                  "rawType": "object",
                  "type": "string"
                },
                {
                  "name": "class",
                  "rawType": "object",
                  "type": "string"
                },
                {
                  "name": "mark",
                  "rawType": "int64",
                  "type": "integer"
                },
                {
                  "name": "gender",
                  "rawType": "object",
                  "type": "string"
                }
              ],
              "conversionMethod": "pd.DataFrame",
              "ref": "ea897279-b4f9-4be0-a249-e13fc8f166ce",
              "rows": [
                [
                  "0",
                  "1",
                  "John Deo",
                  "Four",
                  "75",
                  "female"
                ],
                [
                  "1",
                  "2",
                  "Max Ruin",
                  "Three",
                  "85",
                  "male"
                ],
                [
                  "2",
                  "3",
                  "Arnold",
                  "Three",
                  "55",
                  "male"
                ],
                [
                  "3",
                  "4",
                  "Krish Star",
                  "Four",
                  "60",
                  "female"
                ],
                [
                  "4",
                  "5",
                  "John Mike",
                  "Four",
                  "60",
                  "female"
                ],
                [
                  "5",
                  "6",
                  "Alex John",
                  "Four",
                  "55",
                  "male"
                ],
                [
                  "6",
                  "7",
                  "My John Rob",
                  "Fifth",
                  "78",
                  "male"
                ],
                [
                  "7",
                  "8",
                  "Asruid",
                  "Five",
                  "85",
                  "male"
                ],
                [
                  "8",
                  "9",
                  "Tes Qry",
                  "Six",
                  "78",
                  "Unknown"
                ],
                [
                  "9",
                  "10",
                  "Big John",
                  "Four",
                  "55",
                  "female"
                ]
              ],
              "shape": {
                "columns": 5,
                "rows": 10
              }
            },
            "text/html": [
              "<div>\n",
              "<style scoped>\n",
              "    .dataframe tbody tr th:only-of-type {\n",
              "        vertical-align: middle;\n",
              "    }\n",
              "\n",
              "    .dataframe tbody tr th {\n",
              "        vertical-align: top;\n",
              "    }\n",
              "\n",
              "    .dataframe thead th {\n",
              "        text-align: right;\n",
              "    }\n",
              "</style>\n",
              "<table border=\"1\" class=\"dataframe\">\n",
              "  <thead>\n",
              "    <tr style=\"text-align: right;\">\n",
              "      <th></th>\n",
              "      <th>id</th>\n",
              "      <th>name</th>\n",
              "      <th>class</th>\n",
              "      <th>mark</th>\n",
              "      <th>gender</th>\n",
              "    </tr>\n",
              "  </thead>\n",
              "  <tbody>\n",
              "    <tr>\n",
              "      <th>0</th>\n",
              "      <td>1</td>\n",
              "      <td>John Deo</td>\n",
              "      <td>Four</td>\n",
              "      <td>75</td>\n",
              "      <td>female</td>\n",
              "    </tr>\n",
              "    <tr>\n",
              "      <th>1</th>\n",
              "      <td>2</td>\n",
              "      <td>Max Ruin</td>\n",
              "      <td>Three</td>\n",
              "      <td>85</td>\n",
              "      <td>male</td>\n",
              "    </tr>\n",
              "    <tr>\n",
              "      <th>2</th>\n",
              "      <td>3</td>\n",
              "      <td>Arnold</td>\n",
              "      <td>Three</td>\n",
              "      <td>55</td>\n",
              "      <td>male</td>\n",
              "    </tr>\n",
              "    <tr>\n",
              "      <th>3</th>\n",
              "      <td>4</td>\n",
              "      <td>Krish Star</td>\n",
              "      <td>Four</td>\n",
              "      <td>60</td>\n",
              "      <td>female</td>\n",
              "    </tr>\n",
              "    <tr>\n",
              "      <th>4</th>\n",
              "      <td>5</td>\n",
              "      <td>John Mike</td>\n",
              "      <td>Four</td>\n",
              "      <td>60</td>\n",
              "      <td>female</td>\n",
              "    </tr>\n",
              "    <tr>\n",
              "      <th>5</th>\n",
              "      <td>6</td>\n",
              "      <td>Alex John</td>\n",
              "      <td>Four</td>\n",
              "      <td>55</td>\n",
              "      <td>male</td>\n",
              "    </tr>\n",
              "    <tr>\n",
              "      <th>6</th>\n",
              "      <td>7</td>\n",
              "      <td>My John Rob</td>\n",
              "      <td>Fifth</td>\n",
              "      <td>78</td>\n",
              "      <td>male</td>\n",
              "    </tr>\n",
              "    <tr>\n",
              "      <th>7</th>\n",
              "      <td>8</td>\n",
              "      <td>Asruid</td>\n",
              "      <td>Five</td>\n",
              "      <td>85</td>\n",
              "      <td>male</td>\n",
              "    </tr>\n",
              "    <tr>\n",
              "      <th>8</th>\n",
              "      <td>9</td>\n",
              "      <td>Tes Qry</td>\n",
              "      <td>Six</td>\n",
              "      <td>78</td>\n",
              "      <td>Unknown</td>\n",
              "    </tr>\n",
              "    <tr>\n",
              "      <th>9</th>\n",
              "      <td>10</td>\n",
              "      <td>Big John</td>\n",
              "      <td>Four</td>\n",
              "      <td>55</td>\n",
              "      <td>female</td>\n",
              "    </tr>\n",
              "  </tbody>\n",
              "</table>\n",
              "</div>"
            ],
            "text/plain": [
              "   id         name  class  mark   gender\n",
              "0   1     John Deo   Four    75   female\n",
              "1   2     Max Ruin  Three    85     male\n",
              "2   3       Arnold  Three    55     male\n",
              "3   4   Krish Star   Four    60   female\n",
              "4   5    John Mike   Four    60   female\n",
              "5   6    Alex John   Four    55     male\n",
              "6   7  My John Rob  Fifth    78     male\n",
              "7   8       Asruid   Five    85     male\n",
              "8   9      Tes Qry    Six    78  Unknown\n",
              "9  10     Big John   Four    55   female"
            ]
          },
          "metadata": {},
          "output_type": "display_data"
        }
      ],
      "source": [
        "if not df.empty:\n",
        "    # Create a copy for filling\n",
        "    df_filled = df.copy()\n",
        "\n",
        "    # Fill missing 'class' with 'Unknown'\n",
        "    df_filled['class'].fillna('Unknown', inplace=True)\n",
        "    print(\"Filled 'class' NaN with 'Unknown'.\")\n",
        "\n",
        "    # Fill missing 'gender' with 'Unknown'\n",
        "    # Note: The CSV has empty strings for some genders, read_csv might treat them as NaN or not.\n",
        "    # If they are empty strings '', fillna won't affect them. We might need replace first.\n",
        "    df_filled['gender'].replace('', np.nan, inplace=True) # Replace empty string with NaN first\n",
        "    df_filled['gender'].fillna('Unknown', inplace=True)\n",
        "    print(\"Replaced empty gender strings with NaN, then filled NaN with 'Unknown'.\")\n",
        "\n",
        "    # Fill missing 'name' with 'Unnamed'\n",
        "    df_filled['name'].fillna('Unnamed', inplace=True)\n",
        "    print(\"Filled 'name' NaN with 'Unnamed'.\")\n",
        "\n",
        "    print(\"\\nMissing values per column after filling:\")\n",
        "    print(df_filled.isnull().sum())\n",
        "\n",
        "    print(\"\\nDataFrame after filling missing values (first 10 rows):\")\n",
        "    display(df_filled.head(10))\n",
        "\n",
        "    # Let's use this filled DataFrame for subsequent steps\n",
        "    df_cleaned = df_filled.copy()\n",
        "else:\n",
        "    print(\"DataFrame is empty. Skipping cleaning steps.\")\n",
        "    # Create an empty df_cleaned to avoid errors if needed by later cells\n",
        "    df_cleaned = pd.DataFrame(columns=df.columns)"
      ]
    },
    {
      "cell_type": "markdown",
      "id": "bjz71Vd4H3sy",
      "metadata": {
        "id": "bjz71Vd4H3sy"
      },
      "source": [
        "### 1.4 Replace Values (`.replace()`)\n",
        "\n",
        "`.replace()` can substitute specific values. We already used it for empty strings in `gender`. Let's say we want to standardize 'Four' to '4th' and 'Three' to '3rd'."
      ]
    },
    {
      "cell_type": "code",
      "execution_count": 32,
      "id": "CtQCIBkNH3sy",
      "metadata": {
        "id": "CtQCIBkNH3sy"
      },
      "outputs": [
        {
          "name": "stdout",
          "output_type": "stream",
          "text": [
            "Class values before replace:\n",
            "class\n",
            "Seven      10\n",
            "Four        8\n",
            "Six         7\n",
            "Three       3\n",
            "Five        2\n",
            "Nine        2\n",
            "Fifth       1\n",
            "Unknown     1\n",
            "Eight       1\n",
            "Name: count, dtype: int64\n",
            "\n",
            "Class values after replace:\n",
            "class\n",
            "Seven      10\n",
            "4th         8\n",
            "Six         7\n",
            "3rd         3\n",
            "Five        2\n",
            "Nine        2\n",
            "Fifth       1\n",
            "Unknown     1\n",
            "Eight       1\n",
            "Name: count, dtype: int64\n"
          ]
        }
      ],
      "source": [
        "if not df_cleaned.empty:\n",
        "    print(\"Class values before replace:\")\n",
        "    print(df_cleaned['class'].value_counts())\n",
        "\n",
        "    # Replace using a dictionary\n",
        "    df_cleaned.replace({\"class\": {'Four': '4th', 'Three': '3rd'}}, inplace=True)\n",
        "\n",
        "    print(\"\\nClass values after replace:\")\n",
        "    print(df_cleaned['class'].value_counts())\n",
        "else:\n",
        "    print(\"Cleaned DataFrame is empty.\")"
      ]
    },
    {
      "cell_type": "markdown",
      "id": "weXtHNZXH3sy",
      "metadata": {
        "id": "weXtHNZXH3sy"
      },
      "source": [
        "### 1.5 Removing Duplicates (`.drop_duplicates()`)\n",
        "\n",
        "Checks for and removes duplicate rows. Let's check based on the `id` column, assuming it should be unique."
      ]
    },
    {
      "cell_type": "code",
      "execution_count": 33,
      "id": "-ZAHfXFvH3sz",
      "metadata": {
        "id": "-ZAHfXFvH3sz"
      },
      "outputs": [
        {
          "name": "stdout",
          "output_type": "stream",
          "text": [
            "Number of duplicate entries based on 'id': 0\n",
            "No duplicate IDs found.\n"
          ]
        }
      ],
      "source": [
        "if not df_cleaned.empty:\n",
        "    # Check for duplicates based on the 'id' column\n",
        "    duplicate_ids = df_cleaned.duplicated(subset=['id']).sum()\n",
        "    print(f\"Number of duplicate entries based on 'id': {duplicate_ids}\")\n",
        "\n",
        "    if duplicate_ids > 0:\n",
        "        print(\"Duplicate rows based on 'id':\")\n",
        "        display(df_cleaned[df_cleaned.duplicated(subset=['id'], keep=False)])\n",
        "        # Drop duplicates based on 'id', keeping the first occurrence\n",
        "        original_shape = df_cleaned.shape\n",
        "        df_cleaned.drop_duplicates(subset=['id'], keep='first', inplace=True)\n",
        "        print(f\"\\nShape after dropping ID duplicates: {df_cleaned.shape} (Original: {original_shape})\")\n",
        "    else:\n",
        "        print(\"No duplicate IDs found.\")\n",
        "else:\n",
        "    print(\"Cleaned DataFrame is empty.\")"
      ]
    },
    {
      "cell_type": "markdown",
      "id": "n3-FaLAuH3sz",
      "metadata": {
        "id": "n3-FaLAuH3sz"
      },
      "source": [
        "### 1.6 Renaming Columns (`.rename()`)\n",
        "\n",
        "Let's rename `mark` to `score` and `class` to `grade` for clarity."
      ]
    },
    {
      "cell_type": "code",
      "execution_count": 34,
      "id": "BhGnfrCBH3sz",
      "metadata": {
        "id": "BhGnfrCBH3sz"
      },
      "outputs": [
        {
          "name": "stdout",
          "output_type": "stream",
          "text": [
            "Original column names:\n",
            "Index(['id', 'name', 'class', 'mark', 'gender'], dtype='object')\n",
            "\n",
            "Column names after renaming:\n",
            "Index(['id', 'name', 'grade', 'score', 'gender'], dtype='object')\n"
          ]
        }
      ],
      "source": [
        "if not df_cleaned.empty:\n",
        "    print(\"Original column names:\")\n",
        "    print(df_cleaned.columns)\n",
        "\n",
        "    # Rename columns\n",
        "    df_cleaned.rename(columns={'mark': 'score', 'class': 'grade'}, inplace=True)\n",
        "\n",
        "    print(\"\\nColumn names after renaming:\")\n",
        "    print(df_cleaned.columns)\n",
        "else:\n",
        "    print(\"Cleaned DataFrame is empty.\")"
      ]
    },
    {
      "cell_type": "markdown",
      "id": "ftnuuWrTH3sz",
      "metadata": {
        "id": "ftnuuWrTH3sz"
      },
      "source": [
        "### 1.7 Changing Data Types (`.astype()`)\n",
        "\n",
        "Let's ensure `id` and `score` are appropriate numeric types. `.info()` suggested `id` was int64 but `mark` (now `score`) was also int64. This seems okay, but `astype` is how you'd change it if needed (e.g., if `score` was loaded as object/string)."
      ]
    },
    {
      "cell_type": "code",
      "execution_count": 35,
      "id": "iGRdCSFgH3sz",
      "metadata": {
        "id": "iGRdCSFgH3sz"
      },
      "outputs": [
        {
          "name": "stdout",
          "output_type": "stream",
          "text": [
            "Data types before potential conversion:\n",
            "id         int64\n",
            "name      object\n",
            "grade     object\n",
            "score      int64\n",
            "gender    object\n",
            "dtype: object\n",
            "\n",
            "'score' column confirmed/converted to numeric type.\n",
            "\n",
            "Data types after check/conversion:\n",
            "id         int64\n",
            "name      object\n",
            "grade     object\n",
            "score      int64\n",
            "gender    object\n",
            "dtype: object\n"
          ]
        }
      ],
      "source": [
        "if not df_cleaned.empty:\n",
        "    print(\"Data types before potential conversion:\")\n",
        "    print(df_cleaned.dtypes)\n",
        "\n",
        "    # Example: If 'score' was an object, we would convert it\n",
        "    # try:\n",
        "    #     df_cleaned['score'] = df_cleaned['score'].astype(int)\n",
        "    #     print(\"\\nSuccessfully ensured 'score' is integer type.\")\n",
        "    # except ValueError as e:\n",
        "    #     print(f\"\\nCould not convert 'score' to int: {e}. May contain non-numeric values.\")\n",
        "    #     # Handle non-numeric scores if necessary, e.g., pd.to_numeric with errors='coerce'\n",
        "\n",
        "    # Let's check if score contains any non-numeric values that might cause issues\n",
        "    non_numeric_scores = pd.to_numeric(df_cleaned['score'], errors='coerce').isna().sum()\n",
        "    if non_numeric_scores > 0:\n",
        "        print(f\"\\nWarning: Found {non_numeric_scores} non-numeric value(s) in 'score' column.\")\n",
        "        # Decide on handling: remove rows, replace with NaN, etc.\n",
        "        # df_cleaned['score'] = pd.to_numeric(df_cleaned['score'], errors='coerce')\n",
        "    else:\n",
        "        # If all scores are numeric, ensure they are int or float as appropriate\n",
        "        # If loaded correctly, they should be int64 already based on info()\n",
        "        df_cleaned['score'] = df_cleaned['score'].astype(int) # Or float if decimals are possible\n",
        "        print(\"\\n'score' column confirmed/converted to numeric type.\")\n",
        "\n",
        "    print(\"\\nData types after check/conversion:\")\n",
        "    print(df_cleaned.dtypes)\n",
        "else:\n",
        "    print(\"Cleaned DataFrame is empty.\")"
      ]
    },
    {
      "cell_type": "markdown",
      "id": "Lu7-Gpj2H3sz",
      "metadata": {
        "id": "Lu7-Gpj2H3sz"
      },
      "source": [
        "### 1.8 Stripping Whitespace (`.str.strip()`)\n",
        "\n",
        "Removes leading/trailing whitespace from string columns like `name`, `grade`, `gender`."
      ]
    },
    {
      "cell_type": "code",
      "execution_count": 36,
      "id": "M7sN46zdH3sz",
      "metadata": {
        "id": "M7sN46zdH3sz"
      },
      "outputs": [
        {
          "name": "stdout",
          "output_type": "stream",
          "text": [
            "Applying .str.strip() to columns: ['name', 'grade', 'gender']\n",
            "Whitespace stripping applied.\n",
            "Index reset for the cleaned DataFrame.\n"
          ]
        },
        {
          "data": {
            "application/vnd.microsoft.datawrangler.viewer.v0+json": {
              "columns": [
                {
                  "name": "index",
                  "rawType": "int64",
                  "type": "integer"
                },
                {
                  "name": "id",
                  "rawType": "int64",
                  "type": "integer"
                },
                {
                  "name": "name",
                  "rawType": "object",
                  "type": "string"
                },
                {
                  "name": "grade",
                  "rawType": "object",
                  "type": "string"
                },
                {
                  "name": "score",
                  "rawType": "int64",
                  "type": "integer"
                },
                {
                  "name": "gender",
                  "rawType": "object",
                  "type": "string"
                }
              ],
              "conversionMethod": "pd.DataFrame",
              "ref": "368a44f8-2f5e-49ae-aa3c-4a47bf448a30",
              "rows": [
                [
                  "0",
                  "1",
                  "John Deo",
                  "4th",
                  "75",
                  "female"
                ],
                [
                  "1",
                  "2",
                  "Max Ruin",
                  "3rd",
                  "85",
                  "male"
                ],
                [
                  "2",
                  "3",
                  "Arnold",
                  "3rd",
                  "55",
                  "male"
                ],
                [
                  "3",
                  "4",
                  "Krish Star",
                  "4th",
                  "60",
                  "female"
                ],
                [
                  "4",
                  "5",
                  "John Mike",
                  "4th",
                  "60",
                  "female"
                ]
              ],
              "shape": {
                "columns": 5,
                "rows": 5
              }
            },
            "text/html": [
              "<div>\n",
              "<style scoped>\n",
              "    .dataframe tbody tr th:only-of-type {\n",
              "        vertical-align: middle;\n",
              "    }\n",
              "\n",
              "    .dataframe tbody tr th {\n",
              "        vertical-align: top;\n",
              "    }\n",
              "\n",
              "    .dataframe thead th {\n",
              "        text-align: right;\n",
              "    }\n",
              "</style>\n",
              "<table border=\"1\" class=\"dataframe\">\n",
              "  <thead>\n",
              "    <tr style=\"text-align: right;\">\n",
              "      <th></th>\n",
              "      <th>id</th>\n",
              "      <th>name</th>\n",
              "      <th>grade</th>\n",
              "      <th>score</th>\n",
              "      <th>gender</th>\n",
              "    </tr>\n",
              "  </thead>\n",
              "  <tbody>\n",
              "    <tr>\n",
              "      <th>0</th>\n",
              "      <td>1</td>\n",
              "      <td>John Deo</td>\n",
              "      <td>4th</td>\n",
              "      <td>75</td>\n",
              "      <td>female</td>\n",
              "    </tr>\n",
              "    <tr>\n",
              "      <th>1</th>\n",
              "      <td>2</td>\n",
              "      <td>Max Ruin</td>\n",
              "      <td>3rd</td>\n",
              "      <td>85</td>\n",
              "      <td>male</td>\n",
              "    </tr>\n",
              "    <tr>\n",
              "      <th>2</th>\n",
              "      <td>3</td>\n",
              "      <td>Arnold</td>\n",
              "      <td>3rd</td>\n",
              "      <td>55</td>\n",
              "      <td>male</td>\n",
              "    </tr>\n",
              "    <tr>\n",
              "      <th>3</th>\n",
              "      <td>4</td>\n",
              "      <td>Krish Star</td>\n",
              "      <td>4th</td>\n",
              "      <td>60</td>\n",
              "      <td>female</td>\n",
              "    </tr>\n",
              "    <tr>\n",
              "      <th>4</th>\n",
              "      <td>5</td>\n",
              "      <td>John Mike</td>\n",
              "      <td>4th</td>\n",
              "      <td>60</td>\n",
              "      <td>female</td>\n",
              "    </tr>\n",
              "  </tbody>\n",
              "</table>\n",
              "</div>"
            ],
            "text/plain": [
              "   id        name grade  score  gender\n",
              "0   1    John Deo   4th     75  female\n",
              "1   2    Max Ruin   3rd     85    male\n",
              "2   3      Arnold   3rd     55    male\n",
              "3   4  Krish Star   4th     60  female\n",
              "4   5   John Mike   4th     60  female"
            ]
          },
          "metadata": {},
          "output_type": "display_data"
        }
      ],
      "source": [
        "if not df_cleaned.empty:\n",
        "    string_columns = ['name', 'grade', 'gender']\n",
        "    print(f\"Applying .str.strip() to columns: {string_columns}\")\n",
        "    for col in string_columns:\n",
        "        if col in df_cleaned.columns and df_cleaned[col].dtype == 'object':\n",
        "            # Check if column exists and is object type\n",
        "            original_value_example = df_cleaned[col].iloc[0] # Get first value as example\n",
        "            df_cleaned[col] = df_cleaned[col].str.strip()\n",
        "            stripped_value_example = df_cleaned[col].iloc[0]\n",
        "            # Optionally print if change occurred\n",
        "            # if original_value_example != stripped_value_example:\n",
        "            #     print(f\"Whitespace stripped in '{col}'. Example: '{original_value_example}' -> '{stripped_value_example}'\")\n",
        "    print(\"Whitespace stripping applied.\")\n",
        "    # Reset index after cleaning steps are done, before transformation\n",
        "    df_cleaned.reset_index(drop=True, inplace=True)\n",
        "    print(\"Index reset for the cleaned DataFrame.\")\n",
        "    display(df_cleaned.head())\n",
        "else:\n",
        "    print(\"Cleaned DataFrame is empty.\")"
      ]
    },
    {
      "cell_type": "markdown",
      "id": "EogYm5thH3sz",
      "metadata": {
        "id": "EogYm5thH3sz"
      },
      "source": [
        "## Section 2: Data Transformation\n",
        "\n",
        "Now we modify or reshape the cleaned data (`df_cleaned`) to prepare it for analysis."
      ]
    },
    {
      "cell_type": "markdown",
      "id": "zG2qtNo1H3s0",
      "metadata": {
        "id": "zG2qtNo1H3s0"
      },
      "source": [
        "### 2.1 Creating New Columns\n",
        "\n",
        "Let's create a 'pass_fail' column based on the score (e.g., >= 60 is Pass)."
      ]
    },
    {
      "cell_type": "code",
      "execution_count": 110,
      "id": "sPg8OffeH3s0",
      "metadata": {
        "id": "sPg8OffeH3s0"
      },
      "outputs": [
        {
          "name": "stdout",
          "output_type": "stream",
          "text": [
            "DataFrame with new 'pass_fail' column (based on score >= 60):\n"
          ]
        },
        {
          "data": {
            "application/vnd.microsoft.datawrangler.viewer.v0+json": {
              "columns": [
                {
                  "name": "index",
                  "rawType": "int64",
                  "type": "integer"
                },
                {
                  "name": "id",
                  "rawType": "int64",
                  "type": "integer"
                },
                {
                  "name": "name",
                  "rawType": "object",
                  "type": "string"
                },
                {
                  "name": "score",
                  "rawType": "int64",
                  "type": "integer"
                },
                {
                  "name": "pass_fail",
                  "rawType": "object",
                  "type": "string"
                }
              ],
              "conversionMethod": "pd.DataFrame",
              "ref": "1a76f25d-e814-413b-a3e0-c7f76b7b98f5",
              "rows": [
                [
                  "0",
                  "1",
                  "John Deo",
                  "75",
                  "Pass"
                ],
                [
                  "1",
                  "2",
                  "Max Ruin",
                  "85",
                  "Pass"
                ],
                [
                  "2",
                  "3",
                  "Arnold",
                  "55",
                  "Fail"
                ],
                [
                  "3",
                  "4",
                  "Krish Star",
                  "60",
                  "Pass"
                ],
                [
                  "4",
                  "5",
                  "John Mike",
                  "60",
                  "Pass"
                ]
              ],
              "shape": {
                "columns": 4,
                "rows": 5
              }
            },
            "text/html": [
              "<div>\n",
              "<style scoped>\n",
              "    .dataframe tbody tr th:only-of-type {\n",
              "        vertical-align: middle;\n",
              "    }\n",
              "\n",
              "    .dataframe tbody tr th {\n",
              "        vertical-align: top;\n",
              "    }\n",
              "\n",
              "    .dataframe thead th {\n",
              "        text-align: right;\n",
              "    }\n",
              "</style>\n",
              "<table border=\"1\" class=\"dataframe\">\n",
              "  <thead>\n",
              "    <tr style=\"text-align: right;\">\n",
              "      <th></th>\n",
              "      <th>id</th>\n",
              "      <th>name</th>\n",
              "      <th>score</th>\n",
              "      <th>pass_fail</th>\n",
              "    </tr>\n",
              "  </thead>\n",
              "  <tbody>\n",
              "    <tr>\n",
              "      <th>0</th>\n",
              "      <td>1</td>\n",
              "      <td>John Deo</td>\n",
              "      <td>75</td>\n",
              "      <td>Pass</td>\n",
              "    </tr>\n",
              "    <tr>\n",
              "      <th>1</th>\n",
              "      <td>2</td>\n",
              "      <td>Max Ruin</td>\n",
              "      <td>85</td>\n",
              "      <td>Pass</td>\n",
              "    </tr>\n",
              "    <tr>\n",
              "      <th>2</th>\n",
              "      <td>3</td>\n",
              "      <td>Arnold</td>\n",
              "      <td>55</td>\n",
              "      <td>Fail</td>\n",
              "    </tr>\n",
              "    <tr>\n",
              "      <th>3</th>\n",
              "      <td>4</td>\n",
              "      <td>Krish Star</td>\n",
              "      <td>60</td>\n",
              "      <td>Pass</td>\n",
              "    </tr>\n",
              "    <tr>\n",
              "      <th>4</th>\n",
              "      <td>5</td>\n",
              "      <td>John Mike</td>\n",
              "      <td>60</td>\n",
              "      <td>Pass</td>\n",
              "    </tr>\n",
              "  </tbody>\n",
              "</table>\n",
              "</div>"
            ],
            "text/plain": [
              "   id        name  score pass_fail\n",
              "0   1    John Deo     75      Pass\n",
              "1   2    Max Ruin     85      Pass\n",
              "2   3      Arnold     55      Fail\n",
              "3   4  Krish Star     60      Pass\n",
              "4   5   John Mike     60      Pass"
            ]
          },
          "metadata": {},
          "output_type": "display_data"
        }
      ],
      "source": [
        "# Use the cleaned DataFrame\n",
        "# Ensure df_cleaned exists and isn't empty from previous steps\n",
        "if 'df_cleaned' in locals() and not df_cleaned.empty:\n",
        "    df_transformed = df_cleaned.copy()\n",
        "\n",
        "    # Create 'pass_fail' column\n",
        "    pass_mark = 60\n",
        "    # Use np.where for conditional assignment: np.where(condition, value_if_true, value_if_false)\n",
        "    df_transformed['pass_fail'] = np.where(df_transformed['score'] >= pass_mark, 'Pass', 'Fail')\n",
        "\n",
        "    print(f\"DataFrame with new 'pass_fail' column (based on score >= {pass_mark}):\")\n",
        "    display(df_transformed[['id', 'name', 'score', 'pass_fail']].head())\n",
        "else:\n",
        "    print(\"df_cleaned not available or empty. Skipping transformation.\")\n",
        "    df_transformed = pd.DataFrame() # Create empty df"
      ]
    },
    {
      "cell_type": "markdown",
      "id": "d2VLDMFUH3s0",
      "metadata": {
        "id": "d2VLDMFUH3s0"
      },
      "source": [
        "### 2.2 Renaming Columns (Context: Transformation)\n",
        "\n",
        "Renaming can also be part of transformation if needed for specific analysis steps."
      ]
    },
    {
      "cell_type": "code",
      "execution_count": 111,
      "id": "Gj7DG_JAH3s0",
      "metadata": {
        "id": "Gj7DG_JAH3s0"
      },
      "outputs": [
        {
          "name": "stdout",
          "output_type": "stream",
          "text": [
            "Columns after temporary rename for transformation context:\n",
            "Index(['id', 'name', 'ClassLevel', 'score', 'gender', 'pass_fail'], dtype='object')\n"
          ]
        }
      ],
      "source": [
        "if not df_transformed.empty:\n",
        "    # Example: Temporarily rename 'grade' to 'ClassLevel' for a report\n",
        "    df_temp_rename = df_transformed.copy()\n",
        "    df_temp_rename.rename(columns={'grade': 'ClassLevel'}, inplace=True)\n",
        "    print(\"Columns after temporary rename for transformation context:\")\n",
        "    print(df_temp_rename.columns)\n",
        "    # We'll continue using df_transformed with the 'grade' column name\n",
        "else:\n",
        "    print(\"Transformed DataFrame is empty.\")"
      ]
    },
    {
      "cell_type": "markdown",
      "id": "jK9I4dOmH3s0",
      "metadata": {
        "id": "jK9I4dOmH3s0"
      },
      "source": [
        "### 2.3 Grouping Data (`.groupby()`)\n",
        "\n",
        "Group data by `grade` or `gender` to perform aggregate calculations."
      ]
    },
    {
      "cell_type": "code",
      "execution_count": 112,
      "id": "oT9b6MweH3s0",
      "metadata": {
        "id": "oT9b6MweH3s0"
      },
      "outputs": [
        {
          "name": "stdout",
          "output_type": "stream",
          "text": [
            "Average scores grouped by grade:\n"
          ]
        },
        {
          "data": {
            "text/plain": [
              "grade\n",
              "Unknown    88.000000\n",
              "Six        82.571429\n",
              "Five       80.000000\n",
              "Eight      79.000000\n",
              "Fifth      78.000000\n",
              "Seven      77.600000\n",
              "3rd        73.666667\n",
              "4th        68.750000\n",
              "Nine       41.500000\n",
              "Name: score, dtype: float64"
            ]
          },
          "metadata": {},
          "output_type": "display_data"
        },
        {
          "name": "stdout",
          "output_type": "stream",
          "text": [
            "\n",
            "Summary statistics for score grouped by gender:\n"
          ]
        },
        {
          "data": {
            "application/vnd.microsoft.datawrangler.viewer.v0+json": {
              "columns": [
                {
                  "name": "gender",
                  "rawType": "object",
                  "type": "string"
                },
                {
                  "name": "count",
                  "rawType": "int64",
                  "type": "integer"
                },
                {
                  "name": "mean",
                  "rawType": "float64",
                  "type": "float"
                },
                {
                  "name": "median",
                  "rawType": "float64",
                  "type": "float"
                },
                {
                  "name": "std",
                  "rawType": "float64",
                  "type": "float"
                }
              ],
              "conversionMethod": "pd.DataFrame",
              "ref": "62db9eaa-ab44-4845-8c61-0e85de576d01",
              "rows": [
                [
                  "Unknown",
                  "2",
                  "79.5",
                  "79.5",
                  "2.1213203435596424"
                ],
                [
                  "female",
                  "16",
                  "77.3125",
                  "82.5",
                  "14.531431450480026"
                ],
                [
                  "male",
                  "17",
                  "71.58823529411765",
                  "78.0",
                  "18.798466771020887"
                ]
              ],
              "shape": {
                "columns": 4,
                "rows": 3
              }
            },
            "text/html": [
              "<div>\n",
              "<style scoped>\n",
              "    .dataframe tbody tr th:only-of-type {\n",
              "        vertical-align: middle;\n",
              "    }\n",
              "\n",
              "    .dataframe tbody tr th {\n",
              "        vertical-align: top;\n",
              "    }\n",
              "\n",
              "    .dataframe thead th {\n",
              "        text-align: right;\n",
              "    }\n",
              "</style>\n",
              "<table border=\"1\" class=\"dataframe\">\n",
              "  <thead>\n",
              "    <tr style=\"text-align: right;\">\n",
              "      <th></th>\n",
              "      <th>count</th>\n",
              "      <th>mean</th>\n",
              "      <th>median</th>\n",
              "      <th>std</th>\n",
              "    </tr>\n",
              "    <tr>\n",
              "      <th>gender</th>\n",
              "      <th></th>\n",
              "      <th></th>\n",
              "      <th></th>\n",
              "      <th></th>\n",
              "    </tr>\n",
              "  </thead>\n",
              "  <tbody>\n",
              "    <tr>\n",
              "      <th>Unknown</th>\n",
              "      <td>2</td>\n",
              "      <td>79.500000</td>\n",
              "      <td>79.5</td>\n",
              "      <td>2.121320</td>\n",
              "    </tr>\n",
              "    <tr>\n",
              "      <th>female</th>\n",
              "      <td>16</td>\n",
              "      <td>77.312500</td>\n",
              "      <td>82.5</td>\n",
              "      <td>14.531431</td>\n",
              "    </tr>\n",
              "    <tr>\n",
              "      <th>male</th>\n",
              "      <td>17</td>\n",
              "      <td>71.588235</td>\n",
              "      <td>78.0</td>\n",
              "      <td>18.798467</td>\n",
              "    </tr>\n",
              "  </tbody>\n",
              "</table>\n",
              "</div>"
            ],
            "text/plain": [
              "         count       mean  median        std\n",
              "gender                                      \n",
              "Unknown      2  79.500000    79.5   2.121320\n",
              "female      16  77.312500    82.5  14.531431\n",
              "male        17  71.588235    78.0  18.798467"
            ]
          },
          "metadata": {},
          "output_type": "display_data"
        }
      ],
      "source": [
        "if not df_transformed.empty:\n",
        "    # Group by 'grade' and calculate the average score\n",
        "    grade_avg_scores = df_transformed.groupby('grade')['score'].mean().sort_values(ascending=False)\n",
        "    print(\"Average scores grouped by grade:\")\n",
        "    display(grade_avg_scores)\n",
        "\n",
        "    # Group by 'gender' and get multiple aggregations: count and average score\n",
        "    gender_summary = df_transformed.groupby('gender')['score'].agg(['count', 'mean', 'median', 'std'])\n",
        "    print(\"\\nSummary statistics for score grouped by gender:\")\n",
        "    display(gender_summary)\n",
        "else:\n",
        "    print(\"Transformed DataFrame is empty.\")"
      ]
    },
    {
      "cell_type": "markdown",
      "id": "9b528e32",
      "metadata": {},
      "source": [
        "### Aggregation and Grouping"
      ]
    },
    {
      "cell_type": "code",
      "execution_count": 113,
      "id": "e29ce304",
      "metadata": {},
      "outputs": [
        {
          "name": "stdout",
          "output_type": "stream",
          "text": [
            "\n",
            "Mean marks by class:\n",
            "class\n",
            "Eight    79.000000\n",
            "Fifth    78.000000\n",
            "Five     80.000000\n",
            "Four     68.750000\n",
            "Nine     41.500000\n",
            "Seven    77.600000\n",
            "Six      82.571429\n",
            "Three    73.666667\n",
            "Name: mark, dtype: float64\n"
          ]
        }
      ],
      "source": [
        "# Make a copy of the DataFrame for GroupBy\n",
        "df_class_means = df.copy()\n",
        "\n",
        "df_class_means = df_class_means.groupby('class')['mark'].mean()\n",
        "print(\"\\nMean marks by class:\")\n",
        "print(df_class_means)\n"
      ]
    },
    {
      "cell_type": "markdown",
      "id": "70ed2af8",
      "metadata": {},
      "source": [
        "### Aggregation and Grouping 2"
      ]
    },
    {
      "cell_type": "code",
      "execution_count": 114,
      "id": "d53397b2",
      "metadata": {},
      "outputs": [
        {
          "name": "stdout",
          "output_type": "stream",
          "text": [
            "\n",
            "Number of students in each class:\n",
            "class\n",
            "Eight     1\n",
            "Fifth     1\n",
            "Five      2\n",
            "Four      8\n",
            "Nine      2\n",
            "Seven    10\n",
            "Six       7\n",
            "Three     2\n",
            "Name: name, dtype: int64\n"
          ]
        }
      ],
      "source": [
        "#\"Write the code to count the number of students in each class.\"\n",
        "# Make a copy to count students\n",
        "df_class_counts = df.copy()\n",
        "\n",
        "df_class_counts = df.groupby('class')['name'].count()\n",
        "print(\"\\nNumber of students in each class:\")\n",
        "print(df_class_counts)"
      ]
    },
    {
      "cell_type": "markdown",
      "id": "1291fe67",
      "metadata": {},
      "source": [
        "### Aggregation and grouping 3"
      ]
    },
    {
      "cell_type": "code",
      "execution_count": 115,
      "id": "d39bca78",
      "metadata": {},
      "outputs": [
        {
          "name": "stdout",
          "output_type": "stream",
          "text": [
            "\n",
            "Average Marks for each gender\n",
            "gender\n",
            "female    77.312500\n",
            "male      71.588235\n",
            "Name: mark, dtype: float64\n"
          ]
        }
      ],
      "source": [
        "#Write the code to calculate the average mark for each gender\n",
        "\n",
        "#Make a copy to calculate average marks\n",
        "df_avg_marks = df.copy()\n",
        "\n",
        "df_avg_marks = df.groupby('gender')['mark'].mean()\n",
        "print(\"\\nAverage Marks for each gender\")\n",
        "print(df_avg_marks)\n",
        "\n"
      ]
    },
    {
      "cell_type": "markdown",
      "id": "d7f2729e",
      "metadata": {},
      "source": [
        "### Advanced Operations"
      ]
    },
    {
      "cell_type": "code",
      "execution_count": 116,
      "id": "2208c4bc",
      "metadata": {},
      "outputs": [
        {
          "name": "stdout",
          "output_type": "stream",
          "text": [
            "\n",
            "Look! A pivot table not in Excel!\n",
            "\n",
            "Pivot Table:\n",
            " gender  female  male\n",
            "class               \n",
            "Eight      NaN  79.0\n",
            "Fifth      NaN  78.0\n",
            "Five       NaN  80.0\n",
            "Four      63.8  77.0\n",
            "Nine      65.0  18.0\n",
            "Seven     81.4  73.8\n",
            "Six       89.2  54.0\n",
            "Three      NaN  70.0\n"
          ]
        }
      ],
      "source": [
        "#Write the code to create a pivot table with 'class' as rows, 'gender' as columns, and 'mark' as values.\"\n",
        "# Make a copy for pivot table\n",
        "df_pivot_container = df.copy()\n",
        "\n",
        "# Create a pivot table\n",
        "df_pivot_table = pd.pivot_table(\n",
        "    data=df_pivot_container,\n",
        "    index='class',  # Rows\n",
        "    columns='gender',  # Columns\n",
        "    values='mark',  # Values  \n",
        ")\n",
        "\n",
        "print(\"\\nLook! A pivot table not in Excel!\")\n",
        "print(\"\\nPivot Table:\\n\", df_pivot_table)"
      ]
    },
    {
      "cell_type": "markdown",
      "id": "549ff877",
      "metadata": {},
      "source": [
        "### Advanced Operations 2"
      ]
    },
    {
      "cell_type": "code",
      "execution_count": 117,
      "id": "25ae86ee",
      "metadata": {},
      "outputs": [
        {
          "name": "stdout",
          "output_type": "stream",
          "text": [
            "\n",
            "DataFrame with new 'grade' column based on marks:\n"
          ]
        },
        {
          "data": {
            "application/vnd.microsoft.datawrangler.viewer.v0+json": {
              "columns": [
                {
                  "name": "index",
                  "rawType": "int64",
                  "type": "integer"
                },
                {
                  "name": "name",
                  "rawType": "object",
                  "type": "string"
                },
                {
                  "name": "mark",
                  "rawType": "int64",
                  "type": "integer"
                },
                {
                  "name": "grade",
                  "rawType": "object",
                  "type": "string"
                }
              ],
              "conversionMethod": "pd.DataFrame",
              "ref": "4cdf4262-c661-4b00-b158-f670d86f6266",
              "rows": [
                [
                  "0",
                  "John Deo",
                  "75",
                  "B"
                ],
                [
                  "1",
                  "Max Ruin",
                  "85",
                  "A"
                ],
                [
                  "2",
                  "Arnold",
                  "55",
                  "D"
                ],
                [
                  "3",
                  "Krish Star",
                  "60",
                  "C"
                ],
                [
                  "4",
                  "John Mike",
                  "60",
                  "C"
                ]
              ],
              "shape": {
                "columns": 3,
                "rows": 5
              }
            },
            "text/html": [
              "<div>\n",
              "<style scoped>\n",
              "    .dataframe tbody tr th:only-of-type {\n",
              "        vertical-align: middle;\n",
              "    }\n",
              "\n",
              "    .dataframe tbody tr th {\n",
              "        vertical-align: top;\n",
              "    }\n",
              "\n",
              "    .dataframe thead th {\n",
              "        text-align: right;\n",
              "    }\n",
              "</style>\n",
              "<table border=\"1\" class=\"dataframe\">\n",
              "  <thead>\n",
              "    <tr style=\"text-align: right;\">\n",
              "      <th></th>\n",
              "      <th>name</th>\n",
              "      <th>mark</th>\n",
              "      <th>grade</th>\n",
              "    </tr>\n",
              "  </thead>\n",
              "  <tbody>\n",
              "    <tr>\n",
              "      <th>0</th>\n",
              "      <td>John Deo</td>\n",
              "      <td>75</td>\n",
              "      <td>B</td>\n",
              "    </tr>\n",
              "    <tr>\n",
              "      <th>1</th>\n",
              "      <td>Max Ruin</td>\n",
              "      <td>85</td>\n",
              "      <td>A</td>\n",
              "    </tr>\n",
              "    <tr>\n",
              "      <th>2</th>\n",
              "      <td>Arnold</td>\n",
              "      <td>55</td>\n",
              "      <td>D</td>\n",
              "    </tr>\n",
              "    <tr>\n",
              "      <th>3</th>\n",
              "      <td>Krish Star</td>\n",
              "      <td>60</td>\n",
              "      <td>C</td>\n",
              "    </tr>\n",
              "    <tr>\n",
              "      <th>4</th>\n",
              "      <td>John Mike</td>\n",
              "      <td>60</td>\n",
              "      <td>C</td>\n",
              "    </tr>\n",
              "  </tbody>\n",
              "</table>\n",
              "</div>"
            ],
            "text/plain": [
              "         name  mark grade\n",
              "0    John Deo    75     B\n",
              "1    Max Ruin    85     A\n",
              "2      Arnold    55     D\n",
              "3  Krish Star    60     C\n",
              "4   John Mike    60     C"
            ]
          },
          "metadata": {},
          "output_type": "display_data"
        }
      ],
      "source": [
        "#Write the code to create a new column 'grade' where marks >= 85 are 'A', 70-84 are 'B', 60-69 are 'C', and below 60 are 'D\n",
        "# Make a copy for grading\n",
        "df_grading = df.copy()\n",
        "\n",
        "# Define a function to assign grades\n",
        "def assign_grade(mark):\n",
        "    if mark >= 85:\n",
        "        return 'A'\n",
        "    elif mark >= 70:\n",
        "        return 'B'\n",
        "    elif mark >= 60:\n",
        "        return 'C'\n",
        "    else:\n",
        "        return 'D'\n",
        "\n",
        "# Apply the function to create a new 'grade' column\n",
        "df_grading['grade'] = df_grading['mark'].apply(assign_grade)\n",
        "print(\"\\nDataFrame with new 'grade' column based on marks:\")\n",
        "display(df_grading[['name', 'mark', 'grade']].head())\n"
      ]
    },
    {
      "cell_type": "markdown",
      "id": "da016dfa",
      "metadata": {},
      "source": [
        "### Exporting a DataFrame as a csv"
      ]
    },
    {
      "cell_type": "code",
      "execution_count": 129,
      "id": "e078712c",
      "metadata": {},
      "outputs": [
        {
          "name": "stdout",
          "output_type": "stream",
          "text": [
            "\n",
            "DataFrame with grades saved to 'student_with_grades.csv'\n"
          ]
        }
      ],
      "source": [
        "#\"Write the code to save the DataFrame with the new 'grade' column to a new CSV file.\"\n",
        "\n",
        "# Save the DataFrame with the new 'grade' column to a new CSV file\n",
        "output_csv_filename = 'student_with_grades.csv'\n",
        "df_grading.to_csv(output_csv_filename, index=False)\n",
        "print(f\"\\nDataFrame with grades saved to '{output_csv_filename}'\")\n",
        "\n"
      ]
    },
    {
      "cell_type": "markdown",
      "id": "rdlQU3IhH3s0",
      "metadata": {
        "id": "rdlQU3IhH3s0"
      },
      "source": [
        "### 2.4 Sorting Data (`.sort_values()`)\n",
        "\n",
        "Arrange rows based on column values."
      ]
    },
    {
      "cell_type": "code",
      "execution_count": 118,
      "id": "j-Wlhb0vH3s0",
      "metadata": {
        "id": "j-Wlhb0vH3s0"
      },
      "outputs": [
        {
          "name": "stdout",
          "output_type": "stream",
          "text": [
            "Top 5 students by score (Descending):\n"
          ]
        },
        {
          "data": {
            "application/vnd.microsoft.datawrangler.viewer.v0+json": {
              "columns": [
                {
                  "name": "index",
                  "rawType": "int64",
                  "type": "integer"
                },
                {
                  "name": "id",
                  "rawType": "int64",
                  "type": "integer"
                },
                {
                  "name": "name",
                  "rawType": "object",
                  "type": "string"
                },
                {
                  "name": "grade",
                  "rawType": "object",
                  "type": "string"
                },
                {
                  "name": "score",
                  "rawType": "int64",
                  "type": "integer"
                }
              ],
              "conversionMethod": "pd.DataFrame",
              "ref": "6b451b75-04ca-47b0-98d9-c7e95e1472e9",
              "rows": [
                [
                  "32",
                  "33",
                  "Kenn Rein",
                  "Six",
                  "96"
                ],
                [
                  "11",
                  "12",
                  "Recky",
                  "Six",
                  "94"
                ],
                [
                  "31",
                  "32",
                  "Binn Rott",
                  "Seven",
                  "90"
                ],
                [
                  "10",
                  "11",
                  "Ronald",
                  "Six",
                  "89"
                ],
                [
                  "30",
                  "31",
                  "Marry Toeey",
                  "4th",
                  "88"
                ]
              ],
              "shape": {
                "columns": 4,
                "rows": 5
              }
            },
            "text/html": [
              "<div>\n",
              "<style scoped>\n",
              "    .dataframe tbody tr th:only-of-type {\n",
              "        vertical-align: middle;\n",
              "    }\n",
              "\n",
              "    .dataframe tbody tr th {\n",
              "        vertical-align: top;\n",
              "    }\n",
              "\n",
              "    .dataframe thead th {\n",
              "        text-align: right;\n",
              "    }\n",
              "</style>\n",
              "<table border=\"1\" class=\"dataframe\">\n",
              "  <thead>\n",
              "    <tr style=\"text-align: right;\">\n",
              "      <th></th>\n",
              "      <th>id</th>\n",
              "      <th>name</th>\n",
              "      <th>grade</th>\n",
              "      <th>score</th>\n",
              "    </tr>\n",
              "  </thead>\n",
              "  <tbody>\n",
              "    <tr>\n",
              "      <th>32</th>\n",
              "      <td>33</td>\n",
              "      <td>Kenn Rein</td>\n",
              "      <td>Six</td>\n",
              "      <td>96</td>\n",
              "    </tr>\n",
              "    <tr>\n",
              "      <th>11</th>\n",
              "      <td>12</td>\n",
              "      <td>Recky</td>\n",
              "      <td>Six</td>\n",
              "      <td>94</td>\n",
              "    </tr>\n",
              "    <tr>\n",
              "      <th>31</th>\n",
              "      <td>32</td>\n",
              "      <td>Binn Rott</td>\n",
              "      <td>Seven</td>\n",
              "      <td>90</td>\n",
              "    </tr>\n",
              "    <tr>\n",
              "      <th>10</th>\n",
              "      <td>11</td>\n",
              "      <td>Ronald</td>\n",
              "      <td>Six</td>\n",
              "      <td>89</td>\n",
              "    </tr>\n",
              "    <tr>\n",
              "      <th>30</th>\n",
              "      <td>31</td>\n",
              "      <td>Marry Toeey</td>\n",
              "      <td>4th</td>\n",
              "      <td>88</td>\n",
              "    </tr>\n",
              "  </tbody>\n",
              "</table>\n",
              "</div>"
            ],
            "text/plain": [
              "    id         name  grade  score\n",
              "32  33    Kenn Rein    Six     96\n",
              "11  12        Recky    Six     94\n",
              "31  32    Binn Rott  Seven     90\n",
              "10  11       Ronald    Six     89\n",
              "30  31  Marry Toeey    4th     88"
            ]
          },
          "metadata": {},
          "output_type": "display_data"
        },
        {
          "name": "stdout",
          "output_type": "stream",
          "text": [
            "\n",
            "DataFrame sorted by grade, then name:\n"
          ]
        },
        {
          "data": {
            "application/vnd.microsoft.datawrangler.viewer.v0+json": {
              "columns": [
                {
                  "name": "index",
                  "rawType": "int64",
                  "type": "integer"
                },
                {
                  "name": "id",
                  "rawType": "int64",
                  "type": "integer"
                },
                {
                  "name": "name",
                  "rawType": "object",
                  "type": "string"
                },
                {
                  "name": "grade",
                  "rawType": "object",
                  "type": "string"
                },
                {
                  "name": "score",
                  "rawType": "int64",
                  "type": "integer"
                }
              ],
              "conversionMethod": "pd.DataFrame",
              "ref": "1e071d41-794a-44cc-a992-b1307421f774",
              "rows": [
                [
                  "2",
                  "3",
                  "Arnold",
                  "3rd",
                  "55"
                ],
                [
                  "1",
                  "2",
                  "Max Ruin",
                  "3rd",
                  "85"
                ],
                [
                  "26",
                  "27",
                  "Unnamed",
                  "3rd",
                  "81"
                ],
                [
                  "5",
                  "6",
                  "Alex John",
                  "4th",
                  "55"
                ],
                [
                  "20",
                  "21",
                  "Babby John",
                  "4th",
                  "69"
                ],
                [
                  "9",
                  "10",
                  "Big John",
                  "4th",
                  "55"
                ],
                [
                  "15",
                  "16",
                  "Gimmy",
                  "4th",
                  "88"
                ],
                [
                  "0",
                  "1",
                  "John Deo",
                  "4th",
                  "75"
                ],
                [
                  "4",
                  "5",
                  "John Mike",
                  "4th",
                  "60"
                ],
                [
                  "3",
                  "4",
                  "Krish Star",
                  "4th",
                  "60"
                ]
              ],
              "shape": {
                "columns": 4,
                "rows": 10
              }
            },
            "text/html": [
              "<div>\n",
              "<style scoped>\n",
              "    .dataframe tbody tr th:only-of-type {\n",
              "        vertical-align: middle;\n",
              "    }\n",
              "\n",
              "    .dataframe tbody tr th {\n",
              "        vertical-align: top;\n",
              "    }\n",
              "\n",
              "    .dataframe thead th {\n",
              "        text-align: right;\n",
              "    }\n",
              "</style>\n",
              "<table border=\"1\" class=\"dataframe\">\n",
              "  <thead>\n",
              "    <tr style=\"text-align: right;\">\n",
              "      <th></th>\n",
              "      <th>id</th>\n",
              "      <th>name</th>\n",
              "      <th>grade</th>\n",
              "      <th>score</th>\n",
              "    </tr>\n",
              "  </thead>\n",
              "  <tbody>\n",
              "    <tr>\n",
              "      <th>2</th>\n",
              "      <td>3</td>\n",
              "      <td>Arnold</td>\n",
              "      <td>3rd</td>\n",
              "      <td>55</td>\n",
              "    </tr>\n",
              "    <tr>\n",
              "      <th>1</th>\n",
              "      <td>2</td>\n",
              "      <td>Max Ruin</td>\n",
              "      <td>3rd</td>\n",
              "      <td>85</td>\n",
              "    </tr>\n",
              "    <tr>\n",
              "      <th>26</th>\n",
              "      <td>27</td>\n",
              "      <td>Unnamed</td>\n",
              "      <td>3rd</td>\n",
              "      <td>81</td>\n",
              "    </tr>\n",
              "    <tr>\n",
              "      <th>5</th>\n",
              "      <td>6</td>\n",
              "      <td>Alex John</td>\n",
              "      <td>4th</td>\n",
              "      <td>55</td>\n",
              "    </tr>\n",
              "    <tr>\n",
              "      <th>20</th>\n",
              "      <td>21</td>\n",
              "      <td>Babby John</td>\n",
              "      <td>4th</td>\n",
              "      <td>69</td>\n",
              "    </tr>\n",
              "    <tr>\n",
              "      <th>9</th>\n",
              "      <td>10</td>\n",
              "      <td>Big John</td>\n",
              "      <td>4th</td>\n",
              "      <td>55</td>\n",
              "    </tr>\n",
              "    <tr>\n",
              "      <th>15</th>\n",
              "      <td>16</td>\n",
              "      <td>Gimmy</td>\n",
              "      <td>4th</td>\n",
              "      <td>88</td>\n",
              "    </tr>\n",
              "    <tr>\n",
              "      <th>0</th>\n",
              "      <td>1</td>\n",
              "      <td>John Deo</td>\n",
              "      <td>4th</td>\n",
              "      <td>75</td>\n",
              "    </tr>\n",
              "    <tr>\n",
              "      <th>4</th>\n",
              "      <td>5</td>\n",
              "      <td>John Mike</td>\n",
              "      <td>4th</td>\n",
              "      <td>60</td>\n",
              "    </tr>\n",
              "    <tr>\n",
              "      <th>3</th>\n",
              "      <td>4</td>\n",
              "      <td>Krish Star</td>\n",
              "      <td>4th</td>\n",
              "      <td>60</td>\n",
              "    </tr>\n",
              "  </tbody>\n",
              "</table>\n",
              "</div>"
            ],
            "text/plain": [
              "    id        name grade  score\n",
              "2    3      Arnold   3rd     55\n",
              "1    2    Max Ruin   3rd     85\n",
              "26  27     Unnamed   3rd     81\n",
              "5    6   Alex John   4th     55\n",
              "20  21  Babby John   4th     69\n",
              "9   10    Big John   4th     55\n",
              "15  16       Gimmy   4th     88\n",
              "0    1    John Deo   4th     75\n",
              "4    5   John Mike   4th     60\n",
              "3    4  Krish Star   4th     60"
            ]
          },
          "metadata": {},
          "output_type": "display_data"
        }
      ],
      "source": [
        "if not df_transformed.empty:\n",
        "    # Sort the DataFrame by 'score' in descending order\n",
        "    df_sorted_score = df_transformed.sort_values(by='score', ascending=False)\n",
        "    print(\"Top 5 students by score (Descending):\")\n",
        "    display(df_sorted_score[['id', 'name', 'grade', 'score']].head())\n",
        "\n",
        "    # Sort by 'grade' (alphabetical/numerical order depends on dtype) then by 'name' (alphabetical)\n",
        "    df_sorted_multi = df_transformed.sort_values(by=['grade', 'name'])\n",
        "    print(\"\\nDataFrame sorted by grade, then name:\")\n",
        "    display(df_sorted_multi[['id', 'name', 'grade', 'score']].head(10))\n",
        "else:\n",
        "    print(\"Transformed DataFrame is empty.\")"
      ]
    },
    {
      "cell_type": "markdown",
      "id": "uwEVnfHUH3s1",
      "metadata": {
        "id": "uwEVnfHUH3s1"
      },
      "source": [
        "### 2.5 Selecting Columns and Rows (`.loc` and `.iloc`)"
      ]
    },
    {
      "cell_type": "code",
      "execution_count": 119,
      "id": "Z1gf988tH3s1",
      "metadata": {
        "id": "Z1gf988tH3s1"
      },
      "outputs": [
        {
          "name": "stdout",
          "output_type": "stream",
          "text": [
            "--- .loc Examples ---\n",
            "Row with index label 5:\n"
          ]
        },
        {
          "data": {
            "text/plain": [
              "id                   6\n",
              "name         Alex John\n",
              "grade              4th\n",
              "score               55\n",
              "gender            male\n",
              "pass_fail         Fail\n",
              "Name: 5, dtype: object"
            ]
          },
          "metadata": {},
          "output_type": "display_data"
        },
        {
          "name": "stdout",
          "output_type": "stream",
          "text": [
            "\n",
            "Rows with index labels 0 to 4:\n"
          ]
        },
        {
          "data": {
            "application/vnd.microsoft.datawrangler.viewer.v0+json": {
              "columns": [
                {
                  "name": "index",
                  "rawType": "int64",
                  "type": "integer"
                },
                {
                  "name": "id",
                  "rawType": "int64",
                  "type": "integer"
                },
                {
                  "name": "name",
                  "rawType": "object",
                  "type": "string"
                },
                {
                  "name": "grade",
                  "rawType": "object",
                  "type": "string"
                },
                {
                  "name": "score",
                  "rawType": "int64",
                  "type": "integer"
                },
                {
                  "name": "gender",
                  "rawType": "object",
                  "type": "string"
                },
                {
                  "name": "pass_fail",
                  "rawType": "object",
                  "type": "string"
                }
              ],
              "conversionMethod": "pd.DataFrame",
              "ref": "20c88588-1d3d-427d-a191-0010792172e0",
              "rows": [
                [
                  "0",
                  "1",
                  "John Deo",
                  "4th",
                  "75",
                  "female",
                  "Pass"
                ],
                [
                  "1",
                  "2",
                  "Max Ruin",
                  "3rd",
                  "85",
                  "male",
                  "Pass"
                ],
                [
                  "2",
                  "3",
                  "Arnold",
                  "3rd",
                  "55",
                  "male",
                  "Fail"
                ],
                [
                  "3",
                  "4",
                  "Krish Star",
                  "4th",
                  "60",
                  "female",
                  "Pass"
                ],
                [
                  "4",
                  "5",
                  "John Mike",
                  "4th",
                  "60",
                  "female",
                  "Pass"
                ]
              ],
              "shape": {
                "columns": 6,
                "rows": 5
              }
            },
            "text/html": [
              "<div>\n",
              "<style scoped>\n",
              "    .dataframe tbody tr th:only-of-type {\n",
              "        vertical-align: middle;\n",
              "    }\n",
              "\n",
              "    .dataframe tbody tr th {\n",
              "        vertical-align: top;\n",
              "    }\n",
              "\n",
              "    .dataframe thead th {\n",
              "        text-align: right;\n",
              "    }\n",
              "</style>\n",
              "<table border=\"1\" class=\"dataframe\">\n",
              "  <thead>\n",
              "    <tr style=\"text-align: right;\">\n",
              "      <th></th>\n",
              "      <th>id</th>\n",
              "      <th>name</th>\n",
              "      <th>grade</th>\n",
              "      <th>score</th>\n",
              "      <th>gender</th>\n",
              "      <th>pass_fail</th>\n",
              "    </tr>\n",
              "  </thead>\n",
              "  <tbody>\n",
              "    <tr>\n",
              "      <th>0</th>\n",
              "      <td>1</td>\n",
              "      <td>John Deo</td>\n",
              "      <td>4th</td>\n",
              "      <td>75</td>\n",
              "      <td>female</td>\n",
              "      <td>Pass</td>\n",
              "    </tr>\n",
              "    <tr>\n",
              "      <th>1</th>\n",
              "      <td>2</td>\n",
              "      <td>Max Ruin</td>\n",
              "      <td>3rd</td>\n",
              "      <td>85</td>\n",
              "      <td>male</td>\n",
              "      <td>Pass</td>\n",
              "    </tr>\n",
              "    <tr>\n",
              "      <th>2</th>\n",
              "      <td>3</td>\n",
              "      <td>Arnold</td>\n",
              "      <td>3rd</td>\n",
              "      <td>55</td>\n",
              "      <td>male</td>\n",
              "      <td>Fail</td>\n",
              "    </tr>\n",
              "    <tr>\n",
              "      <th>3</th>\n",
              "      <td>4</td>\n",
              "      <td>Krish Star</td>\n",
              "      <td>4th</td>\n",
              "      <td>60</td>\n",
              "      <td>female</td>\n",
              "      <td>Pass</td>\n",
              "    </tr>\n",
              "    <tr>\n",
              "      <th>4</th>\n",
              "      <td>5</td>\n",
              "      <td>John Mike</td>\n",
              "      <td>4th</td>\n",
              "      <td>60</td>\n",
              "      <td>female</td>\n",
              "      <td>Pass</td>\n",
              "    </tr>\n",
              "  </tbody>\n",
              "</table>\n",
              "</div>"
            ],
            "text/plain": [
              "   id        name grade  score  gender pass_fail\n",
              "0   1    John Deo   4th     75  female      Pass\n",
              "1   2    Max Ruin   3rd     85    male      Pass\n",
              "2   3      Arnold   3rd     55    male      Fail\n",
              "3   4  Krish Star   4th     60  female      Pass\n",
              "4   5   John Mike   4th     60  female      Pass"
            ]
          },
          "metadata": {},
          "output_type": "display_data"
        },
        {
          "name": "stdout",
          "output_type": "stream",
          "text": [
            "\n",
            "Row 2, columns 'name' and 'score':\n"
          ]
        },
        {
          "data": {
            "text/plain": [
              "name     Arnold\n",
              "score        55\n",
              "Name: 2, dtype: object"
            ]
          },
          "metadata": {},
          "output_type": "display_data"
        },
        {
          "name": "stdout",
          "output_type": "stream",
          "text": [
            "\n",
            "--- .iloc Examples ---\n",
            "Row at position 0:\n"
          ]
        },
        {
          "data": {
            "text/plain": [
              "id                  1\n",
              "name         John Deo\n",
              "grade             4th\n",
              "score              75\n",
              "gender         female\n",
              "pass_fail        Pass\n",
              "Name: 0, dtype: object"
            ]
          },
          "metadata": {},
          "output_type": "display_data"
        },
        {
          "name": "stdout",
          "output_type": "stream",
          "text": [
            "\n",
            "Rows at positions 5 to 9:\n"
          ]
        },
        {
          "data": {
            "application/vnd.microsoft.datawrangler.viewer.v0+json": {
              "columns": [
                {
                  "name": "index",
                  "rawType": "int64",
                  "type": "integer"
                },
                {
                  "name": "id",
                  "rawType": "int64",
                  "type": "integer"
                },
                {
                  "name": "name",
                  "rawType": "object",
                  "type": "string"
                },
                {
                  "name": "grade",
                  "rawType": "object",
                  "type": "string"
                },
                {
                  "name": "score",
                  "rawType": "int64",
                  "type": "integer"
                },
                {
                  "name": "gender",
                  "rawType": "object",
                  "type": "string"
                },
                {
                  "name": "pass_fail",
                  "rawType": "object",
                  "type": "string"
                }
              ],
              "conversionMethod": "pd.DataFrame",
              "ref": "fcdb9c0b-32e2-48fc-9a0d-9a01b1f7c16e",
              "rows": [
                [
                  "5",
                  "6",
                  "Alex John",
                  "4th",
                  "55",
                  "male",
                  "Fail"
                ],
                [
                  "6",
                  "7",
                  "My John Rob",
                  "Fifth",
                  "78",
                  "male",
                  "Pass"
                ],
                [
                  "7",
                  "8",
                  "Asruid",
                  "Five",
                  "85",
                  "male",
                  "Pass"
                ],
                [
                  "8",
                  "9",
                  "Tes Qry",
                  "Six",
                  "78",
                  "Unknown",
                  "Pass"
                ],
                [
                  "9",
                  "10",
                  "Big John",
                  "4th",
                  "55",
                  "female",
                  "Fail"
                ]
              ],
              "shape": {
                "columns": 6,
                "rows": 5
              }
            },
            "text/html": [
              "<div>\n",
              "<style scoped>\n",
              "    .dataframe tbody tr th:only-of-type {\n",
              "        vertical-align: middle;\n",
              "    }\n",
              "\n",
              "    .dataframe tbody tr th {\n",
              "        vertical-align: top;\n",
              "    }\n",
              "\n",
              "    .dataframe thead th {\n",
              "        text-align: right;\n",
              "    }\n",
              "</style>\n",
              "<table border=\"1\" class=\"dataframe\">\n",
              "  <thead>\n",
              "    <tr style=\"text-align: right;\">\n",
              "      <th></th>\n",
              "      <th>id</th>\n",
              "      <th>name</th>\n",
              "      <th>grade</th>\n",
              "      <th>score</th>\n",
              "      <th>gender</th>\n",
              "      <th>pass_fail</th>\n",
              "    </tr>\n",
              "  </thead>\n",
              "  <tbody>\n",
              "    <tr>\n",
              "      <th>5</th>\n",
              "      <td>6</td>\n",
              "      <td>Alex John</td>\n",
              "      <td>4th</td>\n",
              "      <td>55</td>\n",
              "      <td>male</td>\n",
              "      <td>Fail</td>\n",
              "    </tr>\n",
              "    <tr>\n",
              "      <th>6</th>\n",
              "      <td>7</td>\n",
              "      <td>My John Rob</td>\n",
              "      <td>Fifth</td>\n",
              "      <td>78</td>\n",
              "      <td>male</td>\n",
              "      <td>Pass</td>\n",
              "    </tr>\n",
              "    <tr>\n",
              "      <th>7</th>\n",
              "      <td>8</td>\n",
              "      <td>Asruid</td>\n",
              "      <td>Five</td>\n",
              "      <td>85</td>\n",
              "      <td>male</td>\n",
              "      <td>Pass</td>\n",
              "    </tr>\n",
              "    <tr>\n",
              "      <th>8</th>\n",
              "      <td>9</td>\n",
              "      <td>Tes Qry</td>\n",
              "      <td>Six</td>\n",
              "      <td>78</td>\n",
              "      <td>Unknown</td>\n",
              "      <td>Pass</td>\n",
              "    </tr>\n",
              "    <tr>\n",
              "      <th>9</th>\n",
              "      <td>10</td>\n",
              "      <td>Big John</td>\n",
              "      <td>4th</td>\n",
              "      <td>55</td>\n",
              "      <td>female</td>\n",
              "      <td>Fail</td>\n",
              "    </tr>\n",
              "  </tbody>\n",
              "</table>\n",
              "</div>"
            ],
            "text/plain": [
              "   id         name  grade  score   gender pass_fail\n",
              "5   6    Alex John    4th     55     male      Fail\n",
              "6   7  My John Rob  Fifth     78     male      Pass\n",
              "7   8       Asruid   Five     85     male      Pass\n",
              "8   9      Tes Qry    Six     78  Unknown      Pass\n",
              "9  10     Big John    4th     55   female      Fail"
            ]
          },
          "metadata": {},
          "output_type": "display_data"
        },
        {
          "name": "stdout",
          "output_type": "stream",
          "text": [
            "\n",
            "Row at position 3, columns at positions 1 and 3:\n"
          ]
        },
        {
          "data": {
            "text/plain": [
              "name     Krish Star\n",
              "score            60\n",
              "Name: 3, dtype: object"
            ]
          },
          "metadata": {},
          "output_type": "display_data"
        }
      ],
      "source": [
        "if not df_transformed.empty:\n",
        "    # Reminder: df_transformed has a reset index (0 to n-1)\n",
        "    print(\"--- .loc Examples ---\")\n",
        "    # Select row with index label 5\n",
        "    print(\"Row with index label 5:\")\n",
        "    try:\n",
        "      display(df_transformed.loc[5])\n",
        "    except KeyError:\n",
        "      print(\"Index label 5 might not exist after cleaning/resetting.\")\n",
        "\n",
        "    # Select rows with index labels 0 through 4 (inclusive using .loc)\n",
        "    print(\"\\nRows with index labels 0 to 4:\")\n",
        "    display(df_transformed.loc[0:4])\n",
        "\n",
        "    # Select row 2, columns 'name' and 'score'\n",
        "    print(\"\\nRow 2, columns 'name' and 'score':\")\n",
        "    try:\n",
        "      display(df_transformed.loc[2, ['name', 'score']])\n",
        "    except KeyError:\n",
        "      print(\"Index label 2 might not exist.\")\n",
        "\n",
        "    print(\"\\n--- .iloc Examples ---\")\n",
        "    # Select the row at position 0 (the first row)\n",
        "    print(\"Row at position 0:\")\n",
        "    display(df_transformed.iloc[0])\n",
        "\n",
        "    # Select rows from position 5 up to (but not including) 10\n",
        "    print(\"\\nRows at positions 5 to 9:\")\n",
        "    display(df_transformed.iloc[5:10])\n",
        "\n",
        "    # Select row at position 3, columns at positions 1 ('name') and 3 ('score')\n",
        "    print(\"\\nRow at position 3, columns at positions 1 and 3:\")\n",
        "    display(df_transformed.iloc[3, [1, 3]])\n",
        "else:\n",
        "    print(\"Transformed DataFrame is empty.\")"
      ]
    },
    {
      "cell_type": "markdown",
      "id": "78685e25",
      "metadata": {},
      "source": [
        "### Indexing and Slicing "
      ]
    },
    {
      "cell_type": "code",
      "execution_count": 120,
      "id": "3beb455e",
      "metadata": {},
      "outputs": [
        {
          "data": {
            "text/plain": [
              "0        John Deo\n",
              "1        Max Ruin\n",
              "2          Arnold\n",
              "3      Krish Star\n",
              "4       John Mike\n",
              "5       Alex John\n",
              "6     My John Rob\n",
              "7          Asruid\n",
              "8         Tes Qry\n",
              "9        Big John\n",
              "10         Ronald\n",
              "11          Recky\n",
              "12            Kty\n",
              "13           Bigy\n",
              "14       Tade Row\n",
              "15          Gimmy\n",
              "16          Tumyu\n",
              "17          Honny\n",
              "18          Tinny\n",
              "19         Jackly\n",
              "20     Babby John\n",
              "21         Reggid\n",
              "22          Herod\n",
              "23      Tiddy Now\n",
              "24       Giff Tow\n",
              "25         Crelea\n",
              "26            NaN\n",
              "27      Rojj Base\n",
              "28    Tess Played\n",
              "29      Reppy Red\n",
              "30    Marry Toeey\n",
              "31      Binn Rott\n",
              "32      Kenn Rein\n",
              "33       Gain Toe\n",
              "34     Rows Noump\n",
              "Name: name, dtype: object"
            ]
          },
          "metadata": {},
          "output_type": "display_data"
        },
        {
          "name": "stdout",
          "output_type": "stream",
          "text": [
            "Column name\n"
          ]
        }
      ],
      "source": [
        "#Make a copy\n",
        "df_marks_slice = df.copy()\n",
        "\n",
        "#Selecting the column called name\n",
        "selected_column = df['name']\n",
        "display(selected_column)\n",
        "print(\"Column name\")\n",
        "#display(df_marks_slice.loc[[1, 'name']])\n",
        "#display(df_marks_slice.loc[:2, ['name', 'score']])\n",
        "\n"
      ]
    },
    {
      "cell_type": "markdown",
      "id": "8ec0fd13",
      "metadata": {},
      "source": [
        "### 2 Column Names"
      ]
    },
    {
      "cell_type": "code",
      "execution_count": 121,
      "id": "cc49c8ed",
      "metadata": {},
      "outputs": [
        {
          "name": "stdout",
          "output_type": "stream",
          "text": [
            "Columns name and mark\n"
          ]
        },
        {
          "data": {
            "application/vnd.microsoft.datawrangler.viewer.v0+json": {
              "columns": [
                {
                  "name": "index",
                  "rawType": "int64",
                  "type": "integer"
                },
                {
                  "name": "id",
                  "rawType": "int64",
                  "type": "integer"
                },
                {
                  "name": "name",
                  "rawType": "object",
                  "type": "string"
                },
                {
                  "name": "class",
                  "rawType": "object",
                  "type": "string"
                },
                {
                  "name": "mark",
                  "rawType": "int64",
                  "type": "integer"
                },
                {
                  "name": "gender",
                  "rawType": "object",
                  "type": "string"
                }
              ],
              "conversionMethod": "pd.DataFrame",
              "ref": "b8392f8f-d0aa-4bf3-a4ef-0d22f33cfc1a",
              "rows": [
                [
                  "0",
                  "1",
                  "John Deo",
                  "Four",
                  "75",
                  "female"
                ],
                [
                  "1",
                  "2",
                  "Max Ruin",
                  "Three",
                  "85",
                  "male"
                ],
                [
                  "2",
                  "3",
                  "Arnold",
                  "Three",
                  "55",
                  "male"
                ]
              ],
              "shape": {
                "columns": 5,
                "rows": 3
              }
            },
            "text/html": [
              "<div>\n",
              "<style scoped>\n",
              "    .dataframe tbody tr th:only-of-type {\n",
              "        vertical-align: middle;\n",
              "    }\n",
              "\n",
              "    .dataframe tbody tr th {\n",
              "        vertical-align: top;\n",
              "    }\n",
              "\n",
              "    .dataframe thead th {\n",
              "        text-align: right;\n",
              "    }\n",
              "</style>\n",
              "<table border=\"1\" class=\"dataframe\">\n",
              "  <thead>\n",
              "    <tr style=\"text-align: right;\">\n",
              "      <th></th>\n",
              "      <th>id</th>\n",
              "      <th>name</th>\n",
              "      <th>class</th>\n",
              "      <th>mark</th>\n",
              "      <th>gender</th>\n",
              "    </tr>\n",
              "  </thead>\n",
              "  <tbody>\n",
              "    <tr>\n",
              "      <th>0</th>\n",
              "      <td>1</td>\n",
              "      <td>John Deo</td>\n",
              "      <td>Four</td>\n",
              "      <td>75</td>\n",
              "      <td>female</td>\n",
              "    </tr>\n",
              "    <tr>\n",
              "      <th>1</th>\n",
              "      <td>2</td>\n",
              "      <td>Max Ruin</td>\n",
              "      <td>Three</td>\n",
              "      <td>85</td>\n",
              "      <td>male</td>\n",
              "    </tr>\n",
              "    <tr>\n",
              "      <th>2</th>\n",
              "      <td>3</td>\n",
              "      <td>Arnold</td>\n",
              "      <td>Three</td>\n",
              "      <td>55</td>\n",
              "      <td>male</td>\n",
              "    </tr>\n",
              "  </tbody>\n",
              "</table>\n",
              "</div>"
            ],
            "text/plain": [
              "   id      name  class  mark  gender\n",
              "0   1  John Deo   Four    75  female\n",
              "1   2  Max Ruin  Three    85    male\n",
              "2   3    Arnold  Three    55    male"
            ]
          },
          "execution_count": 121,
          "metadata": {},
          "output_type": "execute_result"
        }
      ],
      "source": [
        "#Make a copy\n",
        "df_marks_slice2 = df.copy()\n",
        "\n",
        "#Selecting the columns called name  and mark\n",
        "selected_columns = df[['name', 'mark']]\n",
        "\n",
        "print(\"Columns name and mark\")\n",
        "#display(selected_columns)\n",
        "df_marks_slice2.head(3)\n"
      ]
    },
    {
      "cell_type": "markdown",
      "id": "8976c2cb",
      "metadata": {},
      "source": [
        "### Rows where class is Four"
      ]
    },
    {
      "cell_type": "code",
      "execution_count": 122,
      "id": "847af498",
      "metadata": {},
      "outputs": [
        {
          "name": "stdout",
          "output_type": "stream",
          "text": [
            "\n",
            "Rows with four in class column:\n"
          ]
        },
        {
          "data": {
            "application/vnd.microsoft.datawrangler.viewer.v0+json": {
              "columns": [
                {
                  "name": "index",
                  "rawType": "int64",
                  "type": "integer"
                },
                {
                  "name": "id",
                  "rawType": "int64",
                  "type": "integer"
                },
                {
                  "name": "name",
                  "rawType": "object",
                  "type": "string"
                },
                {
                  "name": "class",
                  "rawType": "object",
                  "type": "string"
                }
              ],
              "conversionMethod": "pd.DataFrame",
              "ref": "9b334290-d499-44f8-a237-ac6767cc8091",
              "rows": [
                [
                  "0",
                  "1",
                  "John Deo",
                  "Four"
                ],
                [
                  "3",
                  "4",
                  "Krish Star",
                  "Four"
                ],
                [
                  "4",
                  "5",
                  "John Mike",
                  "Four"
                ],
                [
                  "5",
                  "6",
                  "Alex John",
                  "Four"
                ],
                [
                  "9",
                  "10",
                  "Big John",
                  "Four"
                ],
                [
                  "15",
                  "16",
                  "Gimmy",
                  "Four"
                ],
                [
                  "20",
                  "21",
                  "Babby John",
                  "Four"
                ],
                [
                  "30",
                  "31",
                  "Marry Toeey",
                  "Four"
                ]
              ],
              "shape": {
                "columns": 3,
                "rows": 8
              }
            },
            "text/html": [
              "<div>\n",
              "<style scoped>\n",
              "    .dataframe tbody tr th:only-of-type {\n",
              "        vertical-align: middle;\n",
              "    }\n",
              "\n",
              "    .dataframe tbody tr th {\n",
              "        vertical-align: top;\n",
              "    }\n",
              "\n",
              "    .dataframe thead th {\n",
              "        text-align: right;\n",
              "    }\n",
              "</style>\n",
              "<table border=\"1\" class=\"dataframe\">\n",
              "  <thead>\n",
              "    <tr style=\"text-align: right;\">\n",
              "      <th></th>\n",
              "      <th>id</th>\n",
              "      <th>name</th>\n",
              "      <th>class</th>\n",
              "    </tr>\n",
              "  </thead>\n",
              "  <tbody>\n",
              "    <tr>\n",
              "      <th>0</th>\n",
              "      <td>1</td>\n",
              "      <td>John Deo</td>\n",
              "      <td>Four</td>\n",
              "    </tr>\n",
              "    <tr>\n",
              "      <th>3</th>\n",
              "      <td>4</td>\n",
              "      <td>Krish Star</td>\n",
              "      <td>Four</td>\n",
              "    </tr>\n",
              "    <tr>\n",
              "      <th>4</th>\n",
              "      <td>5</td>\n",
              "      <td>John Mike</td>\n",
              "      <td>Four</td>\n",
              "    </tr>\n",
              "    <tr>\n",
              "      <th>5</th>\n",
              "      <td>6</td>\n",
              "      <td>Alex John</td>\n",
              "      <td>Four</td>\n",
              "    </tr>\n",
              "    <tr>\n",
              "      <th>9</th>\n",
              "      <td>10</td>\n",
              "      <td>Big John</td>\n",
              "      <td>Four</td>\n",
              "    </tr>\n",
              "    <tr>\n",
              "      <th>15</th>\n",
              "      <td>16</td>\n",
              "      <td>Gimmy</td>\n",
              "      <td>Four</td>\n",
              "    </tr>\n",
              "    <tr>\n",
              "      <th>20</th>\n",
              "      <td>21</td>\n",
              "      <td>Babby John</td>\n",
              "      <td>Four</td>\n",
              "    </tr>\n",
              "    <tr>\n",
              "      <th>30</th>\n",
              "      <td>31</td>\n",
              "      <td>Marry Toeey</td>\n",
              "      <td>Four</td>\n",
              "    </tr>\n",
              "  </tbody>\n",
              "</table>\n",
              "</div>"
            ],
            "text/plain": [
              "    id         name class\n",
              "0    1     John Deo  Four\n",
              "3    4   Krish Star  Four\n",
              "4    5    John Mike  Four\n",
              "5    6    Alex John  Four\n",
              "9   10     Big John  Four\n",
              "15  16        Gimmy  Four\n",
              "20  21   Babby John  Four\n",
              "30  31  Marry Toeey  Four"
            ]
          },
          "metadata": {},
          "output_type": "display_data"
        }
      ],
      "source": [
        "# Filter rows where class is 'Four'\n",
        "df_four_class = df.copy()\n",
        "four_in_class = df_four_class.loc[(df_four_class['class'] == 'Four')] \n",
        "print(\"\\nRows with four in class column:\")\n",
        "display(four_in_class[['id', 'name', 'class']])"
      ]
    },
    {
      "cell_type": "markdown",
      "id": "rPpP6_W6H3s1",
      "metadata": {
        "id": "rPpP6_W6H3s1"
      },
      "source": [
        "### 2.6 Filtering Data Based on Conditions\n",
        "\n",
        "Select rows meeting specific criteria using boolean indexing."
      ]
    },
    {
      "cell_type": "code",
      "execution_count": 123,
      "id": "IaXvy-esH3s1",
      "metadata": {
        "id": "IaXvy-esH3s1"
      },
      "outputs": [
        {
          "name": "stdout",
          "output_type": "stream",
          "text": [
            "Students with score > 85:\n"
          ]
        },
        {
          "data": {
            "application/vnd.microsoft.datawrangler.viewer.v0+json": {
              "columns": [
                {
                  "name": "index",
                  "rawType": "int64",
                  "type": "integer"
                },
                {
                  "name": "id",
                  "rawType": "int64",
                  "type": "integer"
                },
                {
                  "name": "name",
                  "rawType": "object",
                  "type": "string"
                },
                {
                  "name": "score",
                  "rawType": "int64",
                  "type": "integer"
                }
              ],
              "conversionMethod": "pd.DataFrame",
              "ref": "cad704d9-6738-4357-bc96-ceb05748a24b",
              "rows": [
                [
                  "10",
                  "11",
                  "Ronald",
                  "89"
                ],
                [
                  "11",
                  "12",
                  "Recky",
                  "94"
                ],
                [
                  "12",
                  "13",
                  "Kty",
                  "88"
                ],
                [
                  "13",
                  "14",
                  "Bigy",
                  "88"
                ],
                [
                  "14",
                  "15",
                  "Tade Row",
                  "88"
                ],
                [
                  "15",
                  "16",
                  "Gimmy",
                  "88"
                ],
                [
                  "24",
                  "25",
                  "Giff Tow",
                  "88"
                ],
                [
                  "27",
                  "28",
                  "Rojj Base",
                  "86"
                ],
                [
                  "30",
                  "31",
                  "Marry Toeey",
                  "88"
                ],
                [
                  "31",
                  "32",
                  "Binn Rott",
                  "90"
                ],
                [
                  "32",
                  "33",
                  "Kenn Rein",
                  "96"
                ],
                [
                  "34",
                  "35",
                  "Rows Noump",
                  "88"
                ]
              ],
              "shape": {
                "columns": 3,
                "rows": 12
              }
            },
            "text/html": [
              "<div>\n",
              "<style scoped>\n",
              "    .dataframe tbody tr th:only-of-type {\n",
              "        vertical-align: middle;\n",
              "    }\n",
              "\n",
              "    .dataframe tbody tr th {\n",
              "        vertical-align: top;\n",
              "    }\n",
              "\n",
              "    .dataframe thead th {\n",
              "        text-align: right;\n",
              "    }\n",
              "</style>\n",
              "<table border=\"1\" class=\"dataframe\">\n",
              "  <thead>\n",
              "    <tr style=\"text-align: right;\">\n",
              "      <th></th>\n",
              "      <th>id</th>\n",
              "      <th>name</th>\n",
              "      <th>score</th>\n",
              "    </tr>\n",
              "  </thead>\n",
              "  <tbody>\n",
              "    <tr>\n",
              "      <th>10</th>\n",
              "      <td>11</td>\n",
              "      <td>Ronald</td>\n",
              "      <td>89</td>\n",
              "    </tr>\n",
              "    <tr>\n",
              "      <th>11</th>\n",
              "      <td>12</td>\n",
              "      <td>Recky</td>\n",
              "      <td>94</td>\n",
              "    </tr>\n",
              "    <tr>\n",
              "      <th>12</th>\n",
              "      <td>13</td>\n",
              "      <td>Kty</td>\n",
              "      <td>88</td>\n",
              "    </tr>\n",
              "    <tr>\n",
              "      <th>13</th>\n",
              "      <td>14</td>\n",
              "      <td>Bigy</td>\n",
              "      <td>88</td>\n",
              "    </tr>\n",
              "    <tr>\n",
              "      <th>14</th>\n",
              "      <td>15</td>\n",
              "      <td>Tade Row</td>\n",
              "      <td>88</td>\n",
              "    </tr>\n",
              "    <tr>\n",
              "      <th>15</th>\n",
              "      <td>16</td>\n",
              "      <td>Gimmy</td>\n",
              "      <td>88</td>\n",
              "    </tr>\n",
              "    <tr>\n",
              "      <th>24</th>\n",
              "      <td>25</td>\n",
              "      <td>Giff Tow</td>\n",
              "      <td>88</td>\n",
              "    </tr>\n",
              "    <tr>\n",
              "      <th>27</th>\n",
              "      <td>28</td>\n",
              "      <td>Rojj Base</td>\n",
              "      <td>86</td>\n",
              "    </tr>\n",
              "    <tr>\n",
              "      <th>30</th>\n",
              "      <td>31</td>\n",
              "      <td>Marry Toeey</td>\n",
              "      <td>88</td>\n",
              "    </tr>\n",
              "    <tr>\n",
              "      <th>31</th>\n",
              "      <td>32</td>\n",
              "      <td>Binn Rott</td>\n",
              "      <td>90</td>\n",
              "    </tr>\n",
              "    <tr>\n",
              "      <th>32</th>\n",
              "      <td>33</td>\n",
              "      <td>Kenn Rein</td>\n",
              "      <td>96</td>\n",
              "    </tr>\n",
              "    <tr>\n",
              "      <th>34</th>\n",
              "      <td>35</td>\n",
              "      <td>Rows Noump</td>\n",
              "      <td>88</td>\n",
              "    </tr>\n",
              "  </tbody>\n",
              "</table>\n",
              "</div>"
            ],
            "text/plain": [
              "    id         name  score\n",
              "10  11       Ronald     89\n",
              "11  12        Recky     94\n",
              "12  13          Kty     88\n",
              "13  14         Bigy     88\n",
              "14  15     Tade Row     88\n",
              "15  16        Gimmy     88\n",
              "24  25     Giff Tow     88\n",
              "27  28    Rojj Base     86\n",
              "30  31  Marry Toeey     88\n",
              "31  32    Binn Rott     90\n",
              "32  33    Kenn Rein     96\n",
              "34  35   Rows Noump     88"
            ]
          },
          "metadata": {},
          "output_type": "display_data"
        },
        {
          "name": "stdout",
          "output_type": "stream",
          "text": [
            "\n",
            "Female students in grade Six:\n"
          ]
        },
        {
          "data": {
            "application/vnd.microsoft.datawrangler.viewer.v0+json": {
              "columns": [
                {
                  "name": "index",
                  "rawType": "int64",
                  "type": "integer"
                },
                {
                  "name": "id",
                  "rawType": "int64",
                  "type": "integer"
                },
                {
                  "name": "name",
                  "rawType": "object",
                  "type": "string"
                },
                {
                  "name": "grade",
                  "rawType": "object",
                  "type": "string"
                },
                {
                  "name": "gender",
                  "rawType": "object",
                  "type": "string"
                },
                {
                  "name": "score",
                  "rawType": "int64",
                  "type": "integer"
                }
              ],
              "conversionMethod": "pd.DataFrame",
              "ref": "4f2dca70-92b1-4d8c-9b18-3c8d38e13a8e",
              "rows": [
                [
                  "10",
                  "11",
                  "Ronald",
                  "Six",
                  "female",
                  "89"
                ],
                [
                  "11",
                  "12",
                  "Recky",
                  "Six",
                  "female",
                  "94"
                ],
                [
                  "29",
                  "30",
                  "Reppy Red",
                  "Six",
                  "female",
                  "79"
                ],
                [
                  "32",
                  "33",
                  "Kenn Rein",
                  "Six",
                  "female",
                  "96"
                ],
                [
                  "34",
                  "35",
                  "Rows Noump",
                  "Six",
                  "female",
                  "88"
                ]
              ],
              "shape": {
                "columns": 5,
                "rows": 5
              }
            },
            "text/html": [
              "<div>\n",
              "<style scoped>\n",
              "    .dataframe tbody tr th:only-of-type {\n",
              "        vertical-align: middle;\n",
              "    }\n",
              "\n",
              "    .dataframe tbody tr th {\n",
              "        vertical-align: top;\n",
              "    }\n",
              "\n",
              "    .dataframe thead th {\n",
              "        text-align: right;\n",
              "    }\n",
              "</style>\n",
              "<table border=\"1\" class=\"dataframe\">\n",
              "  <thead>\n",
              "    <tr style=\"text-align: right;\">\n",
              "      <th></th>\n",
              "      <th>id</th>\n",
              "      <th>name</th>\n",
              "      <th>grade</th>\n",
              "      <th>gender</th>\n",
              "      <th>score</th>\n",
              "    </tr>\n",
              "  </thead>\n",
              "  <tbody>\n",
              "    <tr>\n",
              "      <th>10</th>\n",
              "      <td>11</td>\n",
              "      <td>Ronald</td>\n",
              "      <td>Six</td>\n",
              "      <td>female</td>\n",
              "      <td>89</td>\n",
              "    </tr>\n",
              "    <tr>\n",
              "      <th>11</th>\n",
              "      <td>12</td>\n",
              "      <td>Recky</td>\n",
              "      <td>Six</td>\n",
              "      <td>female</td>\n",
              "      <td>94</td>\n",
              "    </tr>\n",
              "    <tr>\n",
              "      <th>29</th>\n",
              "      <td>30</td>\n",
              "      <td>Reppy Red</td>\n",
              "      <td>Six</td>\n",
              "      <td>female</td>\n",
              "      <td>79</td>\n",
              "    </tr>\n",
              "    <tr>\n",
              "      <th>32</th>\n",
              "      <td>33</td>\n",
              "      <td>Kenn Rein</td>\n",
              "      <td>Six</td>\n",
              "      <td>female</td>\n",
              "      <td>96</td>\n",
              "    </tr>\n",
              "    <tr>\n",
              "      <th>34</th>\n",
              "      <td>35</td>\n",
              "      <td>Rows Noump</td>\n",
              "      <td>Six</td>\n",
              "      <td>female</td>\n",
              "      <td>88</td>\n",
              "    </tr>\n",
              "  </tbody>\n",
              "</table>\n",
              "</div>"
            ],
            "text/plain": [
              "    id        name grade  gender  score\n",
              "10  11      Ronald   Six  female     89\n",
              "11  12       Recky   Six  female     94\n",
              "29  30   Reppy Red   Six  female     79\n",
              "32  33   Kenn Rein   Six  female     96\n",
              "34  35  Rows Noump   Six  female     88"
            ]
          },
          "metadata": {},
          "output_type": "display_data"
        },
        {
          "name": "stdout",
          "output_type": "stream",
          "text": [
            "\n",
            "Students in grade Seven or Eight:\n"
          ]
        },
        {
          "data": {
            "application/vnd.microsoft.datawrangler.viewer.v0+json": {
              "columns": [
                {
                  "name": "index",
                  "rawType": "int64",
                  "type": "integer"
                },
                {
                  "name": "id",
                  "rawType": "int64",
                  "type": "integer"
                },
                {
                  "name": "name",
                  "rawType": "object",
                  "type": "string"
                },
                {
                  "name": "grade",
                  "rawType": "object",
                  "type": "string"
                }
              ],
              "conversionMethod": "pd.DataFrame",
              "ref": "a8bc6942-7645-4755-913f-b8f32396a735",
              "rows": [
                [
                  "12",
                  "13",
                  "Kty",
                  "Seven"
                ],
                [
                  "13",
                  "14",
                  "Bigy",
                  "Seven"
                ],
                [
                  "21",
                  "22",
                  "Reggid",
                  "Seven"
                ],
                [
                  "22",
                  "23",
                  "Herod",
                  "Eight"
                ],
                [
                  "23",
                  "24",
                  "Tiddy Now",
                  "Seven"
                ]
              ],
              "shape": {
                "columns": 3,
                "rows": 5
              }
            },
            "text/html": [
              "<div>\n",
              "<style scoped>\n",
              "    .dataframe tbody tr th:only-of-type {\n",
              "        vertical-align: middle;\n",
              "    }\n",
              "\n",
              "    .dataframe tbody tr th {\n",
              "        vertical-align: top;\n",
              "    }\n",
              "\n",
              "    .dataframe thead th {\n",
              "        text-align: right;\n",
              "    }\n",
              "</style>\n",
              "<table border=\"1\" class=\"dataframe\">\n",
              "  <thead>\n",
              "    <tr style=\"text-align: right;\">\n",
              "      <th></th>\n",
              "      <th>id</th>\n",
              "      <th>name</th>\n",
              "      <th>grade</th>\n",
              "    </tr>\n",
              "  </thead>\n",
              "  <tbody>\n",
              "    <tr>\n",
              "      <th>12</th>\n",
              "      <td>13</td>\n",
              "      <td>Kty</td>\n",
              "      <td>Seven</td>\n",
              "    </tr>\n",
              "    <tr>\n",
              "      <th>13</th>\n",
              "      <td>14</td>\n",
              "      <td>Bigy</td>\n",
              "      <td>Seven</td>\n",
              "    </tr>\n",
              "    <tr>\n",
              "      <th>21</th>\n",
              "      <td>22</td>\n",
              "      <td>Reggid</td>\n",
              "      <td>Seven</td>\n",
              "    </tr>\n",
              "    <tr>\n",
              "      <th>22</th>\n",
              "      <td>23</td>\n",
              "      <td>Herod</td>\n",
              "      <td>Eight</td>\n",
              "    </tr>\n",
              "    <tr>\n",
              "      <th>23</th>\n",
              "      <td>24</td>\n",
              "      <td>Tiddy Now</td>\n",
              "      <td>Seven</td>\n",
              "    </tr>\n",
              "  </tbody>\n",
              "</table>\n",
              "</div>"
            ],
            "text/plain": [
              "    id       name  grade\n",
              "12  13        Kty  Seven\n",
              "13  14       Bigy  Seven\n",
              "21  22     Reggid  Seven\n",
              "22  23      Herod  Eight\n",
              "23  24  Tiddy Now  Seven"
            ]
          },
          "metadata": {},
          "output_type": "display_data"
        }
      ],
      "source": [
        "if not df_transformed.empty:\n",
        "    # Filter rows where score is greater than 85\n",
        "    high_scorers = df_transformed[df_transformed['score'] > 85]\n",
        "    print(\"Students with score > 85:\")\n",
        "    display(high_scorers[['id', 'name', 'score']])\n",
        "\n",
        "    # Filter for students in 'Six' grade who are 'female'\n",
        "    female_six = df_transformed.loc[(df_transformed['grade'] == 'Six') & (df_transformed['gender'] == 'female')]\n",
        "    print(\"\\nFemale students in grade Six:\")\n",
        "    display(female_six[['id', 'name', 'grade', 'gender', 'score']])\n",
        "\n",
        "    # Filter for students whose grade is 'Seven' OR 'Eight'\n",
        "    seven_or_eight = df_transformed[df_transformed['grade'].isin(['Seven', 'Eight'])]\n",
        "    print(\"\\nStudents in grade Seven or Eight:\")\n",
        "    display(seven_or_eight[['id', 'name', 'grade']].head())\n",
        "else:\n",
        "    print(\"Transformed DataFrame is empty.\")"
      ]
    },
    {
      "cell_type": "markdown",
      "id": "136e6415",
      "metadata": {},
      "source": [
        "### Data Manipulation"
      ]
    },
    {
      "cell_type": "code",
      "execution_count": 124,
      "id": "2b46d2aa",
      "metadata": {},
      "outputs": [
        {
          "name": "stdout",
          "output_type": "stream",
          "text": [
            "Student table with a new column: 'passed'\n"
          ]
        },
        {
          "data": {
            "application/vnd.microsoft.datawrangler.viewer.v0+json": {
              "columns": [
                {
                  "name": "index",
                  "rawType": "int64",
                  "type": "integer"
                },
                {
                  "name": "id",
                  "rawType": "int64",
                  "type": "integer"
                },
                {
                  "name": "name",
                  "rawType": "object",
                  "type": "unknown"
                },
                {
                  "name": "mark",
                  "rawType": "int64",
                  "type": "integer"
                },
                {
                  "name": "passed",
                  "rawType": "bool",
                  "type": "boolean"
                }
              ],
              "conversionMethod": "pd.DataFrame",
              "ref": "7ffd59db-361f-4d20-b35b-a705e390ea75",
              "rows": [
                [
                  "0",
                  "1",
                  "John Deo",
                  "75",
                  "True"
                ],
                [
                  "1",
                  "2",
                  "Max Ruin",
                  "85",
                  "True"
                ],
                [
                  "2",
                  "3",
                  "Arnold",
                  "55",
                  "False"
                ],
                [
                  "3",
                  "4",
                  "Krish Star",
                  "60",
                  "True"
                ],
                [
                  "4",
                  "5",
                  "John Mike",
                  "60",
                  "True"
                ],
                [
                  "5",
                  "6",
                  "Alex John",
                  "55",
                  "False"
                ],
                [
                  "6",
                  "7",
                  "My John Rob",
                  "78",
                  "True"
                ],
                [
                  "7",
                  "8",
                  "Asruid",
                  "85",
                  "True"
                ],
                [
                  "8",
                  "9",
                  "Tes Qry",
                  "78",
                  "True"
                ],
                [
                  "9",
                  "10",
                  "Big John",
                  "55",
                  "False"
                ],
                [
                  "10",
                  "11",
                  "Ronald",
                  "89",
                  "True"
                ],
                [
                  "11",
                  "12",
                  "Recky",
                  "94",
                  "True"
                ],
                [
                  "12",
                  "13",
                  "Kty",
                  "88",
                  "True"
                ],
                [
                  "13",
                  "14",
                  "Bigy",
                  "88",
                  "True"
                ],
                [
                  "14",
                  "15",
                  "Tade Row",
                  "88",
                  "True"
                ],
                [
                  "15",
                  "16",
                  "Gimmy",
                  "88",
                  "True"
                ],
                [
                  "16",
                  "17",
                  "Tumyu",
                  "54",
                  "False"
                ],
                [
                  "17",
                  "18",
                  "Honny",
                  "75",
                  "True"
                ],
                [
                  "18",
                  "19",
                  "Tinny",
                  "18",
                  "False"
                ],
                [
                  "19",
                  "20",
                  "Jackly",
                  "65",
                  "True"
                ],
                [
                  "20",
                  "21",
                  "Babby John",
                  "69",
                  "True"
                ],
                [
                  "21",
                  "22",
                  "Reggid",
                  "55",
                  "False"
                ],
                [
                  "22",
                  "23",
                  "Herod",
                  "79",
                  "True"
                ],
                [
                  "23",
                  "24",
                  "Tiddy Now",
                  "78",
                  "True"
                ],
                [
                  "24",
                  "25",
                  "Giff Tow",
                  "88",
                  "True"
                ],
                [
                  "25",
                  "26",
                  "Crelea",
                  "79",
                  "True"
                ],
                [
                  "26",
                  "27",
                  null,
                  "81",
                  "True"
                ],
                [
                  "27",
                  "28",
                  "Rojj Base",
                  "86",
                  "True"
                ],
                [
                  "28",
                  "29",
                  "Tess Played",
                  "55",
                  "False"
                ],
                [
                  "29",
                  "30",
                  "Reppy Red",
                  "79",
                  "True"
                ],
                [
                  "30",
                  "31",
                  "Marry Toeey",
                  "88",
                  "True"
                ],
                [
                  "31",
                  "32",
                  "Binn Rott",
                  "90",
                  "True"
                ],
                [
                  "32",
                  "33",
                  "Kenn Rein",
                  "96",
                  "True"
                ],
                [
                  "33",
                  "34",
                  "Gain Toe",
                  "69",
                  "True"
                ],
                [
                  "34",
                  "35",
                  "Rows Noump",
                  "88",
                  "True"
                ]
              ],
              "shape": {
                "columns": 4,
                "rows": 35
              }
            },
            "text/html": [
              "<div>\n",
              "<style scoped>\n",
              "    .dataframe tbody tr th:only-of-type {\n",
              "        vertical-align: middle;\n",
              "    }\n",
              "\n",
              "    .dataframe tbody tr th {\n",
              "        vertical-align: top;\n",
              "    }\n",
              "\n",
              "    .dataframe thead th {\n",
              "        text-align: right;\n",
              "    }\n",
              "</style>\n",
              "<table border=\"1\" class=\"dataframe\">\n",
              "  <thead>\n",
              "    <tr style=\"text-align: right;\">\n",
              "      <th></th>\n",
              "      <th>id</th>\n",
              "      <th>name</th>\n",
              "      <th>mark</th>\n",
              "      <th>passed</th>\n",
              "    </tr>\n",
              "  </thead>\n",
              "  <tbody>\n",
              "    <tr>\n",
              "      <th>0</th>\n",
              "      <td>1</td>\n",
              "      <td>John Deo</td>\n",
              "      <td>75</td>\n",
              "      <td>True</td>\n",
              "    </tr>\n",
              "    <tr>\n",
              "      <th>1</th>\n",
              "      <td>2</td>\n",
              "      <td>Max Ruin</td>\n",
              "      <td>85</td>\n",
              "      <td>True</td>\n",
              "    </tr>\n",
              "    <tr>\n",
              "      <th>2</th>\n",
              "      <td>3</td>\n",
              "      <td>Arnold</td>\n",
              "      <td>55</td>\n",
              "      <td>False</td>\n",
              "    </tr>\n",
              "    <tr>\n",
              "      <th>3</th>\n",
              "      <td>4</td>\n",
              "      <td>Krish Star</td>\n",
              "      <td>60</td>\n",
              "      <td>True</td>\n",
              "    </tr>\n",
              "    <tr>\n",
              "      <th>4</th>\n",
              "      <td>5</td>\n",
              "      <td>John Mike</td>\n",
              "      <td>60</td>\n",
              "      <td>True</td>\n",
              "    </tr>\n",
              "    <tr>\n",
              "      <th>5</th>\n",
              "      <td>6</td>\n",
              "      <td>Alex John</td>\n",
              "      <td>55</td>\n",
              "      <td>False</td>\n",
              "    </tr>\n",
              "    <tr>\n",
              "      <th>6</th>\n",
              "      <td>7</td>\n",
              "      <td>My John Rob</td>\n",
              "      <td>78</td>\n",
              "      <td>True</td>\n",
              "    </tr>\n",
              "    <tr>\n",
              "      <th>7</th>\n",
              "      <td>8</td>\n",
              "      <td>Asruid</td>\n",
              "      <td>85</td>\n",
              "      <td>True</td>\n",
              "    </tr>\n",
              "    <tr>\n",
              "      <th>8</th>\n",
              "      <td>9</td>\n",
              "      <td>Tes Qry</td>\n",
              "      <td>78</td>\n",
              "      <td>True</td>\n",
              "    </tr>\n",
              "    <tr>\n",
              "      <th>9</th>\n",
              "      <td>10</td>\n",
              "      <td>Big John</td>\n",
              "      <td>55</td>\n",
              "      <td>False</td>\n",
              "    </tr>\n",
              "    <tr>\n",
              "      <th>10</th>\n",
              "      <td>11</td>\n",
              "      <td>Ronald</td>\n",
              "      <td>89</td>\n",
              "      <td>True</td>\n",
              "    </tr>\n",
              "    <tr>\n",
              "      <th>11</th>\n",
              "      <td>12</td>\n",
              "      <td>Recky</td>\n",
              "      <td>94</td>\n",
              "      <td>True</td>\n",
              "    </tr>\n",
              "    <tr>\n",
              "      <th>12</th>\n",
              "      <td>13</td>\n",
              "      <td>Kty</td>\n",
              "      <td>88</td>\n",
              "      <td>True</td>\n",
              "    </tr>\n",
              "    <tr>\n",
              "      <th>13</th>\n",
              "      <td>14</td>\n",
              "      <td>Bigy</td>\n",
              "      <td>88</td>\n",
              "      <td>True</td>\n",
              "    </tr>\n",
              "    <tr>\n",
              "      <th>14</th>\n",
              "      <td>15</td>\n",
              "      <td>Tade Row</td>\n",
              "      <td>88</td>\n",
              "      <td>True</td>\n",
              "    </tr>\n",
              "    <tr>\n",
              "      <th>15</th>\n",
              "      <td>16</td>\n",
              "      <td>Gimmy</td>\n",
              "      <td>88</td>\n",
              "      <td>True</td>\n",
              "    </tr>\n",
              "    <tr>\n",
              "      <th>16</th>\n",
              "      <td>17</td>\n",
              "      <td>Tumyu</td>\n",
              "      <td>54</td>\n",
              "      <td>False</td>\n",
              "    </tr>\n",
              "    <tr>\n",
              "      <th>17</th>\n",
              "      <td>18</td>\n",
              "      <td>Honny</td>\n",
              "      <td>75</td>\n",
              "      <td>True</td>\n",
              "    </tr>\n",
              "    <tr>\n",
              "      <th>18</th>\n",
              "      <td>19</td>\n",
              "      <td>Tinny</td>\n",
              "      <td>18</td>\n",
              "      <td>False</td>\n",
              "    </tr>\n",
              "    <tr>\n",
              "      <th>19</th>\n",
              "      <td>20</td>\n",
              "      <td>Jackly</td>\n",
              "      <td>65</td>\n",
              "      <td>True</td>\n",
              "    </tr>\n",
              "    <tr>\n",
              "      <th>20</th>\n",
              "      <td>21</td>\n",
              "      <td>Babby John</td>\n",
              "      <td>69</td>\n",
              "      <td>True</td>\n",
              "    </tr>\n",
              "    <tr>\n",
              "      <th>21</th>\n",
              "      <td>22</td>\n",
              "      <td>Reggid</td>\n",
              "      <td>55</td>\n",
              "      <td>False</td>\n",
              "    </tr>\n",
              "    <tr>\n",
              "      <th>22</th>\n",
              "      <td>23</td>\n",
              "      <td>Herod</td>\n",
              "      <td>79</td>\n",
              "      <td>True</td>\n",
              "    </tr>\n",
              "    <tr>\n",
              "      <th>23</th>\n",
              "      <td>24</td>\n",
              "      <td>Tiddy Now</td>\n",
              "      <td>78</td>\n",
              "      <td>True</td>\n",
              "    </tr>\n",
              "    <tr>\n",
              "      <th>24</th>\n",
              "      <td>25</td>\n",
              "      <td>Giff Tow</td>\n",
              "      <td>88</td>\n",
              "      <td>True</td>\n",
              "    </tr>\n",
              "    <tr>\n",
              "      <th>25</th>\n",
              "      <td>26</td>\n",
              "      <td>Crelea</td>\n",
              "      <td>79</td>\n",
              "      <td>True</td>\n",
              "    </tr>\n",
              "    <tr>\n",
              "      <th>26</th>\n",
              "      <td>27</td>\n",
              "      <td>NaN</td>\n",
              "      <td>81</td>\n",
              "      <td>True</td>\n",
              "    </tr>\n",
              "    <tr>\n",
              "      <th>27</th>\n",
              "      <td>28</td>\n",
              "      <td>Rojj Base</td>\n",
              "      <td>86</td>\n",
              "      <td>True</td>\n",
              "    </tr>\n",
              "    <tr>\n",
              "      <th>28</th>\n",
              "      <td>29</td>\n",
              "      <td>Tess Played</td>\n",
              "      <td>55</td>\n",
              "      <td>False</td>\n",
              "    </tr>\n",
              "    <tr>\n",
              "      <th>29</th>\n",
              "      <td>30</td>\n",
              "      <td>Reppy Red</td>\n",
              "      <td>79</td>\n",
              "      <td>True</td>\n",
              "    </tr>\n",
              "    <tr>\n",
              "      <th>30</th>\n",
              "      <td>31</td>\n",
              "      <td>Marry Toeey</td>\n",
              "      <td>88</td>\n",
              "      <td>True</td>\n",
              "    </tr>\n",
              "    <tr>\n",
              "      <th>31</th>\n",
              "      <td>32</td>\n",
              "      <td>Binn Rott</td>\n",
              "      <td>90</td>\n",
              "      <td>True</td>\n",
              "    </tr>\n",
              "    <tr>\n",
              "      <th>32</th>\n",
              "      <td>33</td>\n",
              "      <td>Kenn Rein</td>\n",
              "      <td>96</td>\n",
              "      <td>True</td>\n",
              "    </tr>\n",
              "    <tr>\n",
              "      <th>33</th>\n",
              "      <td>34</td>\n",
              "      <td>Gain Toe</td>\n",
              "      <td>69</td>\n",
              "      <td>True</td>\n",
              "    </tr>\n",
              "    <tr>\n",
              "      <th>34</th>\n",
              "      <td>35</td>\n",
              "      <td>Rows Noump</td>\n",
              "      <td>88</td>\n",
              "      <td>True</td>\n",
              "    </tr>\n",
              "  </tbody>\n",
              "</table>\n",
              "</div>"
            ],
            "text/plain": [
              "    id         name  mark  passed\n",
              "0    1     John Deo    75    True\n",
              "1    2     Max Ruin    85    True\n",
              "2    3       Arnold    55   False\n",
              "3    4   Krish Star    60    True\n",
              "4    5    John Mike    60    True\n",
              "5    6    Alex John    55   False\n",
              "6    7  My John Rob    78    True\n",
              "7    8       Asruid    85    True\n",
              "8    9      Tes Qry    78    True\n",
              "9   10     Big John    55   False\n",
              "10  11       Ronald    89    True\n",
              "11  12        Recky    94    True\n",
              "12  13          Kty    88    True\n",
              "13  14         Bigy    88    True\n",
              "14  15     Tade Row    88    True\n",
              "15  16        Gimmy    88    True\n",
              "16  17        Tumyu    54   False\n",
              "17  18        Honny    75    True\n",
              "18  19        Tinny    18   False\n",
              "19  20       Jackly    65    True\n",
              "20  21   Babby John    69    True\n",
              "21  22       Reggid    55   False\n",
              "22  23        Herod    79    True\n",
              "23  24    Tiddy Now    78    True\n",
              "24  25     Giff Tow    88    True\n",
              "25  26       Crelea    79    True\n",
              "26  27          NaN    81    True\n",
              "27  28    Rojj Base    86    True\n",
              "28  29  Tess Played    55   False\n",
              "29  30    Reppy Red    79    True\n",
              "30  31  Marry Toeey    88    True\n",
              "31  32    Binn Rott    90    True\n",
              "32  33    Kenn Rein    96    True\n",
              "33  34     Gain Toe    69    True\n",
              "34  35   Rows Noump    88    True"
            ]
          },
          "metadata": {},
          "output_type": "display_data"
        }
      ],
      "source": [
        "#Make a copy to do filters\n",
        "students_df = df.copy()\n",
        "\n",
        "#Writing a new column\n",
        "students_df['passed'] = students_df['mark'] >= 60\n",
        "\n",
        "print(\"Student table with a new column: \\'passed'\")\n",
        "display(students_df[['id', 'name', 'mark', 'passed']])\n",
        "\n"
      ]
    },
    {
      "cell_type": "markdown",
      "id": "5ce2df10",
      "metadata": {},
      "source": [
        "### Changing column name"
      ]
    },
    {
      "cell_type": "code",
      "execution_count": 125,
      "id": "1d9a8b3e",
      "metadata": {},
      "outputs": [
        {
          "name": "stdout",
          "output_type": "stream",
          "text": [
            "\n",
            "New column name after renaming:\n"
          ]
        },
        {
          "data": {
            "text/plain": [
              "Index(['id', 'name', 'class', 'score', 'gender'], dtype='object')"
            ]
          },
          "metadata": {},
          "output_type": "display_data"
        }
      ],
      "source": [
        "#Make a copy to do filters\n",
        "df_column_change = df.copy()\n",
        "\n",
        "# Rename column: 'mark' to 'score' \n",
        "df_column_change.rename(columns={'mark': 'score'}, inplace=True)\n",
        "\n",
        "print(\"\\nNew column name after renaming:\")\n",
        "display(df_column_change.columns)"
      ]
    },
    {
      "cell_type": "markdown",
      "id": "a4a1b3ee",
      "metadata": {},
      "source": [
        "### Dropping a column"
      ]
    },
    {
      "cell_type": "code",
      "execution_count": 126,
      "id": "4ffc3bcc",
      "metadata": {},
      "outputs": [
        {
          "data": {
            "application/vnd.microsoft.datawrangler.viewer.v0+json": {
              "columns": [
                {
                  "name": "index",
                  "rawType": "int64",
                  "type": "integer"
                },
                {
                  "name": "id",
                  "rawType": "int64",
                  "type": "integer"
                },
                {
                  "name": "name",
                  "rawType": "object",
                  "type": "string"
                },
                {
                  "name": "class",
                  "rawType": "object",
                  "type": "string"
                },
                {
                  "name": "mark",
                  "rawType": "int64",
                  "type": "integer"
                },
                {
                  "name": "gender",
                  "rawType": "object",
                  "type": "string"
                },
                {
                  "name": "passed",
                  "rawType": "bool",
                  "type": "boolean"
                }
              ],
              "conversionMethod": "pd.DataFrame",
              "ref": "79a70e5d-e1f2-4fdd-a432-7cc826fa0f6c",
              "rows": [
                [
                  "0",
                  "1",
                  "John Deo",
                  "Four",
                  "75",
                  "female",
                  "True"
                ],
                [
                  "1",
                  "2",
                  "Max Ruin",
                  "Three",
                  "85",
                  "male",
                  "True"
                ]
              ],
              "shape": {
                "columns": 6,
                "rows": 2
              }
            },
            "text/html": [
              "<div>\n",
              "<style scoped>\n",
              "    .dataframe tbody tr th:only-of-type {\n",
              "        vertical-align: middle;\n",
              "    }\n",
              "\n",
              "    .dataframe tbody tr th {\n",
              "        vertical-align: top;\n",
              "    }\n",
              "\n",
              "    .dataframe thead th {\n",
              "        text-align: right;\n",
              "    }\n",
              "</style>\n",
              "<table border=\"1\" class=\"dataframe\">\n",
              "  <thead>\n",
              "    <tr style=\"text-align: right;\">\n",
              "      <th></th>\n",
              "      <th>id</th>\n",
              "      <th>name</th>\n",
              "      <th>class</th>\n",
              "      <th>mark</th>\n",
              "      <th>gender</th>\n",
              "      <th>passed</th>\n",
              "    </tr>\n",
              "  </thead>\n",
              "  <tbody>\n",
              "    <tr>\n",
              "      <th>0</th>\n",
              "      <td>1</td>\n",
              "      <td>John Deo</td>\n",
              "      <td>Four</td>\n",
              "      <td>75</td>\n",
              "      <td>female</td>\n",
              "      <td>True</td>\n",
              "    </tr>\n",
              "    <tr>\n",
              "      <th>1</th>\n",
              "      <td>2</td>\n",
              "      <td>Max Ruin</td>\n",
              "      <td>Three</td>\n",
              "      <td>85</td>\n",
              "      <td>male</td>\n",
              "      <td>True</td>\n",
              "    </tr>\n",
              "  </tbody>\n",
              "</table>\n",
              "</div>"
            ],
            "text/plain": [
              "   id      name  class  mark  gender  passed\n",
              "0   1  John Deo   Four    75  female    True\n",
              "1   2  Max Ruin  Three    85    male    True"
            ]
          },
          "metadata": {},
          "output_type": "display_data"
        },
        {
          "data": {
            "application/vnd.microsoft.datawrangler.viewer.v0+json": {
              "columns": [
                {
                  "name": "index",
                  "rawType": "int64",
                  "type": "integer"
                },
                {
                  "name": "id",
                  "rawType": "int64",
                  "type": "integer"
                },
                {
                  "name": "name",
                  "rawType": "object",
                  "type": "string"
                },
                {
                  "name": "class",
                  "rawType": "object",
                  "type": "string"
                },
                {
                  "name": "mark",
                  "rawType": "int64",
                  "type": "integer"
                },
                {
                  "name": "gender",
                  "rawType": "object",
                  "type": "string"
                }
              ],
              "conversionMethod": "pd.DataFrame",
              "ref": "f6a00a7a-83ce-4acf-8ab2-6daaef42670a",
              "rows": [
                [
                  "0",
                  "1",
                  "John Deo",
                  "Four",
                  "75",
                  "female"
                ],
                [
                  "1",
                  "2",
                  "Max Ruin",
                  "Three",
                  "85",
                  "male"
                ]
              ],
              "shape": {
                "columns": 5,
                "rows": 2
              }
            },
            "text/html": [
              "<div>\n",
              "<style scoped>\n",
              "    .dataframe tbody tr th:only-of-type {\n",
              "        vertical-align: middle;\n",
              "    }\n",
              "\n",
              "    .dataframe tbody tr th {\n",
              "        vertical-align: top;\n",
              "    }\n",
              "\n",
              "    .dataframe thead th {\n",
              "        text-align: right;\n",
              "    }\n",
              "</style>\n",
              "<table border=\"1\" class=\"dataframe\">\n",
              "  <thead>\n",
              "    <tr style=\"text-align: right;\">\n",
              "      <th></th>\n",
              "      <th>id</th>\n",
              "      <th>name</th>\n",
              "      <th>class</th>\n",
              "      <th>mark</th>\n",
              "      <th>gender</th>\n",
              "    </tr>\n",
              "  </thead>\n",
              "  <tbody>\n",
              "    <tr>\n",
              "      <th>0</th>\n",
              "      <td>1</td>\n",
              "      <td>John Deo</td>\n",
              "      <td>Four</td>\n",
              "      <td>75</td>\n",
              "      <td>female</td>\n",
              "    </tr>\n",
              "    <tr>\n",
              "      <th>1</th>\n",
              "      <td>2</td>\n",
              "      <td>Max Ruin</td>\n",
              "      <td>Three</td>\n",
              "      <td>85</td>\n",
              "      <td>male</td>\n",
              "    </tr>\n",
              "  </tbody>\n",
              "</table>\n",
              "</div>"
            ],
            "text/plain": [
              "   id      name  class  mark  gender\n",
              "0   1  John Deo   Four    75  female\n",
              "1   2  Max Ruin  Three    85    male"
            ]
          },
          "execution_count": 126,
          "metadata": {},
          "output_type": "execute_result"
        }
      ],
      "source": [
        "# Make a copy to drop the column\n",
        "\n",
        "student_df = df.copy()\n",
        "df_dropped_column = students_df\n",
        "\n",
        "display(students_df.head(2))\n",
        "\n",
        "students_df['passed'] = students_df['mark'] >= 60\n",
        "\n",
        "#Dropping a column\n",
        "df_dropped_column = df_dropped_column.drop(columns=['passed'])\n",
        "df_dropped_column.head(2)\n",
        "\n"
      ]
    },
    {
      "cell_type": "code",
      "execution_count": null,
      "id": "dc66a4a2",
      "metadata": {},
      "outputs": [],
      "source": []
    },
    {
      "cell_type": "markdown",
      "id": "CkIrMg5mH3s1",
      "metadata": {
        "id": "CkIrMg5mH3s1"
      },
      "source": [
        "### 2.7 Drop Rows with Null Values (Context: Transformation)\n",
        "\n",
        "If a specific analysis requires no missing values *after* initial cleaning/filling, `dropna` can be used again."
      ]
    },
    {
      "cell_type": "code",
      "execution_count": 127,
      "id": "pl3VLmXfH3s2",
      "metadata": {
        "id": "pl3VLmXfH3s2"
      },
      "outputs": [
        {
          "name": "stdout",
          "output_type": "stream",
          "text": [
            "Shape before potential dropna in transformation: (35, 6)\n",
            "Shape after dropping any remaining NaNs: (35, 6)\n"
          ]
        }
      ],
      "source": [
        "if not df_transformed.empty:\n",
        "    # Assume df_transformed might still have NaNs if cleaning was skipped or partial\n",
        "    print(f\"Shape before potential dropna in transformation: {df_transformed.shape}\")\n",
        "    # Drop rows if *any* column still has NaN for a specific analysis need\n",
        "    df_analysis_ready = df_transformed.dropna()\n",
        "    print(f\"Shape after dropping any remaining NaNs: {df_analysis_ready.shape}\")\n",
        "    # Check if any NaNs are left\n",
        "    # print(f\"NaNs remaining: {df_analysis_ready.isnull().sum().sum()}\")\n",
        "else:\n",
        "    print(\"Transformed DataFrame is empty.\")"
      ]
    },
    {
      "cell_type": "markdown",
      "id": "r3jsnJmQH3s2",
      "metadata": {
        "id": "r3jsnJmQH3s2"
      },
      "source": [
        "### 2.8 Unique Value Counts (`.value_counts()`)\n",
        "\n",
        "Useful during transformation to understand distributions before grouping or filtering."
      ]
    },
    {
      "cell_type": "code",
      "execution_count": 128,
      "id": "92zIOV5hH3s2",
      "metadata": {
        "id": "92zIOV5hH3s2"
      },
      "outputs": [
        {
          "name": "stdout",
          "output_type": "stream",
          "text": [
            "Value Counts for grade (Transformation context):\n",
            "grade\n",
            "Seven      10\n",
            "4th         8\n",
            "Six         7\n",
            "3rd         3\n",
            "Five        2\n",
            "Nine        2\n",
            "Fifth       1\n",
            "Unknown     1\n",
            "Eight       1\n",
            "Name: count, dtype: int64\n",
            "\n",
            "Value Counts for gender:\n",
            "gender\n",
            "male       17\n",
            "female     16\n",
            "Unknown     2\n",
            "Name: count, dtype: int64\n"
          ]
        }
      ],
      "source": [
        "if not df_transformed.empty:\n",
        "    # Get frequency counts for the 'grade' column\n",
        "    print(\"Value Counts for grade (Transformation context):\")\n",
        "    print(df_transformed['grade'].value_counts())\n",
        "\n",
        "    # Get frequency counts for 'gender'\n",
        "    print(\"\\nValue Counts for gender:\")\n",
        "    print(df_transformed['gender'].value_counts())\n",
        "else:\n",
        "    print(\"Transformed DataFrame is empty.\")"
      ]
    },
    {
      "cell_type": "markdown",
      "id": "URdsMikvH3s2",
      "metadata": {
        "id": "URdsMikvH3s2"
      },
      "source": [
        "## Section 3: Basic Statistics\n",
        "\n",
        "Calculate descriptive statistics on the transformed data."
      ]
    },
    {
      "cell_type": "markdown",
      "id": "c3Z7YlT4H3s2",
      "metadata": {
        "id": "c3Z7YlT4H3s2"
      },
      "source": [
        "### 3.1 Summary Statistics (`.describe()`)\n",
        "\n",
        "Provides key stats for numerical columns (`id`, `score`)."
      ]
    },
    {
      "cell_type": "code",
      "execution_count": 45,
      "id": "4LiB8y_9H3s2",
      "metadata": {
        "id": "4LiB8y_9H3s2"
      },
      "outputs": [
        {
          "name": "stdout",
          "output_type": "stream",
          "text": [
            "Summary statistics for numerical columns (id, score):\n"
          ]
        },
        {
          "data": {
            "application/vnd.microsoft.datawrangler.viewer.v0+json": {
              "columns": [
                {
                  "name": "index",
                  "rawType": "object",
                  "type": "string"
                },
                {
                  "name": "id",
                  "rawType": "float64",
                  "type": "float"
                },
                {
                  "name": "score",
                  "rawType": "float64",
                  "type": "float"
                }
              ],
              "conversionMethod": "pd.DataFrame",
              "ref": "75a9e373-7cbb-40a4-8118-c2fbb8a1b7c8",
              "rows": [
                [
                  "count",
                  "35.0",
                  "35.0"
                ],
                [
                  "mean",
                  "18.0",
                  "74.65714285714286"
                ],
                [
                  "std",
                  "10.246950765959598",
                  "16.401116994139826"
                ],
                [
                  "min",
                  "1.0",
                  "18.0"
                ],
                [
                  "25%",
                  "9.5",
                  "62.5"
                ],
                [
                  "50%",
                  "18.0",
                  "79.0"
                ],
                [
                  "75%",
                  "26.5",
                  "88.0"
                ],
                [
                  "max",
                  "35.0",
                  "96.0"
                ]
              ],
              "shape": {
                "columns": 2,
                "rows": 8
              }
            },
            "text/html": [
              "<div>\n",
              "<style scoped>\n",
              "    .dataframe tbody tr th:only-of-type {\n",
              "        vertical-align: middle;\n",
              "    }\n",
              "\n",
              "    .dataframe tbody tr th {\n",
              "        vertical-align: top;\n",
              "    }\n",
              "\n",
              "    .dataframe thead th {\n",
              "        text-align: right;\n",
              "    }\n",
              "</style>\n",
              "<table border=\"1\" class=\"dataframe\">\n",
              "  <thead>\n",
              "    <tr style=\"text-align: right;\">\n",
              "      <th></th>\n",
              "      <th>id</th>\n",
              "      <th>score</th>\n",
              "    </tr>\n",
              "  </thead>\n",
              "  <tbody>\n",
              "    <tr>\n",
              "      <th>count</th>\n",
              "      <td>35.000000</td>\n",
              "      <td>35.000000</td>\n",
              "    </tr>\n",
              "    <tr>\n",
              "      <th>mean</th>\n",
              "      <td>18.000000</td>\n",
              "      <td>74.657143</td>\n",
              "    </tr>\n",
              "    <tr>\n",
              "      <th>std</th>\n",
              "      <td>10.246951</td>\n",
              "      <td>16.401117</td>\n",
              "    </tr>\n",
              "    <tr>\n",
              "      <th>min</th>\n",
              "      <td>1.000000</td>\n",
              "      <td>18.000000</td>\n",
              "    </tr>\n",
              "    <tr>\n",
              "      <th>25%</th>\n",
              "      <td>9.500000</td>\n",
              "      <td>62.500000</td>\n",
              "    </tr>\n",
              "    <tr>\n",
              "      <th>50%</th>\n",
              "      <td>18.000000</td>\n",
              "      <td>79.000000</td>\n",
              "    </tr>\n",
              "    <tr>\n",
              "      <th>75%</th>\n",
              "      <td>26.500000</td>\n",
              "      <td>88.000000</td>\n",
              "    </tr>\n",
              "    <tr>\n",
              "      <th>max</th>\n",
              "      <td>35.000000</td>\n",
              "      <td>96.000000</td>\n",
              "    </tr>\n",
              "  </tbody>\n",
              "</table>\n",
              "</div>"
            ],
            "text/plain": [
              "              id      score\n",
              "count  35.000000  35.000000\n",
              "mean   18.000000  74.657143\n",
              "std    10.246951  16.401117\n",
              "min     1.000000  18.000000\n",
              "25%     9.500000  62.500000\n",
              "50%    18.000000  79.000000\n",
              "75%    26.500000  88.000000\n",
              "max    35.000000  96.000000"
            ]
          },
          "metadata": {},
          "output_type": "display_data"
        },
        {
          "name": "stdout",
          "output_type": "stream",
          "text": [
            "\n",
            "Summary statistics for object columns (name, grade, gender, pass_fail):\n"
          ]
        },
        {
          "data": {
            "application/vnd.microsoft.datawrangler.viewer.v0+json": {
              "columns": [
                {
                  "name": "index",
                  "rawType": "object",
                  "type": "string"
                },
                {
                  "name": "name",
                  "rawType": "object",
                  "type": "unknown"
                },
                {
                  "name": "grade",
                  "rawType": "object",
                  "type": "unknown"
                },
                {
                  "name": "gender",
                  "rawType": "object",
                  "type": "unknown"
                },
                {
                  "name": "pass_fail",
                  "rawType": "object",
                  "type": "unknown"
                }
              ],
              "conversionMethod": "pd.DataFrame",
              "ref": "ac241420-d0ba-4598-ab27-351653ace883",
              "rows": [
                [
                  "count",
                  "35",
                  "35",
                  "35",
                  "35"
                ],
                [
                  "unique",
                  "35",
                  "9",
                  "3",
                  "2"
                ],
                [
                  "top",
                  "John Deo",
                  "Seven",
                  "male",
                  "Pass"
                ],
                [
                  "freq",
                  "1",
                  "10",
                  "17",
                  "28"
                ]
              ],
              "shape": {
                "columns": 4,
                "rows": 4
              }
            },
            "text/html": [
              "<div>\n",
              "<style scoped>\n",
              "    .dataframe tbody tr th:only-of-type {\n",
              "        vertical-align: middle;\n",
              "    }\n",
              "\n",
              "    .dataframe tbody tr th {\n",
              "        vertical-align: top;\n",
              "    }\n",
              "\n",
              "    .dataframe thead th {\n",
              "        text-align: right;\n",
              "    }\n",
              "</style>\n",
              "<table border=\"1\" class=\"dataframe\">\n",
              "  <thead>\n",
              "    <tr style=\"text-align: right;\">\n",
              "      <th></th>\n",
              "      <th>name</th>\n",
              "      <th>grade</th>\n",
              "      <th>gender</th>\n",
              "      <th>pass_fail</th>\n",
              "    </tr>\n",
              "  </thead>\n",
              "  <tbody>\n",
              "    <tr>\n",
              "      <th>count</th>\n",
              "      <td>35</td>\n",
              "      <td>35</td>\n",
              "      <td>35</td>\n",
              "      <td>35</td>\n",
              "    </tr>\n",
              "    <tr>\n",
              "      <th>unique</th>\n",
              "      <td>35</td>\n",
              "      <td>9</td>\n",
              "      <td>3</td>\n",
              "      <td>2</td>\n",
              "    </tr>\n",
              "    <tr>\n",
              "      <th>top</th>\n",
              "      <td>John Deo</td>\n",
              "      <td>Seven</td>\n",
              "      <td>male</td>\n",
              "      <td>Pass</td>\n",
              "    </tr>\n",
              "    <tr>\n",
              "      <th>freq</th>\n",
              "      <td>1</td>\n",
              "      <td>10</td>\n",
              "      <td>17</td>\n",
              "      <td>28</td>\n",
              "    </tr>\n",
              "  </tbody>\n",
              "</table>\n",
              "</div>"
            ],
            "text/plain": [
              "            name  grade gender pass_fail\n",
              "count         35     35     35        35\n",
              "unique        35      9      3         2\n",
              "top     John Deo  Seven   male      Pass\n",
              "freq           1     10     17        28"
            ]
          },
          "metadata": {},
          "output_type": "display_data"
        }
      ],
      "source": [
        "# Use the transformed DataFrame\n",
        "# Ensure df_transformed exists\n",
        "if 'df_transformed' in locals() and not df_transformed.empty:\n",
        "    df_stats = df_transformed.copy()\n",
        "\n",
        "    print(\"Summary statistics for numerical columns (id, score):\")\n",
        "    display(df_stats[['id', 'score']].describe())\n",
        "\n",
        "    print(\"\\nSummary statistics for object columns (name, grade, gender, pass_fail):\")\n",
        "    display(df_stats.describe(include=['object']))\n",
        "else:\n",
        "    print(\"Transformed data not available for statistics.\")\n",
        "    df_stats = pd.DataFrame() # Create empty df"
      ]
    },
    {
      "cell_type": "markdown",
      "id": "Y70zVV-hH3s2",
      "metadata": {
        "id": "Y70zVV-hH3s2"
      },
      "source": [
        "### 3.2 Mean, Median, Mode\n",
        "\n",
        "Calculate central tendency measures, primarily for the `score` column."
      ]
    },
    {
      "cell_type": "code",
      "execution_count": 46,
      "id": "HU2XbVsMH3s3",
      "metadata": {
        "id": "HU2XbVsMH3s3"
      },
      "outputs": [
        {
          "name": "stdout",
          "output_type": "stream",
          "text": [
            "Mean score: 74.66\n",
            "Median score: 79.0\n",
            "Mode score(s): [88]\n",
            "Mode grade(s): ['Seven']\n"
          ]
        }
      ],
      "source": [
        "if not df_stats.empty:\n",
        "    # Calculate mean score\n",
        "    print(f\"Mean score: {df_stats['score'].mean():.2f}\")\n",
        "\n",
        "    # Calculate median score\n",
        "    print(f\"Median score: {df_stats['score'].median()}\")\n",
        "\n",
        "    # Calculate mode for 'score'\n",
        "    score_mode = df_stats['score'].mode()\n",
        "    print(f\"Mode score(s): {list(score_mode)}\")\n",
        "\n",
        "    # Calculate mode for 'grade'\n",
        "    grade_mode = df_stats['grade'].mode()\n",
        "    print(f\"Mode grade(s): {list(grade_mode)}\")\n",
        "else:\n",
        "    print(\"Stats DataFrame is empty.\")"
      ]
    },
    {
      "cell_type": "markdown",
      "id": "R2T7kFGwH3s3",
      "metadata": {
        "id": "R2T7kFGwH3s3"
      },
      "source": [
        "### 3.3 Counting Non-Null Values (`.count()`)\n",
        "\n",
        "Counts non-missing values per column (should be equal to the number of rows if cleaning was complete)."
      ]
    },
    {
      "cell_type": "code",
      "execution_count": 47,
      "id": "pqpqaEWNH3s3",
      "metadata": {
        "id": "pqpqaEWNH3s3"
      },
      "outputs": [
        {
          "name": "stdout",
          "output_type": "stream",
          "text": [
            "Non-null value counts per column:\n",
            "id           35\n",
            "name         35\n",
            "grade        35\n",
            "score        35\n",
            "gender       35\n",
            "pass_fail    35\n",
            "dtype: int64\n"
          ]
        }
      ],
      "source": [
        "if not df_stats.empty:\n",
        "    # Count non-null values per column\n",
        "    print(\"Non-null value counts per column:\")\n",
        "    print(df_stats.count())\n",
        "else:\n",
        "    print(\"Stats DataFrame is empty.\")"
      ]
    },
    {
      "cell_type": "markdown",
      "id": "6jUFBNL5H3s3",
      "metadata": {
        "id": "6jUFBNL5H3s3"
      },
      "source": [
        "### 3.4 Frequency Counts (`.value_counts()` - Statistical Context)\n",
        "\n",
        "Shows distribution of categorical data like `grade`, `gender`, `pass_fail`."
      ]
    },
    {
      "cell_type": "code",
      "execution_count": 48,
      "id": "-kFxDkz7H3s3",
      "metadata": {
        "id": "-kFxDkz7H3s3"
      },
      "outputs": [
        {
          "name": "stdout",
          "output_type": "stream",
          "text": [
            "Frequency counts for grade:\n",
            "grade\n",
            "Seven      10\n",
            "4th         8\n",
            "Six         7\n",
            "3rd         3\n",
            "Five        2\n",
            "Nine        2\n",
            "Fifth       1\n",
            "Unknown     1\n",
            "Eight       1\n",
            "Name: count, dtype: int64\n",
            "\n",
            "Frequency counts for pass_fail (%):\n",
            "pass_fail\n",
            "Pass    80.0\n",
            "Fail    20.0\n",
            "Name: proportion, dtype: float64\n"
          ]
        }
      ],
      "source": [
        "if not df_stats.empty:\n",
        "    # Frequency counts for 'grade'\n",
        "    print(\"Frequency counts for grade:\")\n",
        "    print(df_stats['grade'].value_counts())\n",
        "\n",
        "    # Frequency counts for 'pass_fail' (normalized to show percentage)\n",
        "    print(\"\\nFrequency counts for pass_fail (%):\")\n",
        "    print(df_stats['pass_fail'].value_counts(normalize=True) * 100)\n",
        "else:\n",
        "    print(\"Stats DataFrame is empty.\")"
      ]
    },
    {
      "cell_type": "markdown",
      "id": "5epgwKUIH3s3",
      "metadata": {
        "id": "5epgwKUIH3s3"
      },
      "source": [
        "### 3.5 Correlation Matrix (`.corr()`)\n",
        "\n",
        "Calculates pairwise correlation between numerical columns (`id`, `score`). Note: Correlation between ID and score might not be very meaningful here."
      ]
    },
    {
      "cell_type": "code",
      "execution_count": 49,
      "id": "vbHUD3G8H3s3",
      "metadata": {
        "id": "vbHUD3G8H3s3"
      },
      "outputs": [
        {
          "name": "stdout",
          "output_type": "stream",
          "text": [
            "Numerical columns for correlation: ['id', 'score']\n",
            "\n",
            "Correlation matrix:\n"
          ]
        },
        {
          "data": {
            "application/vnd.microsoft.datawrangler.viewer.v0+json": {
              "columns": [
                {
                  "name": "index",
                  "rawType": "object",
                  "type": "string"
                },
                {
                  "name": "id",
                  "rawType": "float64",
                  "type": "float"
                },
                {
                  "name": "score",
                  "rawType": "float64",
                  "type": "float"
                }
              ],
              "conversionMethod": "pd.DataFrame",
              "ref": "5f40f398-3be9-4c97-8166-184b882fd61e",
              "rows": [
                [
                  "id",
                  "1.0",
                  "0.21158228728394504"
                ],
                [
                  "score",
                  "0.21158228728394504",
                  "1.0"
                ]
              ],
              "shape": {
                "columns": 2,
                "rows": 2
              }
            },
            "text/html": [
              "<div>\n",
              "<style scoped>\n",
              "    .dataframe tbody tr th:only-of-type {\n",
              "        vertical-align: middle;\n",
              "    }\n",
              "\n",
              "    .dataframe tbody tr th {\n",
              "        vertical-align: top;\n",
              "    }\n",
              "\n",
              "    .dataframe thead th {\n",
              "        text-align: right;\n",
              "    }\n",
              "</style>\n",
              "<table border=\"1\" class=\"dataframe\">\n",
              "  <thead>\n",
              "    <tr style=\"text-align: right;\">\n",
              "      <th></th>\n",
              "      <th>id</th>\n",
              "      <th>score</th>\n",
              "    </tr>\n",
              "  </thead>\n",
              "  <tbody>\n",
              "    <tr>\n",
              "      <th>id</th>\n",
              "      <td>1.000000</td>\n",
              "      <td>0.211582</td>\n",
              "    </tr>\n",
              "    <tr>\n",
              "      <th>score</th>\n",
              "      <td>0.211582</td>\n",
              "      <td>1.000000</td>\n",
              "    </tr>\n",
              "  </tbody>\n",
              "</table>\n",
              "</div>"
            ],
            "text/plain": [
              "             id     score\n",
              "id     1.000000  0.211582\n",
              "score  0.211582  1.000000"
            ]
          },
          "metadata": {},
          "output_type": "display_data"
        }
      ],
      "source": [
        "if not df_stats.empty:\n",
        "    # Select only numerical columns for correlation\n",
        "    numerical_cols = df_stats.select_dtypes(include=np.number).columns\n",
        "    print(f\"Numerical columns for correlation: {list(numerical_cols)}\\n\")\n",
        "\n",
        "    if len(numerical_cols) > 1:\n",
        "      # Calculate the correlation matrix\n",
        "      correlation_matrix = df_stats[numerical_cols].corr()\n",
        "      print(\"Correlation matrix:\")\n",
        "      display(correlation_matrix)\n",
        "\n",
        "      # Optional: Visualize correlation matrix\n",
        "      # plt.figure(figsize=(6, 4))\n",
        "      # sns.heatmap(correlation_matrix, annot=True, cmap='coolwarm', fmt=\".2f\")\n",
        "      # plt.title('Correlation Matrix')\n",
        "      # plt.show()\n",
        "    else:\n",
        "        print(\"Not enough numerical columns to calculate a correlation matrix.\")\n",
        "else:\n",
        "    print(\"Stats DataFrame is empty.\")"
      ]
    },
    {
      "cell_type": "markdown",
      "id": "UbaAhHBqH3s3",
      "metadata": {
        "id": "UbaAhHBqH3s3"
      },
      "source": [
        "### 3.6 Minimum and Maximum Values (`.min()`, `.max()`)\n",
        "\n",
        "Find the range of scores."
      ]
    },
    {
      "cell_type": "code",
      "execution_count": 50,
      "id": "hZOHhpcpH3s4",
      "metadata": {
        "id": "hZOHhpcpH3s4"
      },
      "outputs": [
        {
          "name": "stdout",
          "output_type": "stream",
          "text": [
            "Minimum score: 18\n",
            "Maximum score: 96\n"
          ]
        }
      ],
      "source": [
        "if not df_stats.empty:\n",
        "    # Find the minimum score\n",
        "    print(f\"Minimum score: {df_stats['score'].min()}\")\n",
        "\n",
        "    # Find the maximum score\n",
        "    print(f\"Maximum score: {df_stats['score'].max()}\")\n",
        "else:\n",
        "    print(\"Stats DataFrame is empty.\")"
      ]
    },
    {
      "cell_type": "markdown",
      "id": "0YfAbm7bH3s4",
      "metadata": {
        "id": "0YfAbm7bH3s4"
      },
      "source": [
        "## Section 4: Basic Visualizations\n",
        "\n",
        "Visualize patterns in the student data using pandas' built-in plotting functions."
      ]
    },
    {
      "cell_type": "markdown",
      "id": "cNFJntIDH3s4",
      "metadata": {
        "id": "cNFJntIDH3s4"
      },
      "source": [
        "### 4.1 Line Plots (`.plot()` or `.plot(kind='line')`)\n",
        "\n",
        "Line plots are less suitable for this dataset without a time component, but we can plot score vs ID (index)."
      ]
    },
    {
      "cell_type": "code",
      "execution_count": 51,
      "id": "Q1ZtECZdH3s4",
      "metadata": {
        "id": "Q1ZtECZdH3s4"
      },
      "outputs": [
        {
          "data": {
            "image/png": "[encoded data removed]",
            "text/plain": [
              "<Figure size 1200x500 with 1 Axes>"
            ]
          },
          "metadata": {},
          "output_type": "display_data"
        }
      ],
      "source": [
        "# Use the stats DataFrame\n",
        "# Ensure df_stats exists\n",
        "if 'df_stats' in locals() and not df_stats.empty:\n",
        "    df_viz = df_stats.copy()\n",
        "\n",
        "    # Plot score vs index\n",
        "    df_viz['score'].plot(kind='line', marker='.', linestyle='-', title='Score vs Index', figsize=(12, 5))\n",
        "    plt.xlabel('Student Index')\n",
        "    plt.ylabel('Score')\n",
        "    plt.grid(True)\n",
        "    plt.show()\n",
        "else:\n",
        "    print(\"Visualization data not available.\")\n",
        "    df_viz = pd.DataFrame() # Create empty df"
      ]
    },
    {
      "cell_type": "markdown",
      "id": "82S-Lrd3H3s4",
      "metadata": {
        "id": "82S-Lrd3H3s4"
      },
      "source": [
        "### 4.2 Bar Plots (`.plot.bar()` or `.plot(kind='bar')`)\n",
        "\n",
        "Compare average scores or counts across categories."
      ]
    },
    {
      "cell_type": "code",
      "execution_count": 52,
      "id": "0rKoQxGAH3s4",
      "metadata": {
        "id": "0rKoQxGAH3s4"
      },
      "outputs": [
        {
          "data": {
            "image/png": "[encoded data removed]",
            "text/plain": [
              "<Figure size 640x480 with 1 Axes>"
            ]
          },
          "metadata": {},
          "output_type": "display_data"
        },
        {
          "data": {
            "image/png": "[encoded data removed]",
            "text/plain": [
              "<Figure size 640x480 with 1 Axes>"
            ]
          },
          "metadata": {},
          "output_type": "display_data"
        }
      ],
      "source": [
        "if not df_viz.empty:\n",
        "    # Bar plot of average score per grade\n",
        "    avg_score_by_grade = df_viz.groupby('grade')['score'].mean().sort_values()\n",
        "    avg_score_by_grade.plot(kind='bar', title='Average Score by Grade')\n",
        "    plt.xlabel('Grade')\n",
        "    plt.ylabel('Average Score')\n",
        "    plt.xticks(rotation=45, ha='right')\n",
        "    plt.grid(axis='y', linestyle='--')\n",
        "    plt.tight_layout()\n",
        "    plt.show()\n",
        "\n",
        "    # Horizontal Bar plot showing student counts per gender\n",
        "    gender_counts = df_viz['gender'].value_counts().sort_values()\n",
        "    gender_counts.plot(kind='barh', title='Number of Students per Gender', color='purple')\n",
        "    plt.xlabel('Number of Students')\n",
        "    plt.ylabel('Gender')\n",
        "    plt.grid(axis='x', linestyle=':')\n",
        "    plt.tight_layout()\n",
        "    plt.show()\n",
        "else:\n",
        "    print(\"Visualization data not available.\")"
      ]
    },
    {
      "cell_type": "markdown",
      "id": "kqPzPNyXH3s4",
      "metadata": {
        "id": "kqPzPNyXH3s4"
      },
      "source": [
        "### 4.3 Histograms (`.plot.hist()` or `.plot(kind='hist')`)\n",
        "\n",
        "Show the distribution of numerical data like `score`."
      ]
    },
    {
      "cell_type": "code",
      "execution_count": 53,
      "id": "7745lehNH3s4",
      "metadata": {
        "id": "7745lehNH3s4"
      },
      "outputs": [
        {
          "data": {
            "image/png": "[encoded data removed]",
            "text/plain": [
              "<Figure size 640x480 with 1 Axes>"
            ]
          },
          "metadata": {},
          "output_type": "display_data"
        }
      ],
      "source": [
        "if not df_viz.empty:\n",
        "    # Histogram of scores\n",
        "    df_viz['score'].plot(kind='hist', bins=10, title='Distribution of Scores', edgecolor='black')\n",
        "    plt.xlabel('Score')\n",
        "    plt.ylabel('Frequency')\n",
        "    plt.axvline(df_viz['score'].mean(), color='red', linestyle='dashed', linewidth=1)\n",
        "    plt.axvline(df_viz['score'].median(), color='orange', linestyle='dotted', linewidth=1)\n",
        "    plt.legend({'Mean':df_viz['score'].mean(), 'Median':df_viz['score'].median()})\n",
        "    plt.grid(axis='y', linestyle=':')\n",
        "    plt.show()\n",
        "else:\n",
        "    print(\"Visualization data not available.\")"
      ]
    },
    {
      "cell_type": "markdown",
      "id": "tCKs-PudH3s5",
      "metadata": {
        "id": "tCKs-PudH3s5"
      },
      "source": [
        "### 4.4 Scatter Plots (`.plot.scatter()` or `.plot(kind='scatter')`)\n",
        "\n",
        "Explore relationship between two numerical variables (here, only `id` and `score`)."
      ]
    },
    {
      "cell_type": "code",
      "execution_count": 54,
      "id": "KA0-DfMrH3s5",
      "metadata": {
        "id": "KA0-DfMrH3s5"
      },
      "outputs": [
        {
          "data": {
            "image/png": "[encoded data removed]",
            "text/plain": [
              "<Figure size 640x480 with 1 Axes>"
            ]
          },
          "metadata": {},
          "output_type": "display_data"
        },
        {
          "name": "stdout",
          "output_type": "stream",
          "text": [
            "\n",
            "Scatter plot using seaborn (color-coded by Gender):\n"
          ]
        },
        {
          "data": {
            "image/png": "[encoded data removed]",
            "text/plain": [
              "<Figure size 640x480 with 1 Axes>"
            ]
          },
          "metadata": {},
          "output_type": "display_data"
        }
      ],
      "source": [
        "if not df_viz.empty and 'id' in df_viz.columns and 'score' in df_viz.columns:\n",
        "    # Scatter plot of id vs score\n",
        "    df_viz.plot(kind='scatter', x='id', y='score', title='Scatter Plot: ID vs Score', alpha=0.7)\n",
        "    plt.xlabel('Student ID')\n",
        "    plt.ylabel('Score')\n",
        "    plt.grid(True, linestyle=':')\n",
        "    plt.show()\n",
        "\n",
        "    # Using seaborn for potentially more informative scatter plot (color by gender)\n",
        "    print(\"\\nScatter plot using seaborn (color-coded by Gender):\")\n",
        "    sns.scatterplot(data=df_viz, x='id', y='score', hue='gender', s=60)\n",
        "    plt.title('Scatter Plot: ID vs Score (Colored by Gender)')\n",
        "    plt.xlabel('Student ID')\n",
        "    plt.ylabel('Score')\n",
        "    plt.grid(True, linestyle=':')\n",
        "    plt.legend(title='Gender')\n",
        "    plt.tight_layout()\n",
        "    plt.show()\n",
        "else:\n",
        "    print(\"Visualization data not available or missing 'id'/'score' columns.\")"
      ]
    },
    {
      "cell_type": "markdown",
      "id": "sAqbYM0HH3s5",
      "metadata": {
        "id": "sAqbYM0HH3s5"
      },
      "source": [
        "## Group Activities\n",
        "\n",
        "Now practice with the `student.csv` data! Use `df_cleaned` or `df_transformed` as your base."
      ]
    },
    {
      "cell_type": "markdown",
      "id": "YY8dH41WH3s5",
      "metadata": {
        "id": "YY8dH41WH3s5"
      },
      "source": [
        "### Activity 1: Data Cleaning Challenge\n",
        "\n",
        "1.  **Introduce & Detect:** Create a copy of `df` (original loaded data). Find the row where `id` is 15. Set the `score` for this row to `NaN`. Verify the missing value using `isnull().sum()`.\n",
        "2.  **Impute:** Fill the missing score you just created using the *mean* score of students in the *same grade* ('Seven' in this case, but find it programmatically) as the student with `id` 15.\n",
        "3.  **Replace:** Standardize all grade names containing 'Fif', 'Six', 'Sev', 'Eig', 'Nin' to just the digit (e.g., 'Fifth' -> '5', 'Six' -> '6', etc.). Use `.str.replace()` or multiple `.replace()` calls.\n",
        "4.  **Duplicates:** Check if there are any duplicate rows based on the `name` column. If so, display them.\n",
        "5.  **Whitespace:** Add extra spaces around some names (e.g., ` ' John Deo ' `) in a copy of the DataFrame and then use `.str.strip()` on the `name` column."
      ]
    },
    {
      "cell_type": "markdown",
      "id": "tcCq16yhH3s5",
      "metadata": {
        "id": "tcCq16yhH3s5"
      },
      "source": [
        "### Activity 2: Data Transformation Tasks\n",
        "\n",
        "1.  **New Column:** Create a column 'score_category' based on score: 'Excellent' (>=90), 'Good' (>=75), 'Average' (>=60), 'Needs Improvement' (<60). (Hint: `pd.cut` or multiple `np.where` calls).\n",
        "2.  **Filtering:** Select all 'male' students who are in grade 'Seven' or have a score below 55. Display their `id`, `name`, `grade`, `score`.\n",
        "3.  **Grouping & Aggregation:** Group by `grade` and find the *minimum* and *maximum* score for each grade.\n",
        "4.  **Sorting:** Sort the DataFrame primarily by `gender` (alphabetical) and secondarily by `score` (highest first). Display the top 10 rows.\n",
        "5.  **Selection:** Using `.loc`, select all rows where the `grade` is 'Six' and show only the `name` and `score` columns."
      ]
    },
    {
      "cell_type": "markdown",
      "id": "bsmwLGfOH3s5",
      "metadata": {
        "id": "bsmwLGfOH3s5"
      },
      "source": [
        "### Activity 3: Statistical Exploration\n",
        "\n",
        "1.  **Describe by Group:** Use `.groupby('gender')` and apply `.describe()` to the `score` column.\n",
        "2.  **Median per Group:** Find the median `score` for each `grade`.\n",
        "3.  **Mode:** What is the most frequent `score` in the dataset? What is the most frequent `grade`?\n",
        "4.  **Range:** Calculate the range (max - min) of scores for the entire dataset."
      ]
    },
    {
      "cell_type": "markdown",
      "id": "qxQRBFwVH3s5",
      "metadata": {
        "id": "qxQRBFwVH3s5"
      },
      "source": [
        "### Activity 4: Visualization Practice\n",
        "\n",
        "1.  **Histogram:** Create a histogram of `score` only for 'female' students.\n",
        "2.  **Bar Plot:** Create a bar plot showing the *count* of students in each `grade`.\n",
        "3.  **Scatter Plot:** Create a scatter plot comparing `id` (x-axis) vs `score` (y-axis). Color the points based on `pass_fail` status.\n",
        "4.  **(Challenge) Box Plot:** Create a box plot showing the distribution of `score` for each `gender`. Use `df.boxplot(column='score', by='gender')` or `sns.boxplot(x='gender', y='score', data=df_transformed)`."
      ]
    },
    {
      "cell_type": "markdown",
      "id": "-9IaPD7ZH3s6",
      "metadata": {
        "id": "-9IaPD7ZH3s6"
      },
      "source": [
        "## Best Practices Recap\n",
        "\n",
        "As you write more Python code, especially for data analysis, keep these practices in mind:\n",
        "\n",
        "1.  **Clear Variable Names:** Use descriptive names for DataFrames and variables (e.g., `df_cleaned`, `average_score`, `female_students`).\n",
        "2.  **Comments:** Explain the *why* behind your code, not just the *what*. Comment complex steps, assumptions, or the purpose of specific analyses.\n",
        "    ```python\n",
        "    # Calculate the mean score for 'Seven' grade to impute a missing value\n",
        "    mean_score_grade7 = df[df['grade'] == 'Seven']['score'].mean()\n",
        "    # Fill missing scores specifically for grade 'Seven'\n",
        "    df.loc[(df['grade'] == 'Seven') & (df['score'].isnull()), 'score'] = mean_score_grade7\n",
        "    ```\n",
        "3.  **Code Formatting:** Follow PEP 8 guidelines for Python code style (consistent indentation using 4 spaces, appropriate spacing, reasonable line length). Tools like Black or Flake8 can help.\n",
        "4.  **Use Markdown Cells:** Explain your methodology, steps, findings, and the structure of your analysis using markdown cells. This turns your notebook into a readable report.\n",
        "5.  **Work on Copies:** When performing significant cleaning or transformation steps, use `df.copy()` to create a copy. This preserves your original data and allows you to easily compare different approaches or backtrack if needed.\n",
        "6.  **Check Intermediary Steps:** After important operations (like merging, complex filtering, or imputation), use `.head()`, `.info()`, `.shape`, or `.isnull().sum()` to verify the results are as expected before proceeding."
      ]
    },
    {
      "cell_type": "markdown",
      "id": "cYbLsZ68H3s6",
      "metadata": {
        "id": "cYbLsZ68H3s6"
      },
      "source": [
        "## End of Day 3\n",
        "\n",
        "Congratulations! You've worked through loading, exploring, cleaning, transforming, analyzing, and visualizing data using pandas with a real dataset. These are essential skills for any data analyst or scientist using Python.\n",
        "\n",
        "Keep practicing, and don't hesitate to explore the extensive pandas documentation for even more capabilities!"
      ]
    }
  ],
  "metadata": {
    "colab": {
      "provenance": []
    },
    "kernelspec": {
      "display_name": "pip_install",
      "language": "python",
      "name": "python3"
    },
    "language_info": {
      "codemirror_mode": {
        "name": "ipython",
        "version": 3
      },
      "file_extension": ".py",
      "mimetype": "text/x-python",
      "name": "python",
      "nbconvert_exporter": "python",
      "pygments_lexer": "ipython3",
      "version": "3.13.2"
    }
  },
  "nbformat": 4,
  "nbformat_minor": 5
}
