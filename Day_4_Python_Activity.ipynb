{
 "cells": [
  {
   "cell_type": "markdown",
   "id": "1d59ce7d",
   "metadata": {},
   "source": [
    "# Pandas, Matplotlib and Seaborn"
   ]
  },
  {
   "cell_type": "code",
   "execution_count": 3,
   "id": "a163483f",
   "metadata": {},
   "outputs": [],
   "source": [
    "import pandas as pd\n",
    "import matplotlib.pyplot as plt\n",
    "import seaborn as sns\n",
    "import numpy as np"
   ]
  },
  {
   "cell_type": "markdown",
   "id": "3e9cb5a8",
   "metadata": {},
   "source": [
    "[Dataset Soruce](https://www.kaggle.com/datasets/rajkumarpandey02/gdp-in-usd-per-capita-income-by-country)"
   ]
  },
  {
   "cell_type": "markdown",
   "id": "7d8ea84d",
   "metadata": {},
   "source": [
    "CONTENT\n",
    "<p>The figures presented here do not take into account differences in the cost of living in different countries, and the results vary greatly from one year to another based on fluctuations in the exchange rates of the country's currency. Such fluctuations change a country's ranking from one year to the next, even though they often make little or no difference to the standard of living of its population.\n",
    "\n",
    "GDP per capita is often considered an indicator of a country's standard of living; however, this is inaccurate because GDP per capita is not a measure of personal income.\n",
    "\n",
    "Comparisons of national income are also frequently made on the basis of purchasing power parity (PPP), to adjust for differences in the cost of living in different countries. (See List of countries by GDP (PPP) per capita.) PPP largely removes the exchange rate problem but not others; it does not reflect the value of economic output in international trade, and it also requires more estimation than GDP per capita. On the whole, PPP per capita figures are more narrowly spread than nominal GDP per capita figures.</p>"
   ]
  },
  {
   "cell_type": "markdown",
   "id": "439369dd",
   "metadata": {},
   "source": [
    "Here are some resources to learn about GDP: \n",
    "#### [World Bank](https://data.worldbank.org/indicator/ny.gdp.pcap.cd?most_recent_value_desc=false)\n",
    "#### [Our World in Data](https://ourworldindata.org/grapher/gdp-per-capita-worldbank)\n",
    "#### [IMF](https://www.imf.org/external/datamapper/NGDPD@WEO/OEMDC/ADVEC/WEOWORLD)\n",
    "#### [UN Data](https://data.un.org/Data.aspx?d=SNAAMA&f=grID%3A101%3BcurrID%3AUSD%3BpcFlag%3A1)\n",
    "\n"
   ]
  },
  {
   "cell_type": "code",
   "execution_count": null,
   "id": "c877d1ec",
   "metadata": {},
   "outputs": [],
   "source": []
  },
  {
   "cell_type": "code",
   "execution_count": null,
   "id": "803cc22b",
   "metadata": {},
   "outputs": [],
   "source": []
  },
  {
   "cell_type": "markdown",
   "id": "dddff436",
   "metadata": {},
   "source": [
    "# Read and save the ‘GDP (nominal) per Capita’ csv"
   ]
  },
  {
   "cell_type": "code",
   "execution_count": 2,
   "id": "d007012d",
   "metadata": {},
   "outputs": [],
   "source": [
    "df = pd.read_csv(\"GDP (nominal) per Capita.csv\",encoding= 'unicode_escape',  index_col=0)"
   ]
  },
  {
   "cell_type": "markdown",
   "id": "96a8f1f7",
   "metadata": {},
   "source": [
    "## EDA (Exploratory Data Analysis)"
   ]
  },
  {
   "cell_type": "markdown",
   "id": "5110f855-43ca-4e07-bab6-0339c0cfb3a0",
   "metadata": {},
   "source": [
    "### Use this section to explore and inspect dataset."
   ]
  },
  {
   "cell_type": "markdown",
   "id": "6812dcd2",
   "metadata": {},
   "source": [
    "### Main Statistics"
   ]
  },
  {
   "cell_type": "code",
   "execution_count": 4,
   "id": "2936370b",
   "metadata": {},
   "outputs": [
    {
     "name": "stdout",
     "output_type": "stream",
     "text": [
      "        IMF_Estimate     IMF_Year  WorldBank_Estimate  WorldBank_Year  \\\n",
      "count     223.000000   223.000000          223.000000      223.000000   \n",
      "mean    15351.632287  1787.098655        18927.417040     1957.278027   \n",
      "std     22550.899445   650.695912        29103.564915      353.145867   \n",
      "min         0.000000     0.000000            0.000000        0.000000   \n",
      "25%      1406.500000  2023.000000         2273.500000     2021.000000   \n",
      "50%      5421.000000  2023.000000         6805.000000     2021.000000   \n",
      "75%     19697.000000  2023.000000        23715.000000     2021.000000   \n",
      "max    132372.000000  2023.000000       234316.000000     2021.000000   \n",
      "\n",
      "         UN_Estimate  \n",
      "count     223.000000  \n",
      "mean    17767.304933  \n",
      "std     28698.104167  \n",
      "min         0.000000  \n",
      "25%      2039.000000  \n",
      "50%      6396.000000  \n",
      "75%     20740.000000  \n",
      "max    234317.000000  \n"
     ]
    }
   ],
   "source": [
    "print(df.describe())"
   ]
  },
  {
   "cell_type": "markdown",
   "id": "ab5b1a93",
   "metadata": {},
   "source": [
    "### Basic information"
   ]
  },
  {
   "cell_type": "code",
   "execution_count": 6,
   "id": "a7037c1f",
   "metadata": {},
   "outputs": [
    {
     "name": "stdout",
     "output_type": "stream",
     "text": [
      "<bound method DataFrame.info of     Country/Territory UN_Region  IMF_Estimate  IMF_Year  WorldBank_Estimate  \\\n",
      "1              Monaco    Europe             0         0              234316   \n",
      "2       Liechtenstein    Europe             0         0              157755   \n",
      "3          Luxembourg    Europe        132372      2023              133590   \n",
      "4             Ireland    Europe        114581      2023              100172   \n",
      "5             Bermuda  Americas             0         0              114090   \n",
      "..                ...       ...           ...       ...                 ...   \n",
      "219            Malawi    Africa           496      2023                 635   \n",
      "220       South Sudan    Africa           467      2023                1072   \n",
      "221      Sierra Leone    Africa           415      2023                 480   \n",
      "222       Afghanistan      Asia           611      2020                 369   \n",
      "223           Burundi    Africa           249      2023                 222   \n",
      "\n",
      "     WorldBank_Year  UN_Estimate UN_Year  \n",
      "1              2021       234317    2021  \n",
      "2              2020       169260    2021  \n",
      "3              2021       133745    2021  \n",
      "4              2021       101109    2021  \n",
      "5              2021       112653    2021  \n",
      "..              ...          ...     ...  \n",
      "219            2021          613    2021  \n",
      "220            2015          400    2021  \n",
      "221            2021          505    2021  \n",
      "222            2021          373    2021  \n",
      "223            2021          311    2021  \n",
      "\n",
      "[223 rows x 8 columns]>\n",
      "   Country/Territory UN_Region  IMF_Estimate  IMF_Year  WorldBank_Estimate  \\\n",
      "1             Monaco    Europe             0         0              234316   \n",
      "2      Liechtenstein    Europe             0         0              157755   \n",
      "3         Luxembourg    Europe        132372      2023              133590   \n",
      "4            Ireland    Europe        114581      2023              100172   \n",
      "5            Bermuda  Americas             0         0              114090   \n",
      "6             Norway    Europe        101103      2023               89154   \n",
      "7        Switzerland    Europe         98767      2023               91992   \n",
      "8          Singapore      Asia         91100      2023               72794   \n",
      "9        Isle of Man    Europe             0         0               87158   \n",
      "10    Cayman Islands  Americas             0         0               86569   \n",
      "\n",
      "    WorldBank_Year  UN_Estimate UN_Year  \n",
      "1             2021       234317    2021  \n",
      "2             2020       169260    2021  \n",
      "3             2021       133745    2021  \n",
      "4             2021       101109    2021  \n",
      "5             2021       112653    2021  \n",
      "6             2021        89242    2021  \n",
      "7             2021        93525    2021  \n",
      "8             2021        66822    2021  \n",
      "9             2019            0       0  \n",
      "10            2021        85250    2021  \n"
     ]
    }
   ],
   "source": [
    "#Information about the data\n",
    "print(df.info)\n",
    "\n",
    "print(df.head(10))"
   ]
  },
  {
   "cell_type": "markdown",
   "id": "3b167821",
   "metadata": {},
   "source": [
    "### Print Last 5 rows"
   ]
  },
  {
   "cell_type": "code",
   "execution_count": 29,
   "id": "125349df",
   "metadata": {},
   "outputs": [
    {
     "name": "stdout",
     "output_type": "stream",
     "text": [
      "    Country/Territory UN_Region  IMF_Estimate  IMF_Year  WorldBank_Estimate  \\\n",
      "219            Malawi    Africa           496      2023                 635   \n",
      "220       South Sudan    Africa           467      2023                1072   \n",
      "221      Sierra Leone    Africa           415      2023                 480   \n",
      "222       Afghanistan      Asia           611      2020                 369   \n",
      "223           Burundi    Africa           249      2023                 222   \n",
      "\n",
      "     WorldBank_Year  UN_Estimate UN_Year  \n",
      "219            2021          613    2021  \n",
      "220            2015          400    2021  \n",
      "221            2021          505    2021  \n",
      "222            2021          373    2021  \n",
      "223            2021          311    2021  \n"
     ]
    }
   ],
   "source": [
    "# Last 5 rows\n",
    "print(df.tail(5))\n"
   ]
  },
  {
   "cell_type": "markdown",
   "id": "34995013",
   "metadata": {},
   "source": [
    "### Printing two specific columns"
   ]
  },
  {
   "cell_type": "code",
   "execution_count": 30,
   "id": "5b1cb937-1f1d-47f9-b9a0-de55431f663a",
   "metadata": {},
   "outputs": [
    {
     "name": "stdout",
     "output_type": "stream",
     "text": [
      "    Country/Territory UN_Region\n",
      "1              Monaco    Europe\n",
      "2       Liechtenstein    Europe\n",
      "3          Luxembourg    Europe\n",
      "4             Ireland    Europe\n",
      "5             Bermuda  Americas\n",
      "..                ...       ...\n",
      "219            Malawi    Africa\n",
      "220       South Sudan    Africa\n",
      "221      Sierra Leone    Africa\n",
      "222       Afghanistan      Asia\n",
      "223           Burundi    Africa\n",
      "\n",
      "[223 rows x 2 columns]\n"
     ]
    }
   ],
   "source": [
    "# Printing two columns\n",
    "print(df[['Country/Territory', 'UN_Region']])\n",
    "# Printing two columns"
   ]
  },
  {
   "cell_type": "code",
   "execution_count": null,
   "id": "483a7631-4033-45b6-a512-8e8305b4fcbc",
   "metadata": {},
   "outputs": [],
   "source": []
  },
  {
   "cell_type": "code",
   "execution_count": null,
   "id": "4e68b2e0-1288-46ef-a01b-978bbfef9ade",
   "metadata": {},
   "outputs": [],
   "source": []
  },
  {
   "cell_type": "code",
   "execution_count": null,
   "id": "a96b56d7-aee0-4ee4-914d-ae95e9ebb42e",
   "metadata": {},
   "outputs": [],
   "source": []
  },
  {
   "cell_type": "markdown",
   "id": "a368dc18",
   "metadata": {},
   "source": [
    "### Number of Countries per Region"
   ]
  },
  {
   "cell_type": "code",
   "execution_count": 8,
   "id": "483250d8-486e-4046-9ebe-e73940f0f1f3",
   "metadata": {},
   "outputs": [
    {
     "name": "stdout",
     "output_type": "stream",
     "text": [
      "UN_Region\n",
      "Africa      55\n",
      "Americas    48\n",
      "Asia        51\n",
      "Europe      48\n",
      "Oceania     20\n",
      "World        1\n",
      "dtype: int64\n"
     ]
    }
   ],
   "source": [
    "# number of countries per region\n",
    "region_counts = df.groupby('UN_Region').size()\n",
    "print(region_counts)"
   ]
  },
  {
   "cell_type": "code",
   "execution_count": null,
   "id": "635bebcc-cfea-4ab4-a504-73fd884e7bef",
   "metadata": {},
   "outputs": [],
   "source": []
  },
  {
   "cell_type": "code",
   "execution_count": null,
   "id": "5d6acaba-eb81-4bd5-a465-5b0f7958222e",
   "metadata": {},
   "outputs": [],
   "source": []
  },
  {
   "cell_type": "code",
   "execution_count": null,
   "id": "e36a6506-e322-4065-a437-a7013d7459fb",
   "metadata": {},
   "outputs": [],
   "source": []
  },
  {
   "cell_type": "code",
   "execution_count": null,
   "id": "8514ca25-dd9b-4bda-a679-8e8c8026b55b",
   "metadata": {},
   "outputs": [],
   "source": []
  },
  {
   "cell_type": "code",
   "execution_count": null,
   "id": "1e7735c0-817c-4f71-8dd5-7f65242ce8f1",
   "metadata": {
    "scrolled": true
   },
   "outputs": [],
   "source": []
  },
  {
   "cell_type": "code",
   "execution_count": null,
   "id": "88dc8751-581f-42bb-b845-852876b155a2",
   "metadata": {
    "scrolled": true
   },
   "outputs": [],
   "source": []
  },
  {
   "cell_type": "code",
   "execution_count": null,
   "id": "c02ead7c-7f52-40e6-8aaf-f8dfca2f0c65",
   "metadata": {
    "scrolled": true
   },
   "outputs": [],
   "source": []
  },
  {
   "cell_type": "code",
   "execution_count": null,
   "id": "b8f6f646-6aa8-4fda-863c-db4cfd87f903",
   "metadata": {},
   "outputs": [],
   "source": [
    "#What is European Union[n 1]?"
   ]
  },
  {
   "cell_type": "code",
   "execution_count": null,
   "id": "e0f638be-fc1a-4334-958c-47ca5fa1469a",
   "metadata": {},
   "outputs": [],
   "source": []
  },
  {
   "cell_type": "code",
   "execution_count": null,
   "id": "0236af4e-ef60-4a90-8773-242947be5919",
   "metadata": {},
   "outputs": [],
   "source": []
  },
  {
   "cell_type": "code",
   "execution_count": null,
   "id": "1262ad00-c8f8-44d5-a2ff-df62e648ad69",
   "metadata": {},
   "outputs": [],
   "source": []
  },
  {
   "cell_type": "code",
   "execution_count": null,
   "id": "9393627b-285f-4092-bb60-14e51ebcba85",
   "metadata": {},
   "outputs": [],
   "source": []
  },
  {
   "cell_type": "markdown",
   "id": "13f05aee",
   "metadata": {},
   "source": [
    "### Countries in Europe Below Average"
   ]
  },
  {
   "cell_type": "code",
   "execution_count": 9,
   "id": "ca4a2e48-503d-4401-8d9f-6d5afb9373b5",
   "metadata": {},
   "outputs": [
    {
     "name": "stdout",
     "output_type": "stream",
     "text": [
      "European average IMF_Estimate: 38452.186046511626\n"
     ]
    }
   ],
   "source": [
    "# Countries in Europe below average\n",
    "europe_df = df[df['UN_Region']== 'Europe']\n",
    "europe_avg = europe_df['IMF_Estimate'][europe_df['IMF_Estimate'] != 0].mean()\n",
    "print(f\"European average IMF_Estimate: {europe_avg}\")"
   ]
  },
  {
   "cell_type": "markdown",
   "id": "8390c060",
   "metadata": {},
   "source": []
  },
  {
   "cell_type": "code",
   "execution_count": null,
   "id": "63d594fe-29e1-4a69-a326-591622991fa3",
   "metadata": {
    "scrolled": true
   },
   "outputs": [
    {
     "name": "stdout",
     "output_type": "stream",
     "text": [
      "          Country/Territory  IMF_Estimate\n",
      "1                    Monaco             0\n",
      "2             Liechtenstein             0\n",
      "9               Isle of Man             0\n",
      "14          Channel Islands             0\n",
      "15            Faroe Islands             0\n",
      "40                    Malta         36989\n",
      "41                    Italy         36812\n",
      "51                 Slovenia         32214\n",
      "52           Czech Republic         31368\n",
      "53                    Spain         31223\n",
      "54                  Estonia         31209\n",
      "57                Lithuania         28094\n",
      "59                 Portugal         26012\n",
      "60                   Latvia         25136\n",
      "62                 Slovakia         23457\n",
      "63                   Greece         22595\n",
      "70                  Croatia         20537\n",
      "72                   Poland         19912\n",
      "75                  Hungary         19385\n",
      "78                  Romania         18530\n",
      "87                 Bulgaria         14893\n",
      "90                   Russia         14403\n",
      "103              Montenegro         11289\n",
      "106                  Serbia         10849\n",
      "112  Bosnia and Herzegovina          8223\n",
      "115                 Belarus          7944\n",
      "118         North Macedonia          7384\n",
      "120                 Albania          7058\n",
      "127                 Moldova          6342\n",
      "133                  Kosovo          5641\n",
      "143                 Ukraine          4654\n"
     ]
    }
   ],
   "source": [
    "\n",
    "\n",
    "# Countries in Europe below average\n",
    "below_avg_europe = europe_df[europe_df[\"IMF_Estimate\"] < europe_avg]\n",
    "below_avg_europe_sorted = below_avg_europe[['Country/Territory', 'IMF_Estimate']].sort_values(by='IMF_Estimate', ascending=False)\n",
    "print(below_avg_europe[['Country/Territory', 'IMF_Estimate']])"
   ]
  },
  {
   "cell_type": "markdown",
   "id": "e41ea6d5",
   "metadata": {},
   "source": [
    "# Plot distribution of GDP per capita in Europe"
   ]
  },
  {
   "cell_type": "code",
   "execution_count": 11,
   "id": "00e18543-e035-4e92-9b34-532a95f0e4bd",
   "metadata": {
    "scrolled": true
   },
   "outputs": [
    {
     "data": {
      "image/png": "[encoded data removed]",
      "text/plain": [
       "<Figure size 1000x600 with 1 Axes>"
      ]
     },
     "metadata": {},
     "output_type": "display_data"
    }
   ],
   "source": [
    "# Plotting the distribution of GDP per capita in Europe\n",
    "plt.figure(figsize=(10, 6))\n",
    "sns.histplot(europe_df['IMF_Estimate'], bins=30, kde=True)\n",
    "plt.axvline(europe_avg, color='red', linestyle='--', label='European Average')\n",
    "plt.title('Distribution of GDP per Capita in Europe')\n",
    "plt.xlabel('GDP per Capita')\n",
    "plt.ylabel('Frequency')\n",
    "plt.legend()\n",
    "plt.show()"
   ]
  },
  {
   "cell_type": "code",
   "execution_count": null,
   "id": "b1a8923e-81b1-4fa4-93da-860feccf298b",
   "metadata": {},
   "outputs": [],
   "source": []
  },
  {
   "cell_type": "code",
   "execution_count": null,
   "id": "36172556-f95f-4c28-a9de-da33c2361190",
   "metadata": {},
   "outputs": [],
   "source": []
  },
  {
   "cell_type": "code",
   "execution_count": null,
   "id": "f3d9b6b1-0684-44ca-bf82-20a3d9be4726",
   "metadata": {},
   "outputs": [],
   "source": []
  },
  {
   "cell_type": "markdown",
   "id": "d6d5b6f6",
   "metadata": {},
   "source": [
    "## Countries with higher GDP than the UK"
   ]
  },
  {
   "cell_type": "code",
   "execution_count": null,
   "id": "4cd0a1c1-8500-4d05-8560-7fa61309dfa7",
   "metadata": {},
   "outputs": [
    {
     "name": "stdout",
     "output_type": "stream",
     "text": [
      "Countries with higher GDP than UK: \n",
      "   Country/Territory  IMF_Estimate\n",
      "3         Luxembourg        132372\n",
      "4            Ireland        114581\n",
      "6             Norway        101103\n",
      "7        Switzerland         98767\n",
      "13           Iceland         75180\n",
      "16           Denmark         68827\n",
      "18       Netherlands         61098\n",
      "20           Austria         56802\n",
      "22            Sweden         55395\n",
      "23           Finland         54351\n",
      "24           Belgium         53377\n",
      "25        San Marino         52949\n",
      "28           Germany         51383\n",
      "\n"
     ]
    }
   ],
   "source": [
    "## Which countries in Europe has higher GDP than UK?\n",
    "uk_gdp = europe_df[europe_df['Country/Territory'] == 'United Kingdom']['IMF_Estimate'].values[0]\n",
    "higher_than_uk = europe_df[europe_df['IMF_Estimate'] > uk_gdp]\n",
    "higher_than_uk_sorted = higher_than_uk[['Country/Territory', 'IMF_Estimate']].sort_values(by='IMF_Estimate', ascending=False)\n",
    "print(f\"Countries with higher GDP than UK: \\n{higher_than_uk_sorted}\")\n",
    "\n",
    "# Plotting the distribution of GDP per capita in Europe"
   ]
  },
  {
   "cell_type": "code",
   "execution_count": null,
   "id": "de56b317-21a5-4f33-9185-67a5e3214912",
   "metadata": {},
   "outputs": [],
   "source": []
  },
  {
   "cell_type": "code",
   "execution_count": null,
   "id": "f176afd4-7527-41b0-81cf-00acc41c0869",
   "metadata": {},
   "outputs": [],
   "source": []
  },
  {
   "cell_type": "code",
   "execution_count": null,
   "id": "c8f1cb57-1e96-415d-bc69-fd417146de64",
   "metadata": {},
   "outputs": [],
   "source": []
  },
  {
   "cell_type": "markdown",
   "id": "70c23a49-9c48-403c-bfc5-beb46f2f46be",
   "metadata": {
    "jp-MarkdownHeadingCollapsed": true
   },
   "source": [
    "## groupby()"
   ]
  },
  {
   "cell_type": "markdown",
   "id": "f3b07212-bd06-42f7-85f1-93a301f45977",
   "metadata": {},
   "source": [
    "[Learn more about groupby](https://www.geeksforgeeks.org/pandas-groupby/)"
   ]
  },
  {
   "cell_type": "code",
   "execution_count": null,
   "id": "ffb84567-3048-4d9d-abd4-99598f3ddbe8",
   "metadata": {},
   "outputs": [],
   "source": []
  },
  {
   "cell_type": "code",
   "execution_count": null,
   "id": "01213348-9207-457e-b54c-78db0651f047",
   "metadata": {},
   "outputs": [],
   "source": []
  },
  {
   "cell_type": "code",
   "execution_count": null,
   "id": "264795b5-206d-4c19-9978-71fe1a54a475",
   "metadata": {},
   "outputs": [],
   "source": []
  },
  {
   "cell_type": "code",
   "execution_count": null,
   "id": "b606b7f3-bafd-42b0-a153-ccf2975c03a2",
   "metadata": {},
   "outputs": [],
   "source": []
  },
  {
   "cell_type": "code",
   "execution_count": null,
   "id": "4fc7446d-90cf-4a53-9c39-bc87fc14c5a9",
   "metadata": {},
   "outputs": [],
   "source": []
  },
  {
   "cell_type": "code",
   "execution_count": null,
   "id": "dfda8a27-1fb1-4be6-9714-bfd81ee35c2d",
   "metadata": {},
   "outputs": [],
   "source": []
  },
  {
   "cell_type": "code",
   "execution_count": null,
   "id": "591e50f7-6610-4ae1-a1ab-277d7e0b0e1a",
   "metadata": {},
   "outputs": [],
   "source": []
  },
  {
   "cell_type": "code",
   "execution_count": null,
   "id": "1b9e117a-3cb0-4f64-9a8b-234af009b2fd",
   "metadata": {},
   "outputs": [],
   "source": []
  },
  {
   "cell_type": "code",
   "execution_count": null,
   "id": "48b36bd9-c48d-4a1c-aee4-e3fe111c68bd",
   "metadata": {},
   "outputs": [],
   "source": []
  },
  {
   "cell_type": "code",
   "execution_count": null,
   "id": "5c1f57dc-5a02-4aa0-889a-d2d96fec9a32",
   "metadata": {},
   "outputs": [],
   "source": []
  },
  {
   "cell_type": "code",
   "execution_count": null,
   "id": "bd78440d-61aa-40e9-a10b-cbd9c3b13847",
   "metadata": {},
   "outputs": [],
   "source": []
  },
  {
   "cell_type": "markdown",
   "id": "a7368ecd",
   "metadata": {
    "jp-MarkdownHeadingCollapsed": true
   },
   "source": [
    "## Which countries below average by IMF world estimate?"
   ]
  },
  {
   "cell_type": "code",
   "execution_count": 14,
   "id": "4ae0e278-675f-45f2-aea5-905eea7d2e66",
   "metadata": {},
   "outputs": [
    {
     "name": "stdout",
     "output_type": "stream",
     "text": [
      "Countries with below average GDP: \n",
      "    Country/Territory  IMF_Estimate\n",
      "87           Bulgaria         14893\n",
      "88              Palau         14804\n",
      "89         Costa Rica         14733\n",
      "90             Russia         14403\n",
      "91              China         13721\n",
      "..                ...           ...\n",
      "39      New Caledonia             0\n",
      "104              Cuba             0\n",
      "196          Zanzibar             0\n",
      "204             Syria             0\n",
      "212       North Korea             0\n",
      "\n",
      "[159 rows x 2 columns]\n"
     ]
    },
    {
     "data": {
      "image/png": "[encoded data removed]",
      "text/plain": [
       "<Figure size 1000x600 with 1 Axes>"
      ]
     },
     "metadata": {},
     "output_type": "display_data"
    }
   ],
   "source": [
    "# Find the countries below average GDP by IMF World estimate\n",
    "below_avg = df[df['IMF_Estimate'] < df['IMF_Estimate'].mean()]\n",
    "below_avg_sorted = below_avg[['Country/Territory', 'IMF_Estimate']].sort_values(by='IMF_Estimate', ascending=False)\n",
    "print(f\"Countries with below average GDP: \\n{below_avg_sorted}\")\n",
    "\n",
    "# Plotting the distribution of GDP per capita in Europe\n",
    "plt.figure(figsize=(10, 6))\n",
    "sns.histplot(df['IMF_Estimate'], bins=30, kde=True)\n",
    "plt.axvline(df['IMF_Estimate'].mean(), color='red', linestyle='--', label='Global Average')\n",
    "plt.title('Distribution of GDP per Capita')\n",
    "plt.xlabel('GDP per Capita')\n",
    "plt.ylabel('Frequency')\n",
    "plt.legend()\n",
    "plt.show()"
   ]
  },
  {
   "cell_type": "code",
   "execution_count": null,
   "id": "24e8eb91",
   "metadata": {},
   "outputs": [],
   "source": []
  },
  {
   "cell_type": "code",
   "execution_count": null,
   "id": "c9145b83-65f2-412d-b790-818d6b764a54",
   "metadata": {},
   "outputs": [],
   "source": []
  },
  {
   "cell_type": "markdown",
   "id": "71573d1b",
   "metadata": {
    "jp-MarkdownHeadingCollapsed": true
   },
   "source": [
    "### IMF estimate 0 values"
   ]
  },
  {
   "cell_type": "code",
   "execution_count": null,
   "id": "b1ee3245",
   "metadata": {
    "scrolled": true
   },
   "outputs": [],
   "source": []
  },
  {
   "cell_type": "code",
   "execution_count": null,
   "id": "a2396463",
   "metadata": {},
   "outputs": [],
   "source": []
  },
  {
   "cell_type": "code",
   "execution_count": null,
   "id": "8cea99fa-1961-4dc4-8a1c-5bb51ca5f628",
   "metadata": {},
   "outputs": [],
   "source": []
  },
  {
   "cell_type": "code",
   "execution_count": null,
   "id": "6fa2a1f9-67cf-4c69-b642-250fdbdc3076",
   "metadata": {},
   "outputs": [],
   "source": []
  },
  {
   "cell_type": "markdown",
   "id": "2228dc87",
   "metadata": {
    "jp-MarkdownHeadingCollapsed": true
   },
   "source": [
    "## Which country has highest UN Estimate?"
   ]
  },
  {
   "cell_type": "code",
   "execution_count": 15,
   "id": "8205397d",
   "metadata": {},
   "outputs": [
    {
     "name": "stdout",
     "output_type": "stream",
     "text": [
      "Country with highest UN Estimate: \n",
      "  Country/Territory  UN_Estimate\n",
      "1            Monaco       234317\n"
     ]
    }
   ],
   "source": [
    "# Find the country with the highest UN Estimate\n",
    "highest_un_estimate = df[df['UN_Estimate'] == df['UN_Estimate'].max()]\n",
    "highest_un_estimate_sorted = highest_un_estimate[['Country/Territory', 'UN_Estimate']]\n",
    "print(f\"Country with highest UN Estimate: \\n{highest_un_estimate_sorted}\")"
   ]
  },
  {
   "cell_type": "markdown",
   "id": "3a1d3c89",
   "metadata": {
    "jp-MarkdownHeadingCollapsed": true
   },
   "source": [
    "## Which country has highest Worlbank Estimate?"
   ]
  },
  {
   "cell_type": "code",
   "execution_count": 18,
   "id": "4dbc124d",
   "metadata": {},
   "outputs": [
    {
     "name": "stdout",
     "output_type": "stream",
     "text": [
      "Country with highest Worldbank Estimate: \n",
      "  Country/Territory  WorldBank_Estimate\n",
      "1            Monaco              234316\n"
     ]
    }
   ],
   "source": [
    "# Find the country with the highest Worldbank Estimate\n",
    "highest_worldbank_estimate = df[df['WorldBank_Estimate'] == df['WorldBank_Estimate'].max()]\n",
    "highest_worldbank_estimate_sorted = highest_worldbank_estimate[['Country/Territory', 'WorldBank_Estimate']]\n",
    "print(f\"Country with highest Worldbank Estimate: \\n{highest_worldbank_estimate_sorted}\")\n"
   ]
  },
  {
   "cell_type": "code",
   "execution_count": null,
   "id": "67105620",
   "metadata": {},
   "outputs": [],
   "source": []
  },
  {
   "cell_type": "markdown",
   "id": "7efaadc8",
   "metadata": {
    "jp-MarkdownHeadingCollapsed": true
   },
   "source": [
    "## Which country has highest IMF Estimate?"
   ]
  },
  {
   "cell_type": "code",
   "execution_count": 20,
   "id": "9f3dbffc",
   "metadata": {},
   "outputs": [
    {
     "name": "stdout",
     "output_type": "stream",
     "text": [
      "Country with highest IMF Estimate: \n",
      "  Country/Territory  IMF_Estimate\n",
      "3        Luxembourg        132372\n"
     ]
    }
   ],
   "source": [
    "# Find the country with the highest IMF Estimate\n",
    "highest_IMF_estimate = df[df['IMF_Estimate'] == df['IMF_Estimate'].max()]\n",
    "highest_IMF_estimate_sorted = highest_IMF_estimate[['Country/Territory', 'IMF_Estimate']]\n",
    "print(f\"Country with highest IMF Estimate: \\n{highest_IMF_estimate_sorted}\")\n",
    "\n"
   ]
  },
  {
   "cell_type": "code",
   "execution_count": null,
   "id": "d0dec303",
   "metadata": {},
   "outputs": [],
   "source": []
  },
  {
   "cell_type": "code",
   "execution_count": null,
   "id": "24deac00",
   "metadata": {},
   "outputs": [],
   "source": []
  },
  {
   "cell_type": "markdown",
   "id": "4b4f060e-3352-4e53-8f07-42131e363ed5",
   "metadata": {
    "jp-MarkdownHeadingCollapsed": true
   },
   "source": [
    "## Filling 0 Values by average"
   ]
  },
  {
   "cell_type": "code",
   "execution_count": 21,
   "id": "66070730-be45-4c5b-b508-92113f9ab826",
   "metadata": {},
   "outputs": [],
   "source": [
    "import numpy as np"
   ]
  },
  {
   "cell_type": "markdown",
   "id": "ff73c462",
   "metadata": {},
   "source": [
    "# Replacing null values"
   ]
  },
  {
   "cell_type": "code",
   "execution_count": 31,
   "id": "48b3f09e-8c51-43d5-ac74-4c33042a2300",
   "metadata": {},
   "outputs": [
    {
     "name": "stdout",
     "output_type": "stream",
     "text": [
      "Country/Territory     0\n",
      "UN_Region             0\n",
      "IMF_Estimate          0\n",
      "IMF_Year              0\n",
      "WorldBank_Estimate    0\n",
      "WorldBank_Year        0\n",
      "UN_Estimate           0\n",
      "UN_Year               0\n",
      "dtype: int64\n",
      "Country/Territory      0\n",
      "UN_Region              0\n",
      "IMF_Estimate          26\n",
      "IMF_Year              26\n",
      "WorldBank_Estimate     7\n",
      "WorldBank_Year         7\n",
      "UN_Estimate            9\n",
      "UN_Year                0\n",
      "dtype: int64\n"
     ]
    }
   ],
   "source": [
    "# replace 0 with null values\n",
    "# find any null values\n",
    "print(df.isnull().sum())\n",
    "\n",
    "# replace 0 with null values\n",
    "df.replace(0, np.nan, inplace=True)\n",
    "\n",
    "# Print any newly replaced values\n",
    "print(df.isnull().sum())\n"
   ]
  },
  {
   "cell_type": "code",
   "execution_count": null,
   "id": "ba1c29d1-9c58-4bf1-8c7d-deab42fbb998",
   "metadata": {},
   "outputs": [],
   "source": []
  },
  {
   "cell_type": "code",
   "execution_count": null,
   "id": "a5deaf5e-d69d-40ce-a6d7-e7205c29f006",
   "metadata": {},
   "outputs": [],
   "source": [
    "# Calculate the average of 'Worldbank_Estimate' and 'UN_Estimate' columns\n"
   ]
  },
  {
   "cell_type": "code",
   "execution_count": null,
   "id": "e6204448-c58b-413d-8015-36a7727c2ef5",
   "metadata": {},
   "outputs": [],
   "source": [
    "# Fill the null values in 'imf' column with the calculated average\n"
   ]
  },
  {
   "cell_type": "code",
   "execution_count": null,
   "id": "31f244cc-98cf-4836-ab6d-dd03f4d89863",
   "metadata": {},
   "outputs": [],
   "source": []
  },
  {
   "cell_type": "code",
   "execution_count": null,
   "id": "cd6c1dc9-caa5-4489-a607-671526727dd6",
   "metadata": {},
   "outputs": [],
   "source": [
    "# Drop the temporary 'avg_worldbank_un' column if not needed\n"
   ]
  },
  {
   "cell_type": "code",
   "execution_count": null,
   "id": "813e7182-de55-41a3-aab9-de2423f3eaab",
   "metadata": {},
   "outputs": [],
   "source": []
  },
  {
   "cell_type": "markdown",
   "id": "162be68a-dee1-478a-80b6-ac8e8537bcf7",
   "metadata": {},
   "source": [
    "[Visit this link to learn more about ffill](https://www.w3schools.com/python/pandas/ref_df_ffill.asp)"
   ]
  },
  {
   "cell_type": "markdown",
   "id": "56061f24-0128-4773-a177-37b33640c9a9",
   "metadata": {},
   "source": [
    "[Visit this link to learn more about bfill](https://www.w3schools.com/python/pandas/ref_df_bfill.asp)"
   ]
  },
  {
   "cell_type": "markdown",
   "id": "3432bd13",
   "metadata": {
    "jp-MarkdownHeadingCollapsed": true
   },
   "source": [
    "## Checking Missing Values"
   ]
  },
  {
   "cell_type": "code",
   "execution_count": null,
   "id": "48996ae2",
   "metadata": {},
   "outputs": [],
   "source": []
  },
  {
   "cell_type": "code",
   "execution_count": null,
   "id": "102175a5",
   "metadata": {},
   "outputs": [],
   "source": []
  },
  {
   "cell_type": "code",
   "execution_count": null,
   "id": "194f30f0",
   "metadata": {},
   "outputs": [],
   "source": []
  },
  {
   "cell_type": "code",
   "execution_count": null,
   "id": "a08c53e0",
   "metadata": {},
   "outputs": [],
   "source": []
  },
  {
   "cell_type": "markdown",
   "id": "84e9d86b",
   "metadata": {
    "jp-MarkdownHeadingCollapsed": true
   },
   "source": [
    "## Visualization"
   ]
  },
  {
   "cell_type": "code",
   "execution_count": null,
   "id": "bf0b0c79",
   "metadata": {},
   "outputs": [],
   "source": [
    "import matplotlib.pyplot as plt\n",
    "import seaborn as sns"
   ]
  },
  {
   "cell_type": "markdown",
   "id": "4a4da1d7",
   "metadata": {},
   "source": [
    "### Histogram"
   ]
  },
  {
   "cell_type": "code",
   "execution_count": 22,
   "id": "a924b0ee",
   "metadata": {},
   "outputs": [
    {
     "data": {
      "image/png": "[encoded data removed]",
      "text/plain": [
       "<Figure size 1000x800 with 6 Axes>"
      ]
     },
     "metadata": {},
     "output_type": "display_data"
    }
   ],
   "source": [
    "df.hist(figsize=(10,8))\n",
    "plt.show()"
   ]
  },
  {
   "cell_type": "code",
   "execution_count": null,
   "id": "45fc4edf",
   "metadata": {},
   "outputs": [
    {
     "data": {
      "image/png": "[encoded data removed]",
      "text/plain": [
       "<Figure size 1200x900 with 4 Axes>"
      ]
     },
     "metadata": {},
     "output_type": "display_data"
    }
   ],
   "source": [
    "# Plotting the distribution of GDP per capita for IMF, UN, and World Bank estimates\n",
    "df[[\"IMF_Estimate\", \"UN_Estimate\", \"WorldBank_Estimate\"]].hist(figsize=(12,9))\n",
    "\n",
    "plt.show()"
   ]
  },
  {
   "cell_type": "code",
   "execution_count": null,
   "id": "765a97e0",
   "metadata": {},
   "outputs": [],
   "source": [
    "df[[\"IMF_Estimate\", \"UN_Estimate\", \"WorldBank_Estimate\"]].hist(bins=5, figsize=(12,9))\n",
    "\n",
    "plt.show()"
   ]
  },
  {
   "cell_type": "code",
   "execution_count": 24,
   "id": "1f89e26d",
   "metadata": {},
   "outputs": [
    {
     "data": {
      "text/plain": [
       "min         0\n",
       "max    234316\n",
       "Name: WorldBank_Estimate, dtype: int64"
      ]
     },
     "execution_count": 24,
     "metadata": {},
     "output_type": "execute_result"
    }
   ],
   "source": [
    "df[\"WorldBank_Estimate\"].agg([\"min\",\"max\"])"
   ]
  },
  {
   "cell_type": "code",
   "execution_count": null,
   "id": "623ac797",
   "metadata": {},
   "outputs": [],
   "source": [
    "234316/5\n",
    "#1 bin size if bins=5"
   ]
  },
  {
   "cell_type": "code",
   "execution_count": null,
   "id": "58c05fdf-ab62-4f74-9c3d-b4dbf8f9dc55",
   "metadata": {},
   "outputs": [],
   "source": [
    "df[df[\"WorldBank_Estimate\"]<=46863.2][\"WorldBank_Estimate\"].count()"
   ]
  },
  {
   "cell_type": "code",
   "execution_count": null,
   "id": "a36546fa",
   "metadata": {},
   "outputs": [],
   "source": [
    "234316/10\n",
    "#1 bin size if bins not given any number"
   ]
  },
  {
   "cell_type": "code",
   "execution_count": null,
   "id": "79c3d1e5",
   "metadata": {},
   "outputs": [],
   "source": [
    "df[[\"IMF_Estimate\", \"UN_Estimate\", \"WorldBank_Estimate\"]].hist(bins=3, figsize=(12,9))\n",
    "\n",
    "plt.show()"
   ]
  },
  {
   "cell_type": "code",
   "execution_count": null,
   "id": "05e7fd91",
   "metadata": {},
   "outputs": [],
   "source": [
    "df[[\"IMF_Estimate\", \"UN_Estimate\", \"WorldBank_Estimate\"]].hist(bins=15, figsize=(15,12))\n",
    "\n",
    "#23400/15 = 15300\n",
    "plt.show()"
   ]
  },
  {
   "cell_type": "markdown",
   "id": "e70fb08b",
   "metadata": {},
   "source": [
    "### Correlation Heatmap"
   ]
  },
  {
   "cell_type": "code",
   "execution_count": 25,
   "id": "e9ddd23e",
   "metadata": {},
   "outputs": [
    {
     "data": {
      "application/vnd.microsoft.datawrangler.viewer.v0+json": {
       "columns": [
        {
         "name": "index",
         "rawType": "object",
         "type": "string"
        },
        {
         "name": "IMF_Estimate",
         "rawType": "float64",
         "type": "float"
        },
        {
         "name": "UN_Estimate",
         "rawType": "float64",
         "type": "float"
        },
        {
         "name": "WorldBank_Estimate",
         "rawType": "float64",
         "type": "float"
        }
       ],
       "conversionMethod": "pd.DataFrame",
       "ref": "b2b6292c-6e81-4cde-9f8a-962c85030976",
       "rows": [
        [
         "IMF_Estimate",
         "1.0",
         "0.626512897554883",
         "0.5879883052203012"
        ],
        [
         "UN_Estimate",
         "0.626512897554883",
         "1.0",
         "0.9303307585425922"
        ],
        [
         "WorldBank_Estimate",
         "0.5879883052203012",
         "0.9303307585425922",
         "1.0"
        ]
       ],
       "shape": {
        "columns": 3,
        "rows": 3
       }
      },
      "text/html": [
       "<div>\n",
       "<style scoped>\n",
       "    .dataframe tbody tr th:only-of-type {\n",
       "        vertical-align: middle;\n",
       "    }\n",
       "\n",
       "    .dataframe tbody tr th {\n",
       "        vertical-align: top;\n",
       "    }\n",
       "\n",
       "    .dataframe thead th {\n",
       "        text-align: right;\n",
       "    }\n",
       "</style>\n",
       "<table border=\"1\" class=\"dataframe\">\n",
       "  <thead>\n",
       "    <tr style=\"text-align: right;\">\n",
       "      <th></th>\n",
       "      <th>IMF_Estimate</th>\n",
       "      <th>UN_Estimate</th>\n",
       "      <th>WorldBank_Estimate</th>\n",
       "    </tr>\n",
       "  </thead>\n",
       "  <tbody>\n",
       "    <tr>\n",
       "      <th>IMF_Estimate</th>\n",
       "      <td>1.000000</td>\n",
       "      <td>0.626513</td>\n",
       "      <td>0.587988</td>\n",
       "    </tr>\n",
       "    <tr>\n",
       "      <th>UN_Estimate</th>\n",
       "      <td>0.626513</td>\n",
       "      <td>1.000000</td>\n",
       "      <td>0.930331</td>\n",
       "    </tr>\n",
       "    <tr>\n",
       "      <th>WorldBank_Estimate</th>\n",
       "      <td>0.587988</td>\n",
       "      <td>0.930331</td>\n",
       "      <td>1.000000</td>\n",
       "    </tr>\n",
       "  </tbody>\n",
       "</table>\n",
       "</div>"
      ],
      "text/plain": [
       "                    IMF_Estimate  UN_Estimate  WorldBank_Estimate\n",
       "IMF_Estimate            1.000000     0.626513            0.587988\n",
       "UN_Estimate             0.626513     1.000000            0.930331\n",
       "WorldBank_Estimate      0.587988     0.930331            1.000000"
      ]
     },
     "execution_count": 25,
     "metadata": {},
     "output_type": "execute_result"
    }
   ],
   "source": [
    "df[[\"IMF_Estimate\", \"UN_Estimate\", \"WorldBank_Estimate\"]].corr()"
   ]
  },
  {
   "cell_type": "markdown",
   "id": "1781633b",
   "metadata": {},
   "source": [
    "### Plotting a correlation Heatmap matrix"
   ]
  },
  {
   "cell_type": "code",
   "execution_count": null,
   "id": "f6dbc603",
   "metadata": {},
   "outputs": [
    {
     "data": {
      "image/png": "[encoded data removed]",
      "text/plain": [
       "<Figure size 900x600 with 2 Axes>"
      ]
     },
     "metadata": {},
     "output_type": "display_data"
    }
   ],
   "source": [
    "# Plotting the correlation heat map matrix\n",
    "corr = df[[\"IMF_Estimate\", \"UN_Estimate\", \"WorldBank_Estimate\"]].corr()\n",
    "\n",
    "plt.figure(figsize=(9,6))\n",
    "sns.heatmap(corr)\n",
    "\n",
    "plt.show()"
   ]
  },
  {
   "cell_type": "code",
   "execution_count": null,
   "id": "0ea2c2c6",
   "metadata": {},
   "outputs": [],
   "source": [
    "corr = df[[\"IMF_Estimate\", \"UN_Estimate\", \"WorldBank_Estimate\"]].corr()\n",
    "\n",
    "plt.figure(figsize=(9,6))\n",
    "\n",
    "sns.heatmap(corr, annot=True)\n",
    "\n",
    "plt.show()"
   ]
  },
  {
   "cell_type": "code",
   "execution_count": null,
   "id": "ec56839b",
   "metadata": {},
   "outputs": [],
   "source": [
    "corr = df[[\"IMF_Estimate\", \"UN_Estimate\", \"WorldBank_Estimate\"]].corr()\n",
    "\n",
    "plt.figure(figsize=(9,6))\n",
    "\n",
    "sns.heatmap(corr, annot=True, fmt=\".2f\", cmap = 'GnBu', annot_kws={\"size\": 12})\n",
    "\n",
    "plt.show()"
   ]
  },
  {
   "cell_type": "code",
   "execution_count": null,
   "id": "a4688e18",
   "metadata": {},
   "outputs": [],
   "source": [
    "corr = df[[\"IMF_Estimate\", \"UN_Estimate\", \"WorldBank_Estimate\"]].corr()\n",
    "\n",
    "plt.figure(figsize=(9,6))\n",
    "\n",
    "sns.heatmap(corr, annot=True, cmap = 'Purples')\n",
    "\n",
    "plt.title(\"Correlation Map\")\n",
    "\n",
    "\n",
    "plt.show()"
   ]
  },
  {
   "cell_type": "code",
   "execution_count": null,
   "id": "acba3c9a-0a72-40a0-80f7-be19ec50d5e0",
   "metadata": {},
   "outputs": [],
   "source": [
    "corr = df.select_dtypes(include=[int, float]).corr()\n",
    " \n",
    "plt.figure(figsize=(9,6))\n",
    " \n",
    "sns.heatmap(corr, annot=True, cmap = 'Purples')\n",
    " \n",
    "plt.show()"
   ]
  },
  {
   "cell_type": "markdown",
   "id": "8ee4dc00",
   "metadata": {
    "jp-MarkdownHeadingCollapsed": true
   },
   "source": [
    "### Bar plot"
   ]
  },
  {
   "cell_type": "code",
   "execution_count": 27,
   "id": "4ca42efd",
   "metadata": {},
   "outputs": [
    {
     "data": {
      "application/vnd.microsoft.datawrangler.viewer.v0+json": {
       "columns": [
        {
         "name": "index",
         "rawType": "int64",
         "type": "integer"
        },
        {
         "name": "Country/Territory",
         "rawType": "object",
         "type": "string"
        },
        {
         "name": "UN_Region",
         "rawType": "object",
         "type": "string"
        },
        {
         "name": "IMF_Estimate",
         "rawType": "int64",
         "type": "integer"
        },
        {
         "name": "IMF_Year",
         "rawType": "int64",
         "type": "integer"
        },
        {
         "name": "WorldBank_Estimate",
         "rawType": "int64",
         "type": "integer"
        },
        {
         "name": "WorldBank_Year",
         "rawType": "int64",
         "type": "integer"
        },
        {
         "name": "UN_Estimate",
         "rawType": "int64",
         "type": "integer"
        },
        {
         "name": "UN_Year",
         "rawType": "object",
         "type": "string"
        }
       ],
       "conversionMethod": "pd.DataFrame",
       "ref": "d18731a6-5168-4830-ba6a-57d3293bf53b",
       "rows": [
        [
         "1",
         "Monaco",
         "Europe",
         "0",
         "0",
         "234316",
         "2021",
         "234317",
         "2021"
        ],
        [
         "2",
         "Liechtenstein",
         "Europe",
         "0",
         "0",
         "157755",
         "2020",
         "169260",
         "2021"
        ],
        [
         "3",
         "Luxembourg",
         "Europe",
         "132372",
         "2023",
         "133590",
         "2021",
         "133745",
         "2021"
        ],
        [
         "4",
         "Ireland",
         "Europe",
         "114581",
         "2023",
         "100172",
         "2021",
         "101109",
         "2021"
        ],
        [
         "5",
         "Bermuda",
         "Americas",
         "0",
         "0",
         "114090",
         "2021",
         "112653",
         "2021"
        ]
       ],
       "shape": {
        "columns": 8,
        "rows": 5
       }
      },
      "text/html": [
       "<div>\n",
       "<style scoped>\n",
       "    .dataframe tbody tr th:only-of-type {\n",
       "        vertical-align: middle;\n",
       "    }\n",
       "\n",
       "    .dataframe tbody tr th {\n",
       "        vertical-align: top;\n",
       "    }\n",
       "\n",
       "    .dataframe thead th {\n",
       "        text-align: right;\n",
       "    }\n",
       "</style>\n",
       "<table border=\"1\" class=\"dataframe\">\n",
       "  <thead>\n",
       "    <tr style=\"text-align: right;\">\n",
       "      <th></th>\n",
       "      <th>Country/Territory</th>\n",
       "      <th>UN_Region</th>\n",
       "      <th>IMF_Estimate</th>\n",
       "      <th>IMF_Year</th>\n",
       "      <th>WorldBank_Estimate</th>\n",
       "      <th>WorldBank_Year</th>\n",
       "      <th>UN_Estimate</th>\n",
       "      <th>UN_Year</th>\n",
       "    </tr>\n",
       "  </thead>\n",
       "  <tbody>\n",
       "    <tr>\n",
       "      <th>1</th>\n",
       "      <td>Monaco</td>\n",
       "      <td>Europe</td>\n",
       "      <td>0</td>\n",
       "      <td>0</td>\n",
       "      <td>234316</td>\n",
       "      <td>2021</td>\n",
       "      <td>234317</td>\n",
       "      <td>2021</td>\n",
       "    </tr>\n",
       "    <tr>\n",
       "      <th>2</th>\n",
       "      <td>Liechtenstein</td>\n",
       "      <td>Europe</td>\n",
       "      <td>0</td>\n",
       "      <td>0</td>\n",
       "      <td>157755</td>\n",
       "      <td>2020</td>\n",
       "      <td>169260</td>\n",
       "      <td>2021</td>\n",
       "    </tr>\n",
       "    <tr>\n",
       "      <th>3</th>\n",
       "      <td>Luxembourg</td>\n",
       "      <td>Europe</td>\n",
       "      <td>132372</td>\n",
       "      <td>2023</td>\n",
       "      <td>133590</td>\n",
       "      <td>2021</td>\n",
       "      <td>133745</td>\n",
       "      <td>2021</td>\n",
       "    </tr>\n",
       "    <tr>\n",
       "      <th>4</th>\n",
       "      <td>Ireland</td>\n",
       "      <td>Europe</td>\n",
       "      <td>114581</td>\n",
       "      <td>2023</td>\n",
       "      <td>100172</td>\n",
       "      <td>2021</td>\n",
       "      <td>101109</td>\n",
       "      <td>2021</td>\n",
       "    </tr>\n",
       "    <tr>\n",
       "      <th>5</th>\n",
       "      <td>Bermuda</td>\n",
       "      <td>Americas</td>\n",
       "      <td>0</td>\n",
       "      <td>0</td>\n",
       "      <td>114090</td>\n",
       "      <td>2021</td>\n",
       "      <td>112653</td>\n",
       "      <td>2021</td>\n",
       "    </tr>\n",
       "  </tbody>\n",
       "</table>\n",
       "</div>"
      ],
      "text/plain": [
       "  Country/Territory UN_Region  IMF_Estimate  IMF_Year  WorldBank_Estimate  \\\n",
       "1            Monaco    Europe             0         0              234316   \n",
       "2     Liechtenstein    Europe             0         0              157755   \n",
       "3        Luxembourg    Europe        132372      2023              133590   \n",
       "4           Ireland    Europe        114581      2023              100172   \n",
       "5           Bermuda  Americas             0         0              114090   \n",
       "\n",
       "   WorldBank_Year  UN_Estimate UN_Year  \n",
       "1            2021       234317    2021  \n",
       "2            2020       169260    2021  \n",
       "3            2021       133745    2021  \n",
       "4            2021       101109    2021  \n",
       "5            2021       112653    2021  "
      ]
     },
     "execution_count": 27,
     "metadata": {},
     "output_type": "execute_result"
    }
   ],
   "source": [
    "df.head()"
   ]
  },
  {
   "cell_type": "code",
   "execution_count": null,
   "id": "09e70a00",
   "metadata": {},
   "outputs": [
    {
     "data": {
      "image/png": "[encoded data removed]",
      "text/plain": [
       "<Figure size 640x480 with 1 Axes>"
      ]
     },
     "metadata": {},
     "output_type": "display_data"
    }
   ],
   "source": [
    "# Plotting the distribution of GDP per capita for IMF, UN, and World Bank estimates using Seaborn\n",
    "sns.barplot(x=\"UN_Region\", y=\"WorldBank_Estimate\", data=df, errorbar=None)\n",
    "\n",
    "plt.show()"
   ]
  },
  {
   "cell_type": "code",
   "execution_count": null,
   "id": "6a7c7377",
   "metadata": {},
   "outputs": [],
   "source": [
    "sns.barplot(x=\"WorldBank_Estimate\", y=\"UN_Region\", data=df, errorbar=None)\n",
    "\n",
    "plt.show()"
   ]
  },
  {
   "cell_type": "code",
   "execution_count": null,
   "id": "f8659907",
   "metadata": {},
   "outputs": [],
   "source": [
    "fig = plt.figure(figsize = (8,5))\n",
    "\n",
    "ax = sns.barplot(x = \"IMF_Estimate\",  y = \"UN_Region\",  \n",
    "data = df, errorbar = None)\n",
    "\n",
    "ax.bar_label(ax.containers[0])\n",
    "\n",
    "plt.show()"
   ]
  },
  {
   "cell_type": "code",
   "execution_count": null,
   "id": "9a15bcad",
   "metadata": {},
   "outputs": [],
   "source": [
    "fig = plt.figure(figsize = (8,5)) \n",
    "ax = sns.barplot(x = \"UN_Region\",  y = \"IMF_Estimate\", \n",
    "                 data = df, errorbar = None) \n",
    "\n",
    "ax.bar_label(ax.containers[0]) \n",
    "\n",
    "\n",
    "ax.set_title(\"Regions by IMF Estimate\")\n",
    "plt.show()"
   ]
  },
  {
   "cell_type": "code",
   "execution_count": null,
   "id": "6e99479a",
   "metadata": {},
   "outputs": [],
   "source": []
  },
  {
   "cell_type": "markdown",
   "id": "f1aa35d0",
   "metadata": {
    "jp-MarkdownHeadingCollapsed": true
   },
   "source": [
    "### Scatter Plot"
   ]
  },
  {
   "cell_type": "code",
   "execution_count": null,
   "id": "d8583563",
   "metadata": {},
   "outputs": [],
   "source": [
    "df.plot(x='UN_Region', y='UN_Estimate', kind='scatter',\n",
    "        figsize=(10,6),\n",
    "        title=\"Scatter Plot\")\n",
    "\n",
    "plt.show()"
   ]
  },
  {
   "cell_type": "code",
   "execution_count": null,
   "id": "67dc9155",
   "metadata": {},
   "outputs": [],
   "source": []
  },
  {
   "cell_type": "code",
   "execution_count": null,
   "id": "510f198a",
   "metadata": {},
   "outputs": [],
   "source": []
  },
  {
   "cell_type": "code",
   "execution_count": null,
   "id": "14284f4f",
   "metadata": {},
   "outputs": [],
   "source": []
  },
  {
   "cell_type": "code",
   "execution_count": null,
   "id": "f56493b0",
   "metadata": {},
   "outputs": [],
   "source": []
  },
  {
   "cell_type": "markdown",
   "id": "08663651",
   "metadata": {},
   "source": [
    "### Boxplot and Outliers"
   ]
  },
  {
   "attachments": {
    "da6a7715-3b1c-4165-a2a9-4dc8ca096bd7.png": {
     "image/png": "[encoded data removed]"
    }
   },
   "cell_type": "markdown",
   "id": "fb12e7bd-1553-4cd8-b19d-9cb3d4589107",
   "metadata": {},
   "source": [
    "![image.png](attachment:da6a7715-3b1c-4165-a2a9-4dc8ca096bd7.png)"
   ]
  },
  {
   "cell_type": "code",
   "execution_count": null,
   "id": "3ceac0a3",
   "metadata": {},
   "outputs": [],
   "source": [
    "sns.boxplot(x=df[\"UN_Estimate\"])\n",
    "\n",
    "plt.show()"
   ]
  },
  {
   "cell_type": "code",
   "execution_count": null,
   "id": "7081b2d4",
   "metadata": {},
   "outputs": [],
   "source": [
    "df[df[\"UN_Estimate\"]>50000].head()"
   ]
  },
  {
   "cell_type": "code",
   "execution_count": null,
   "id": "99282133",
   "metadata": {},
   "outputs": [],
   "source": [
    "sns.boxplot(x=df[\"WorldBank_Estimate\"])\n",
    "\n",
    "plt.show()"
   ]
  },
  {
   "cell_type": "code",
   "execution_count": null,
   "id": "6ba80c49",
   "metadata": {},
   "outputs": [],
   "source": [
    "sns.boxplot(x=df[\"IMF_Estimate\"])\n",
    "\n",
    "plt.show()"
   ]
  },
  {
   "cell_type": "code",
   "execution_count": null,
   "id": "983a04a2",
   "metadata": {},
   "outputs": [],
   "source": [
    "df[df[\"UN_Estimate\"]>100000]"
   ]
  },
  {
   "cell_type": "code",
   "execution_count": null,
   "id": "91b0c382",
   "metadata": {},
   "outputs": [],
   "source": [
    "df.UN_Estimate.mean()"
   ]
  },
  {
   "cell_type": "code",
   "execution_count": null,
   "id": "bad9872e",
   "metadata": {},
   "outputs": [],
   "source": [
    "df.shape"
   ]
  },
  {
   "cell_type": "code",
   "execution_count": null,
   "id": "78b3c8ef",
   "metadata": {},
   "outputs": [],
   "source": []
  },
  {
   "cell_type": "markdown",
   "id": "080decce",
   "metadata": {
    "jp-MarkdownHeadingCollapsed": true
   },
   "source": [
    "## Create another dataframe called data excluding  5 countries with highest UN estimate"
   ]
  },
  {
   "cell_type": "code",
   "execution_count": null,
   "id": "1c0b325d",
   "metadata": {},
   "outputs": [],
   "source": [
    "data = df[-(df[\"UN_Estimate\"]>100000)]"
   ]
  },
  {
   "cell_type": "code",
   "execution_count": null,
   "id": "65788d80",
   "metadata": {},
   "outputs": [],
   "source": [
    "data.head()"
   ]
  },
  {
   "cell_type": "code",
   "execution_count": null,
   "id": "4690f065",
   "metadata": {},
   "outputs": [],
   "source": [
    "data.shape"
   ]
  },
  {
   "cell_type": "code",
   "execution_count": null,
   "id": "273c9a10",
   "metadata": {},
   "outputs": [],
   "source": [
    "data.UN_Estimate.mean()"
   ]
  },
  {
   "cell_type": "code",
   "execution_count": null,
   "id": "1ca86f8a-0ced-4e5b-990d-b16b8fa3377a",
   "metadata": {},
   "outputs": [],
   "source": [
    "df.UN_Estimate.mean()"
   ]
  },
  {
   "attachments": {
    "image.png": {
     "image/png": "[encoded data removed]"
    }
   },
   "cell_type": "markdown",
   "id": "f5e3f021",
   "metadata": {},
   "source": [
    "![image.png](attachment:image.png)"
   ]
  },
  {
   "cell_type": "code",
   "execution_count": null,
   "id": "860f66c6",
   "metadata": {},
   "outputs": [],
   "source": [
    "sns.boxplot(x=data[\"UN_Estimate\"])\n",
    "plt.show()"
   ]
  },
  {
   "cell_type": "markdown",
   "id": "d47b00f3",
   "metadata": {},
   "source": [
    "## Removing outliers"
   ]
  },
  {
   "attachments": {
    "da6a7715-3b1c-4165-a2a9-4dc8ca096bd7.png": {
     "image/png": "[encoded data removed]"
    }
   },
   "cell_type": "markdown",
   "id": "113a0eab-5238-4ec2-9acc-c2200a73ae85",
   "metadata": {},
   "source": [
    "![image.png](attachment:da6a7715-3b1c-4165-a2a9-4dc8ca096bd7.png)"
   ]
  },
  {
   "attachments": {
    "image.png": {
     "image/png": "[encoded data removed]"
    }
   },
   "cell_type": "markdown",
   "id": "3f18db3e-dbbe-4455-83b6-b4c25453dce7",
   "metadata": {},
   "source": [
    "![image.png](attachment:image.png)"
   ]
  },
  {
   "cell_type": "code",
   "execution_count": null,
   "id": "81b2a144",
   "metadata": {},
   "outputs": [],
   "source": [
    "lower_q = df[\"UN_Estimate\"].quantile(0.25)\n",
    "lower_q"
   ]
  },
  {
   "cell_type": "code",
   "execution_count": null,
   "id": "4d2d9908",
   "metadata": {},
   "outputs": [],
   "source": [
    "higher_q = df[\"UN_Estimate\"].quantile(0.75)\n",
    "higher_q"
   ]
  },
  {
   "cell_type": "code",
   "execution_count": null,
   "id": "aed82f2e-fa8f-48ab-9cea-3bce39b624c9",
   "metadata": {},
   "outputs": [],
   "source": [
    "iqr = higher_q - lower_q\n",
    "iqr"
   ]
  },
  {
   "cell_type": "code",
   "execution_count": null,
   "id": "305e72f9-4175-4f5f-851d-336258aa84f8",
   "metadata": {},
   "outputs": [],
   "source": [
    "upper_boundary = higher_q + 1.5 * iqr\n",
    "upper_boundary"
   ]
  },
  {
   "cell_type": "code",
   "execution_count": null,
   "id": "f4c90c62-a405-4c6c-9ec4-b4f8af39c09c",
   "metadata": {},
   "outputs": [],
   "source": [
    "lower_boundary = lower_q - 1.5 * iqr\n",
    "lower_boundary"
   ]
  },
  {
   "cell_type": "code",
   "execution_count": null,
   "id": "76e66b47",
   "metadata": {},
   "outputs": [],
   "source": [
    "df_filtered = df[(df[\"UN_Estimate\"] < upper_boundary) & (df[\"UN_Estimate\"] > lower_boundary)]"
   ]
  },
  {
   "cell_type": "code",
   "execution_count": null,
   "id": "69e39033",
   "metadata": {},
   "outputs": [],
   "source": [
    "df_filtered.head()"
   ]
  },
  {
   "cell_type": "code",
   "execution_count": null,
   "id": "182221f6",
   "metadata": {},
   "outputs": [],
   "source": [
    "df_filtered.shape\n",
    "# there were 223 rows - 196 = 27 outliers dropped"
   ]
  },
  {
   "cell_type": "code",
   "execution_count": null,
   "id": "e1c70288",
   "metadata": {},
   "outputs": [],
   "source": [
    "df_filtered.UN_Estimate.mean()"
   ]
  },
  {
   "cell_type": "code",
   "execution_count": null,
   "id": "97b2a6f8-8898-4184-acca-922ca7a303b2",
   "metadata": {},
   "outputs": [],
   "source": [
    "df.UN_Estimate.mean()"
   ]
  },
  {
   "cell_type": "code",
   "execution_count": null,
   "id": "1dbffbdf",
   "metadata": {},
   "outputs": [],
   "source": [
    "#how can we create a table with following \n",
    "df_filtered.WorldBank_Estimate.mean()"
   ]
  },
  {
   "cell_type": "code",
   "execution_count": null,
   "id": "17da2063-80e6-4530-b3f3-dd8af25402af",
   "metadata": {},
   "outputs": [],
   "source": [
    "df.WorldBank_Estimate.mean()"
   ]
  },
  {
   "cell_type": "code",
   "execution_count": null,
   "id": "6fee31d1",
   "metadata": {},
   "outputs": [],
   "source": [
    "df_filtered.IMF_Estimate.mean()"
   ]
  },
  {
   "cell_type": "code",
   "execution_count": null,
   "id": "7ed56b48-b1a1-4e70-b9cb-fecc961f2993",
   "metadata": {},
   "outputs": [],
   "source": [
    "df.IMF_Estimate.mean()"
   ]
  }
 ],
 "metadata": {
  "kernelspec": {
   "display_name": "pip_install",
   "language": "python",
   "name": "python3"
  },
  "language_info": {
   "codemirror_mode": {
    "name": "ipython",
    "version": 3
   },
   "file_extension": ".py",
   "mimetype": "text/x-python",
   "name": "python",
   "nbconvert_exporter": "python",
   "pygments_lexer": "ipython3",
   "version": "3.13.2"
  }
 },
 "nbformat": 4,
 "nbformat_minor": 5
}
